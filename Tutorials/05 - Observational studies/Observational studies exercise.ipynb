{
 "cells": [
  {
   "cell_type": "markdown",
   "metadata": {},
   "source": [
    "### Welcome to the exercise about observational studies! This exercise will be hands on, and you will be able to practise the skills you developed so far!"
   ]
  },
  {
   "cell_type": "markdown",
   "metadata": {},
   "source": [
    "## Propensity score matching\n",
    "\n",
    "In this exercise, you will apply [propensity score matching](http://www.stewartschultz.com/statistics/books/Design%20of%20observational%20studies.pdf), which we discussed in lecture 6 (\"Observational studies\"), in order to draw conclusions from an observational study.\n",
    "\n",
    "We will work with a by-now classic dataset from Robert LaLonde's study \"[Evaluating the Econometric Evaluations of Training Programs](http://people.hbs.edu/nashraf/LaLonde_1986.pdf)\" (1986).\n",
    "The study investigated the effect of a job training program (\"National Supported Work Demonstration\") on the real earnings of an individual, a couple of years after completion of the program.\n",
    "Your task is to determine the effectiveness of the \"treatment\" represented by the job training program."
   ]
  },
  {
   "cell_type": "markdown",
   "metadata": {},
   "source": [
    "#### Dataset description\n",
    "\n",
    "- `treat`: 1 if the subject participated in the job training program, 0 otherwise\n",
    "- `age`: the subject's age\n",
    "- `educ`: years of education\n",
    "- `race`: categorical variable with three possible values: Black, Hispanic, or White\n",
    "- `married`: 1 if the subject was married at the time of the training program, 0 otherwise\n",
    "- `nodegree`: 1 if the subject has earned no school degree, 0 otherwise\n",
    "- `re74`: real earnings in 1974 (pre-treatment)\n",
    "- `re75`: real earnings in 1975 (pre-treatment)\n",
    "- `re78`: real earnings in 1978 (outcome)"
   ]
  },
  {
   "cell_type": "markdown",
   "metadata": {},
   "source": [
    "If you want to deepen your knowledge on propensity scores and observational studies, we highly recommend Rosenbaum's excellent book on the [\"Design of Observational Studies\"](http://www.stewartschultz.com/statistics/books/Design%20of%20observational%20studies.pdf). Even just reading the first chapter (18 pages) will help you a lot."
   ]
  },
  {
   "cell_type": "code",
   "execution_count": 1,
   "metadata": {},
   "outputs": [],
   "source": [
    "import pandas as pd\n",
    "import pandas as pd\n",
    "import numpy as np\n",
    "import matplotlib.pyplot as plt\n",
    "import seaborn as sns\n",
    "import networkx as nx\n",
    "import statsmodels.api as sm\n",
    "import statsmodels.formula.api as smf\n",
    "%matplotlib inline\n",
    "\n",
    "data_folder = './data/'\n",
    "df = pd.read_csv(data_folder + 'lalonde.csv')"
   ]
  },
  {
   "cell_type": "code",
   "execution_count": 2,
   "metadata": {},
   "outputs": [
    {
     "data": {
      "text/html": [
       "<div>\n",
       "<style scoped>\n",
       "    .dataframe tbody tr th:only-of-type {\n",
       "        vertical-align: middle;\n",
       "    }\n",
       "\n",
       "    .dataframe tbody tr th {\n",
       "        vertical-align: top;\n",
       "    }\n",
       "\n",
       "    .dataframe thead th {\n",
       "        text-align: right;\n",
       "    }\n",
       "</style>\n",
       "<table border=\"1\" class=\"dataframe\">\n",
       "  <thead>\n",
       "    <tr style=\"text-align: right;\">\n",
       "      <th></th>\n",
       "      <th>id</th>\n",
       "      <th>treat</th>\n",
       "      <th>age</th>\n",
       "      <th>educ</th>\n",
       "      <th>black</th>\n",
       "      <th>hispan</th>\n",
       "      <th>married</th>\n",
       "      <th>nodegree</th>\n",
       "      <th>re74</th>\n",
       "      <th>re75</th>\n",
       "      <th>re78</th>\n",
       "    </tr>\n",
       "  </thead>\n",
       "  <tbody>\n",
       "    <tr>\n",
       "      <th>45</th>\n",
       "      <td>NSW46</td>\n",
       "      <td>1</td>\n",
       "      <td>25</td>\n",
       "      <td>11</td>\n",
       "      <td>1</td>\n",
       "      <td>0</td>\n",
       "      <td>1</td>\n",
       "      <td>1</td>\n",
       "      <td>0.0000</td>\n",
       "      <td>0.0000</td>\n",
       "      <td>0.000</td>\n",
       "    </tr>\n",
       "    <tr>\n",
       "      <th>401</th>\n",
       "      <td>PSID217</td>\n",
       "      <td>0</td>\n",
       "      <td>32</td>\n",
       "      <td>16</td>\n",
       "      <td>1</td>\n",
       "      <td>0</td>\n",
       "      <td>0</td>\n",
       "      <td>0</td>\n",
       "      <td>17135.7500</td>\n",
       "      <td>1031.2260</td>\n",
       "      <td>0.000</td>\n",
       "    </tr>\n",
       "    <tr>\n",
       "      <th>9</th>\n",
       "      <td>NSW10</td>\n",
       "      <td>1</td>\n",
       "      <td>33</td>\n",
       "      <td>12</td>\n",
       "      <td>0</td>\n",
       "      <td>0</td>\n",
       "      <td>1</td>\n",
       "      <td>0</td>\n",
       "      <td>0.0000</td>\n",
       "      <td>0.0000</td>\n",
       "      <td>12418.070</td>\n",
       "    </tr>\n",
       "    <tr>\n",
       "      <th>494</th>\n",
       "      <td>PSID310</td>\n",
       "      <td>0</td>\n",
       "      <td>23</td>\n",
       "      <td>11</td>\n",
       "      <td>0</td>\n",
       "      <td>0</td>\n",
       "      <td>1</td>\n",
       "      <td>1</td>\n",
       "      <td>8910.7450</td>\n",
       "      <td>0.0000</td>\n",
       "      <td>4183.444</td>\n",
       "    </tr>\n",
       "    <tr>\n",
       "      <th>347</th>\n",
       "      <td>PSID163</td>\n",
       "      <td>0</td>\n",
       "      <td>48</td>\n",
       "      <td>8</td>\n",
       "      <td>0</td>\n",
       "      <td>0</td>\n",
       "      <td>1</td>\n",
       "      <td>1</td>\n",
       "      <td>16050.3100</td>\n",
       "      <td>2116.1610</td>\n",
       "      <td>11600.150</td>\n",
       "    </tr>\n",
       "    <tr>\n",
       "      <th>388</th>\n",
       "      <td>PSID204</td>\n",
       "      <td>0</td>\n",
       "      <td>45</td>\n",
       "      <td>12</td>\n",
       "      <td>0</td>\n",
       "      <td>0</td>\n",
       "      <td>1</td>\n",
       "      <td>0</td>\n",
       "      <td>16559.7200</td>\n",
       "      <td>1265.7580</td>\n",
       "      <td>7987.112</td>\n",
       "    </tr>\n",
       "    <tr>\n",
       "      <th>112</th>\n",
       "      <td>NSW113</td>\n",
       "      <td>1</td>\n",
       "      <td>20</td>\n",
       "      <td>12</td>\n",
       "      <td>1</td>\n",
       "      <td>0</td>\n",
       "      <td>0</td>\n",
       "      <td>0</td>\n",
       "      <td>989.2678</td>\n",
       "      <td>165.2077</td>\n",
       "      <td>0.000</td>\n",
       "    </tr>\n",
       "    <tr>\n",
       "      <th>151</th>\n",
       "      <td>NSW152</td>\n",
       "      <td>1</td>\n",
       "      <td>24</td>\n",
       "      <td>12</td>\n",
       "      <td>1</td>\n",
       "      <td>0</td>\n",
       "      <td>0</td>\n",
       "      <td>0</td>\n",
       "      <td>13765.7500</td>\n",
       "      <td>2842.7640</td>\n",
       "      <td>6167.681</td>\n",
       "    </tr>\n",
       "    <tr>\n",
       "      <th>223</th>\n",
       "      <td>PSID39</td>\n",
       "      <td>0</td>\n",
       "      <td>49</td>\n",
       "      <td>8</td>\n",
       "      <td>0</td>\n",
       "      <td>0</td>\n",
       "      <td>1</td>\n",
       "      <td>1</td>\n",
       "      <td>6459.7030</td>\n",
       "      <td>7431.6290</td>\n",
       "      <td>7503.896</td>\n",
       "    </tr>\n",
       "    <tr>\n",
       "      <th>553</th>\n",
       "      <td>PSID369</td>\n",
       "      <td>0</td>\n",
       "      <td>16</td>\n",
       "      <td>8</td>\n",
       "      <td>0</td>\n",
       "      <td>0</td>\n",
       "      <td>0</td>\n",
       "      <td>1</td>\n",
       "      <td>0.0000</td>\n",
       "      <td>0.0000</td>\n",
       "      <td>0.000</td>\n",
       "    </tr>\n",
       "  </tbody>\n",
       "</table>\n",
       "</div>"
      ],
      "text/plain": [
       "          id  treat  age  educ  black  hispan  married  nodegree        re74  \\\n",
       "45     NSW46      1   25    11      1       0        1         1      0.0000   \n",
       "401  PSID217      0   32    16      1       0        0         0  17135.7500   \n",
       "9      NSW10      1   33    12      0       0        1         0      0.0000   \n",
       "494  PSID310      0   23    11      0       0        1         1   8910.7450   \n",
       "347  PSID163      0   48     8      0       0        1         1  16050.3100   \n",
       "388  PSID204      0   45    12      0       0        1         0  16559.7200   \n",
       "112   NSW113      1   20    12      1       0        0         0    989.2678   \n",
       "151   NSW152      1   24    12      1       0        0         0  13765.7500   \n",
       "223   PSID39      0   49     8      0       0        1         1   6459.7030   \n",
       "553  PSID369      0   16     8      0       0        0         1      0.0000   \n",
       "\n",
       "          re75       re78  \n",
       "45      0.0000      0.000  \n",
       "401  1031.2260      0.000  \n",
       "9       0.0000  12418.070  \n",
       "494     0.0000   4183.444  \n",
       "347  2116.1610  11600.150  \n",
       "388  1265.7580   7987.112  \n",
       "112   165.2077      0.000  \n",
       "151  2842.7640   6167.681  \n",
       "223  7431.6290   7503.896  \n",
       "553     0.0000      0.000  "
      ]
     },
     "execution_count": 2,
     "metadata": {},
     "output_type": "execute_result"
    }
   ],
   "source": [
    "df.sample(10)"
   ]
  },
  {
   "cell_type": "code",
   "execution_count": 3,
   "metadata": {},
   "outputs": [],
   "source": [
    "job_training = df[df['treat']==1]\n",
    "no_training = df[df['treat']==0]"
   ]
  },
  {
   "cell_type": "markdown",
   "metadata": {},
   "source": [
    "## 1. A naive analysis\n",
    "\n",
    "Compare the distribution of the outcome variable (`re78`) between the two groups, using plots and numbers.\n",
    "To summarize and compare the distributions, you may use the techniques we discussed in lecture 4 (\"Descibing data\") and 3 (\"Visualizing data\").\n",
    "\n",
    "What might a naive \"researcher\" conclude from this superficial analysis?"
   ]
  },
  {
   "cell_type": "code",
   "execution_count": 4,
   "metadata": {},
   "outputs": [
    {
     "name": "stdout",
     "output_type": "stream",
     "text": [
      "185\n",
      "429\n"
     ]
    }
   ],
   "source": [
    "print(len(job_training['re78']))\n",
    "print(len(no_training['re78']))"
   ]
  },
  {
   "cell_type": "code",
   "execution_count": 5,
   "metadata": {},
   "outputs": [
    {
     "name": "stdout",
     "output_type": "stream",
     "text": [
      "6349.143530270269\n",
      "6984.169742307697\n"
     ]
    }
   ],
   "source": [
    "print(job_training['re78'].mean())\n",
    "print(no_training['re78'].mean())"
   ]
  },
  {
   "cell_type": "code",
   "execution_count": 6,
   "metadata": {},
   "outputs": [
    {
     "name": "stdout",
     "output_type": "stream",
     "text": [
      "4232.309\n",
      "4975.505\n"
     ]
    }
   ],
   "source": [
    "print(job_training['re78'].median())\n",
    "print(no_training['re78'].median())"
   ]
  },
  {
   "cell_type": "code",
   "execution_count": 7,
   "metadata": {},
   "outputs": [
    {
     "data": {
      "text/plain": [
       "count      185.000000\n",
       "mean      6349.143530\n",
       "std       7867.402218\n",
       "min          0.000000\n",
       "25%        485.229800\n",
       "50%       4232.309000\n",
       "75%       9642.999000\n",
       "max      60307.930000\n",
       "Name: re78, dtype: float64"
      ]
     },
     "execution_count": 7,
     "metadata": {},
     "output_type": "execute_result"
    }
   ],
   "source": [
    "job_training['re78'].describe()"
   ]
  },
  {
   "cell_type": "code",
   "execution_count": 8,
   "metadata": {},
   "outputs": [
    {
     "data": {
      "text/plain": [
       "count      429.000000\n",
       "mean      6984.169742\n",
       "std       7294.161791\n",
       "min          0.000000\n",
       "25%        220.181300\n",
       "50%       4975.505000\n",
       "75%      11688.820000\n",
       "max      25564.670000\n",
       "Name: re78, dtype: float64"
      ]
     },
     "execution_count": 8,
     "metadata": {},
     "output_type": "execute_result"
    }
   ],
   "source": [
    "no_training['re78'].describe()"
   ]
  },
  {
   "cell_type": "code",
   "execution_count": 9,
   "metadata": {},
   "outputs": [
    {
     "data": {
      "image/png": "[encoded data removed]",
      "text/plain": [
       "<Figure size 432x288 with 2 Axes>"
      ]
     },
     "metadata": {
      "needs_background": "light"
     },
     "output_type": "display_data"
    }
   ],
   "source": [
    "fig, (ax1, ax2) = plt.subplots(1,2,sharex=True,sharey=True)\n",
    "shared_bins = [0 + 3000*x for x in range(20)]\n",
    "ax1.hist(job_training['re78'], bins=shared_bins)\n",
    "ax1.set_title('with training')\n",
    "ax2.hist(no_training['re78'], bins=shared_bins)\n",
    "ax2.set_title('without training');"
   ]
  },
  {
   "cell_type": "code",
   "execution_count": 10,
   "metadata": {},
   "outputs": [
    {
     "data": {
      "text/plain": [
       "<AxesSubplot:>"
      ]
     },
     "execution_count": 10,
     "metadata": {},
     "output_type": "execute_result"
    },
    {
     "data": {
      "image/png": "[encoded data removed]",
      "text/plain": [
       "<Figure size 432x288 with 1 Axes>"
      ]
     },
     "metadata": {
      "needs_background": "light"
     },
     "output_type": "display_data"
    }
   ],
   "source": [
    "sns.boxplot(\n",
    "    data=[job_training['re78'], no_training['re78']]\n",
    ")"
   ]
  },
  {
   "cell_type": "markdown",
   "metadata": {},
   "source": [
    "## 2. A closer look at the data\n",
    "\n",
    "You're not naive, of course (and even if you are, you've learned certain things in ADA), so you aren't content with a superficial analysis such as the above.\n",
    "You're aware of the dangers of observational studies, so you take a closer look at the data before jumping to conclusions.\n",
    "\n",
    "For each feature in the dataset, compare its distribution in the treated group with its distribution in the control group, using plots and numbers.\n",
    "As above, you may use the techniques we discussed in class for summarizing and comparing the distributions.\n",
    "\n",
    "What do you observe?\n",
    "Describe what your observations mean for the conclusions drawn by the naive \"researcher\" from his superficial analysis."
   ]
  },
  {
   "cell_type": "code",
   "execution_count": 11,
   "metadata": {},
   "outputs": [
    {
     "data": {
      "text/html": [
       "<div>\n",
       "<style scoped>\n",
       "    .dataframe tbody tr th:only-of-type {\n",
       "        vertical-align: middle;\n",
       "    }\n",
       "\n",
       "    .dataframe tbody tr th {\n",
       "        vertical-align: top;\n",
       "    }\n",
       "\n",
       "    .dataframe thead th {\n",
       "        text-align: right;\n",
       "    }\n",
       "</style>\n",
       "<table border=\"1\" class=\"dataframe\">\n",
       "  <thead>\n",
       "    <tr style=\"text-align: right;\">\n",
       "      <th></th>\n",
       "      <th>id_x</th>\n",
       "      <th>treat_x</th>\n",
       "      <th>age_x</th>\n",
       "      <th>educ_x</th>\n",
       "      <th>black_x</th>\n",
       "      <th>hispan_x</th>\n",
       "      <th>married_x</th>\n",
       "      <th>nodegree_x</th>\n",
       "      <th>re74_x</th>\n",
       "      <th>re75_x</th>\n",
       "      <th>...</th>\n",
       "      <th>treat_y</th>\n",
       "      <th>age_y</th>\n",
       "      <th>educ_y</th>\n",
       "      <th>black_y</th>\n",
       "      <th>hispan_y</th>\n",
       "      <th>married_y</th>\n",
       "      <th>nodegree_y</th>\n",
       "      <th>re74_y</th>\n",
       "      <th>re75_y</th>\n",
       "      <th>re78_y</th>\n",
       "    </tr>\n",
       "  </thead>\n",
       "  <tbody>\n",
       "    <tr>\n",
       "      <th>0</th>\n",
       "      <td>NSW1</td>\n",
       "      <td>1.0</td>\n",
       "      <td>37.0</td>\n",
       "      <td>11.0</td>\n",
       "      <td>1.0</td>\n",
       "      <td>0.0</td>\n",
       "      <td>1.0</td>\n",
       "      <td>1.0</td>\n",
       "      <td>0.0</td>\n",
       "      <td>0.0</td>\n",
       "      <td>...</td>\n",
       "      <td>NaN</td>\n",
       "      <td>NaN</td>\n",
       "      <td>NaN</td>\n",
       "      <td>NaN</td>\n",
       "      <td>NaN</td>\n",
       "      <td>NaN</td>\n",
       "      <td>NaN</td>\n",
       "      <td>NaN</td>\n",
       "      <td>NaN</td>\n",
       "      <td>NaN</td>\n",
       "    </tr>\n",
       "    <tr>\n",
       "      <th>1</th>\n",
       "      <td>NSW2</td>\n",
       "      <td>1.0</td>\n",
       "      <td>22.0</td>\n",
       "      <td>9.0</td>\n",
       "      <td>0.0</td>\n",
       "      <td>1.0</td>\n",
       "      <td>0.0</td>\n",
       "      <td>1.0</td>\n",
       "      <td>0.0</td>\n",
       "      <td>0.0</td>\n",
       "      <td>...</td>\n",
       "      <td>NaN</td>\n",
       "      <td>NaN</td>\n",
       "      <td>NaN</td>\n",
       "      <td>NaN</td>\n",
       "      <td>NaN</td>\n",
       "      <td>NaN</td>\n",
       "      <td>NaN</td>\n",
       "      <td>NaN</td>\n",
       "      <td>NaN</td>\n",
       "      <td>NaN</td>\n",
       "    </tr>\n",
       "    <tr>\n",
       "      <th>2</th>\n",
       "      <td>NSW3</td>\n",
       "      <td>1.0</td>\n",
       "      <td>30.0</td>\n",
       "      <td>12.0</td>\n",
       "      <td>1.0</td>\n",
       "      <td>0.0</td>\n",
       "      <td>0.0</td>\n",
       "      <td>0.0</td>\n",
       "      <td>0.0</td>\n",
       "      <td>0.0</td>\n",
       "      <td>...</td>\n",
       "      <td>NaN</td>\n",
       "      <td>NaN</td>\n",
       "      <td>NaN</td>\n",
       "      <td>NaN</td>\n",
       "      <td>NaN</td>\n",
       "      <td>NaN</td>\n",
       "      <td>NaN</td>\n",
       "      <td>NaN</td>\n",
       "      <td>NaN</td>\n",
       "      <td>NaN</td>\n",
       "    </tr>\n",
       "    <tr>\n",
       "      <th>3</th>\n",
       "      <td>NSW4</td>\n",
       "      <td>1.0</td>\n",
       "      <td>27.0</td>\n",
       "      <td>11.0</td>\n",
       "      <td>1.0</td>\n",
       "      <td>0.0</td>\n",
       "      <td>0.0</td>\n",
       "      <td>1.0</td>\n",
       "      <td>0.0</td>\n",
       "      <td>0.0</td>\n",
       "      <td>...</td>\n",
       "      <td>NaN</td>\n",
       "      <td>NaN</td>\n",
       "      <td>NaN</td>\n",
       "      <td>NaN</td>\n",
       "      <td>NaN</td>\n",
       "      <td>NaN</td>\n",
       "      <td>NaN</td>\n",
       "      <td>NaN</td>\n",
       "      <td>NaN</td>\n",
       "      <td>NaN</td>\n",
       "    </tr>\n",
       "    <tr>\n",
       "      <th>4</th>\n",
       "      <td>NSW5</td>\n",
       "      <td>1.0</td>\n",
       "      <td>33.0</td>\n",
       "      <td>8.0</td>\n",
       "      <td>1.0</td>\n",
       "      <td>0.0</td>\n",
       "      <td>0.0</td>\n",
       "      <td>1.0</td>\n",
       "      <td>0.0</td>\n",
       "      <td>0.0</td>\n",
       "      <td>...</td>\n",
       "      <td>NaN</td>\n",
       "      <td>NaN</td>\n",
       "      <td>NaN</td>\n",
       "      <td>NaN</td>\n",
       "      <td>NaN</td>\n",
       "      <td>NaN</td>\n",
       "      <td>NaN</td>\n",
       "      <td>NaN</td>\n",
       "      <td>NaN</td>\n",
       "      <td>NaN</td>\n",
       "    </tr>\n",
       "  </tbody>\n",
       "</table>\n",
       "<p>5 rows × 22 columns</p>\n",
       "</div>"
      ],
      "text/plain": [
       "   id_x  treat_x  age_x  educ_x  black_x  hispan_x  married_x  nodegree_x  \\\n",
       "0  NSW1      1.0   37.0    11.0      1.0       0.0        1.0         1.0   \n",
       "1  NSW2      1.0   22.0     9.0      0.0       1.0        0.0         1.0   \n",
       "2  NSW3      1.0   30.0    12.0      1.0       0.0        0.0         0.0   \n",
       "3  NSW4      1.0   27.0    11.0      1.0       0.0        0.0         1.0   \n",
       "4  NSW5      1.0   33.0     8.0      1.0       0.0        0.0         1.0   \n",
       "\n",
       "   re74_x  re75_x  ...  treat_y age_y  educ_y  black_y  hispan_y  married_y  \\\n",
       "0     0.0     0.0  ...      NaN   NaN     NaN      NaN       NaN        NaN   \n",
       "1     0.0     0.0  ...      NaN   NaN     NaN      NaN       NaN        NaN   \n",
       "2     0.0     0.0  ...      NaN   NaN     NaN      NaN       NaN        NaN   \n",
       "3     0.0     0.0  ...      NaN   NaN     NaN      NaN       NaN        NaN   \n",
       "4     0.0     0.0  ...      NaN   NaN     NaN      NaN       NaN        NaN   \n",
       "\n",
       "   nodegree_y  re74_y  re75_y  re78_y  \n",
       "0         NaN     NaN     NaN     NaN  \n",
       "1         NaN     NaN     NaN     NaN  \n",
       "2         NaN     NaN     NaN     NaN  \n",
       "3         NaN     NaN     NaN     NaN  \n",
       "4         NaN     NaN     NaN     NaN  \n",
       "\n",
       "[5 rows x 22 columns]"
      ]
     },
     "execution_count": 11,
     "metadata": {},
     "output_type": "execute_result"
    }
   ],
   "source": [
    "total_df = job_training.merge(no_training, left_index=True, right_index=True, how='outer', suffixes=('_x', '_y'))\n",
    "total_df.head()"
   ]
  },
  {
   "cell_type": "code",
   "execution_count": 12,
   "metadata": {},
   "outputs": [
    {
     "data": {
      "text/plain": [
       "<seaborn.axisgrid.PairGrid at 0x7ff1f132f580>"
      ]
     },
     "execution_count": 12,
     "metadata": {},
     "output_type": "execute_result"
    },
    {
     "data": {
      "image/png": "[encoded data removed]",
      "text/plain": [
       "<Figure size 1980x1980 with 121 Axes>"
      ]
     },
     "metadata": {
      "needs_background": "light"
     },
     "output_type": "display_data"
    }
   ],
   "source": [
    "sns.pairplot(\n",
    "    data=total_df,\n",
    "    x_vars = [col+'_x' for col in job_training.columns],\n",
    "    y_vars = [col+'_y' for col in job_training.columns]\n",
    ")"
   ]
  },
  {
   "cell_type": "markdown",
   "metadata": {},
   "source": [
    "## 3. A propensity score model\n",
    "\n",
    "Use logistic regression to estimate propensity scores for all points in the dataset.\n",
    "You may use `statsmodels` to fit the logistic regression model and apply it to each data point to obtain propensity scores.\n",
    "\n",
    "Recall that the propensity score of a data point represents its probability of receiving the treatment, based on its pre-treatment features (in this case, age, education, pre-treatment income, etc.).\n",
    "To brush up on propensity scores, you may read chapter 3.3 of the above-cited book by Rosenbaum or [this article](https://www.ncbi.nlm.nih.gov/pmc/articles/PMC3144483/pdf/hmbr46-399.pdf).\n",
    "\n",
    "Note: you do not need a train/test split here. Train and apply the model on the entire dataset. If you're wondering why this is the right thing to do in this situation, recall that the propensity score model is not used in order to make predictions about unseen data. Its sole purpose is to balance the dataset across treatment groups.\n",
    "(See p. 74 of Rosenbaum's book for an explanation why slight overfitting is even good for propensity scores.\n",
    "If you want even more information, read [this article](https://www.ncbi.nlm.nih.gov/pmc/articles/PMC3144483/pdf/hmbr46-399.pdf).)"
   ]
  },
  {
   "cell_type": "code",
   "execution_count": 13,
   "metadata": {},
   "outputs": [
    {
     "name": "stdout",
     "output_type": "stream",
     "text": [
      "Optimization terminated successfully.\n",
      "         Current function value: 0.397267\n",
      "         Iterations 7\n",
      "                           Logit Regression Results                           \n",
      "==============================================================================\n",
      "Dep. Variable:                  treat   No. Observations:                  614\n",
      "Model:                          Logit   Df Residuals:                      605\n",
      "Method:                           MLE   Df Model:                            8\n",
      "Date:                Thu, 04 Nov 2021   Pseudo R-squ.:                  0.3508\n",
      "Time:                        19:57:34   Log-Likelihood:                -243.92\n",
      "converged:                       True   LL-Null:                       -375.75\n",
      "Covariance Type:            nonrobust   LLR p-value:                 2.194e-52\n",
      "====================================================================================\n",
      "                       coef    std err          z      P>|z|      [0.025      0.975]\n",
      "------------------------------------------------------------------------------------\n",
      "Intercept           -4.7286      1.017     -4.649      0.000      -6.722      -2.735\n",
      "C(black)[T.1]        3.0654      0.287     10.698      0.000       2.504       3.627\n",
      "C(hispan)[T.1]       0.9836      0.426      2.311      0.021       0.149       1.818\n",
      "C(married)[T.1]     -0.8321      0.290     -2.866      0.004      -1.401      -0.263\n",
      "C(nodegree)[T.1]     0.7073      0.338      2.095      0.036       0.045       1.369\n",
      "age                  0.0158      0.014      1.162      0.245      -0.011       0.042\n",
      "educ                 0.1613      0.065      2.477      0.013       0.034       0.289\n",
      "re74             -7.178e-05   2.87e-05     -2.497      0.013      -0.000   -1.54e-05\n",
      "re75              5.345e-05   4.63e-05      1.153      0.249   -3.74e-05       0.000\n",
      "====================================================================================\n"
     ]
    }
   ],
   "source": [
    "mod = smf.logit(formula='treat ~  age + educ + C(black) + C(hispan)  + C(married) + C(nodegree) + \\\n",
    "        +re74 + re75', data=df)\n",
    "\n",
    "res = mod.fit()\n",
    "\n",
    "# Extract the estimated propensity scores\n",
    "df['Propensity_score'] = res.predict()\n",
    "\n",
    "print(res.summary())\n"
   ]
  },
  {
   "cell_type": "code",
   "execution_count": 14,
   "metadata": {},
   "outputs": [
    {
     "data": {
      "text/html": [
       "<div>\n",
       "<style scoped>\n",
       "    .dataframe tbody tr th:only-of-type {\n",
       "        vertical-align: middle;\n",
       "    }\n",
       "\n",
       "    .dataframe tbody tr th {\n",
       "        vertical-align: top;\n",
       "    }\n",
       "\n",
       "    .dataframe thead th {\n",
       "        text-align: right;\n",
       "    }\n",
       "</style>\n",
       "<table border=\"1\" class=\"dataframe\">\n",
       "  <thead>\n",
       "    <tr style=\"text-align: right;\">\n",
       "      <th></th>\n",
       "      <th>id</th>\n",
       "      <th>treat</th>\n",
       "      <th>age</th>\n",
       "      <th>educ</th>\n",
       "      <th>black</th>\n",
       "      <th>hispan</th>\n",
       "      <th>married</th>\n",
       "      <th>nodegree</th>\n",
       "      <th>re74</th>\n",
       "      <th>re75</th>\n",
       "      <th>re78</th>\n",
       "      <th>Propensity_score</th>\n",
       "    </tr>\n",
       "  </thead>\n",
       "  <tbody>\n",
       "    <tr>\n",
       "      <th>382</th>\n",
       "      <td>PSID198</td>\n",
       "      <td>0</td>\n",
       "      <td>21</td>\n",
       "      <td>14</td>\n",
       "      <td>0</td>\n",
       "      <td>0</td>\n",
       "      <td>0</td>\n",
       "      <td>0</td>\n",
       "      <td>8456.196</td>\n",
       "      <td>1330.210</td>\n",
       "      <td>16967.26</td>\n",
       "      <td>0.064471</td>\n",
       "    </tr>\n",
       "    <tr>\n",
       "      <th>20</th>\n",
       "      <td>NSW21</td>\n",
       "      <td>1</td>\n",
       "      <td>23</td>\n",
       "      <td>11</td>\n",
       "      <td>1</td>\n",
       "      <td>0</td>\n",
       "      <td>0</td>\n",
       "      <td>1</td>\n",
       "      <td>0.000</td>\n",
       "      <td>0.000</td>\n",
       "      <td>0.00</td>\n",
       "      <td>0.765175</td>\n",
       "    </tr>\n",
       "    <tr>\n",
       "      <th>228</th>\n",
       "      <td>PSID44</td>\n",
       "      <td>0</td>\n",
       "      <td>21</td>\n",
       "      <td>12</td>\n",
       "      <td>0</td>\n",
       "      <td>0</td>\n",
       "      <td>1</td>\n",
       "      <td>0</td>\n",
       "      <td>13601.230</td>\n",
       "      <td>7202.468</td>\n",
       "      <td>10746.03</td>\n",
       "      <td>0.020133</td>\n",
       "    </tr>\n",
       "    <tr>\n",
       "      <th>275</th>\n",
       "      <td>PSID91</td>\n",
       "      <td>0</td>\n",
       "      <td>30</td>\n",
       "      <td>16</td>\n",
       "      <td>0</td>\n",
       "      <td>0</td>\n",
       "      <td>0</td>\n",
       "      <td>0</td>\n",
       "      <td>3093.682</td>\n",
       "      <td>4468.645</td>\n",
       "      <td>15538.29</td>\n",
       "      <td>0.160078</td>\n",
       "    </tr>\n",
       "    <tr>\n",
       "      <th>207</th>\n",
       "      <td>PSID23</td>\n",
       "      <td>0</td>\n",
       "      <td>36</td>\n",
       "      <td>12</td>\n",
       "      <td>0</td>\n",
       "      <td>0</td>\n",
       "      <td>1</td>\n",
       "      <td>0</td>\n",
       "      <td>25535.120</td>\n",
       "      <td>8695.597</td>\n",
       "      <td>21905.82</td>\n",
       "      <td>0.011830</td>\n",
       "    </tr>\n",
       "  </tbody>\n",
       "</table>\n",
       "</div>"
      ],
      "text/plain": [
       "          id  treat  age  educ  black  hispan  married  nodegree       re74  \\\n",
       "382  PSID198      0   21    14      0       0        0         0   8456.196   \n",
       "20     NSW21      1   23    11      1       0        0         1      0.000   \n",
       "228   PSID44      0   21    12      0       0        1         0  13601.230   \n",
       "275   PSID91      0   30    16      0       0        0         0   3093.682   \n",
       "207   PSID23      0   36    12      0       0        1         0  25535.120   \n",
       "\n",
       "         re75      re78  Propensity_score  \n",
       "382  1330.210  16967.26          0.064471  \n",
       "20      0.000      0.00          0.765175  \n",
       "228  7202.468  10746.03          0.020133  \n",
       "275  4468.645  15538.29          0.160078  \n",
       "207  8695.597  21905.82          0.011830  "
      ]
     },
     "execution_count": 14,
     "metadata": {},
     "output_type": "execute_result"
    }
   ],
   "source": [
    "df.sample(5)"
   ]
  },
  {
   "cell_type": "markdown",
   "metadata": {},
   "source": [
    "## 4. Balancing the dataset via matching\n",
    "\n",
    "Use the propensity scores to match each data point from the treated group with exactly one data point from the control group, while ensuring that each data point from the control group is matched with at most one data point from the treated group.\n",
    "(Hint: you may explore the `networkx` package in Python for predefined matching functions.)\n",
    "\n",
    "Your matching should maximize the similarity between matched subjects, as captured by their propensity scores.\n",
    "In other words, the sum (over all matched pairs) of absolute propensity-score differences between the two matched subjects should be minimized.\n",
    "\n",
    "This is how networkx library can help you do this. Each possible pair of (treated_person, control_person) is characterized by a similarity. This is how we can initialize a graph, and add an edge for one possible pair. We then need to add an edge for each possible pair.\n",
    "    - G = nx.Graph()\n",
    "    - G.add_weighted_edges_from([(control_person, treated_person, similarity)])\n",
    "Optimal matching is then found with:\n",
    "    - matching = nx.max_weight_matching(G)\n",
    "\n",
    "After matching, you have as many treated as you have control subjects.\n",
    "Compare the outcomes (`re78`) between the two groups (treated and control).\n",
    "\n",
    "Also, compare again the feature-value distributions between the two groups, as you've done in part 2 above, but now only for the matched subjects.\n",
    "What do you observe?\n",
    "Are you closer to being able to draw valid conclusions now than you were before?"
   ]
  },
  {
   "cell_type": "code",
   "execution_count": 16,
   "metadata": {},
   "outputs": [],
   "source": [
    "job_training = df[df['treat']==1]\n",
    "no_training = df[df['treat']==0]"
   ]
  },
  {
   "cell_type": "code",
   "execution_count": 17,
   "metadata": {},
   "outputs": [],
   "source": [
    "G = nx.Graph()\n",
    "for _, treat in job_training.iterrows():\n",
    "    for _, non_treat in no_training.iterrows():\n",
    "        G.add_weighted_edges_from([(non_treat['id'], treat['id'], 1 - abs(non_treat['Propensity_score'] - treat['Propensity_score']))]) \n",
    "matching = nx.max_weight_matching(G)"
   ]
  },
  {
   "cell_type": "code",
   "execution_count": 18,
   "metadata": {},
   "outputs": [
    {
     "name": "stdout",
     "output_type": "stream",
     "text": [
      "{('PSID386', 'NSW105'), ('PSID280', 'NSW114'), ('NSW142', 'PSID356'), ('NSW25', 'PSID411'), ('PSID352', 'NSW93'), ('NSW67', 'PSID291'), ('NSW102', 'PSID158'), ('PSID392', 'NSW92'), ('PSID367', 'NSW157'), ('NSW13', 'PSID171'), ('PSID140', 'NSW122'), ('NSW129', 'PSID183'), ('PSID127', 'NSW141'), ('PSID230', 'NSW169'), ('PSID272', 'NSW145'), ('PSID27', 'NSW185'), ('PSID428', 'NSW3'), ('NSW31', 'PSID406'), ('PSID234', 'NSW35'), ('PSID282', 'NSW172'), ('NSW73', 'PSID136'), ('NSW8', 'PSID118'), ('PSID373', 'NSW34'), ('NSW64', 'PSID256'), ('NSW46', 'PSID379'), ('PSID333', 'NSW39'), ('NSW176', 'PSID89'), ('PSID391', 'NSW108'), ('NSW91', 'PSID417'), ('NSW166', 'PSID160'), ('PSID239', 'NSW37'), ('PSID370', 'NSW159'), ('PSID185', 'NSW177'), ('NSW113', 'PSID164'), ('NSW81', 'PSID358'), ('NSW66', 'PSID375'), ('NSW106', 'PSID134'), ('NSW125', 'PSID156'), ('PSID218', 'NSW18'), ('NSW23', 'PSID161'), ('PSID227', 'NSW69'), ('NSW110', 'PSID46'), ('NSW184', 'PSID258'), ('NSW127', 'PSID404'), ('PSID187', 'NSW53'), ('PSID412', 'NSW30'), ('NSW74', 'PSID225'), ('PSID371', 'NSW162'), ('NSW165', 'PSID385'), ('PSID427', 'NSW87'), ('PSID98', 'NSW5'), ('PSID191', 'NSW131'), ('NSW161', 'PSID157'), ('PSID177', 'NSW100'), ('PSID203', 'NSW4'), ('NSW149', 'PSID348'), ('PSID409', 'NSW49'), ('NSW26', 'PSID170'), ('PSID424', 'NSW51'), ('PSID380', 'NSW174'), ('PSID384', 'NSW22'), ('NSW155', 'PSID290'), ('PSID207', 'NSW7'), ('NSW29', 'PSID278'), ('NSW168', 'PSID184'), ('PSID362', 'NSW132'), ('NSW170', 'PSID31'), ('PSID17', 'NSW28'), ('NSW95', 'PSID5'), ('PSID372', 'NSW78'), ('NSW116', 'PSID390'), ('NSW94', 'PSID69'), ('PSID274', 'NSW60'), ('NSW119', 'PSID354'), ('PSID238', 'NSW84'), ('PSID199', 'NSW65'), ('PSID408', 'NSW90'), ('NSW16', 'PSID99'), ('NSW9', 'PSID226'), ('PSID389', 'NSW88'), ('NSW61', 'PSID376'), ('PSID368', 'NSW144'), ('PSID265', 'NSW82'), ('PSID331', 'NSW38'), ('NSW178', 'PSID24'), ('PSID209', 'NSW20'), ('PSID192', 'NSW164'), ('NSW179', 'PSID365'), ('NSW118', 'PSID91'), ('PSID48', 'NSW128'), ('NSW71', 'PSID400'), ('NSW171', 'PSID330'), ('NSW42', 'PSID275'), ('PSID267', 'NSW150'), ('PSID228', 'NSW14'), ('PSID253', 'NSW97'), ('NSW77', 'PSID264'), ('NSW27', 'PSID6'), ('PSID334', 'NSW111'), ('NSW167', 'PSID395'), ('NSW56', 'PSID401'), ('NSW54', 'PSID308'), ('NSW148', 'PSID196'), ('PSID295', 'NSW59'), ('NSW40', 'PSID110'), ('NSW117', 'PSID339'), ('PSID266', 'NSW62'), ('NSW52', 'PSID335'), ('NSW183', 'PSID293'), ('PSID188', 'NSW163'), ('PSID109', 'NSW137'), ('PSID398', 'NSW47'), ('PSID425', 'NSW140'), ('NSW86', 'PSID289'), ('NSW70', 'PSID173'), ('PSID271', 'NSW135'), ('NSW136', 'PSID8'), ('PSID202', 'NSW182'), ('PSID345', 'NSW101'), ('PSID208', 'NSW79'), ('NSW180', 'PSID41'), ('NSW2', 'PSID241'), ('PSID423', 'NSW104'), ('PSID366', 'NSW143'), ('PSID159', 'NSW12'), ('NSW33', 'PSID351'), ('PSID205', 'NSW154'), ('NSW120', 'PSID76'), ('PSID94', 'NSW121'), ('PSID300', 'NSW11'), ('PSID388', 'NSW80'), ('NSW21', 'PSID179'), ('PSID410', 'NSW24'), ('PSID329', 'NSW151'), ('NSW146', 'PSID97'), ('NSW98', 'PSID268'), ('NSW133', 'PSID337'), ('NSW103', 'PSID381'), ('PSID361', 'NSW1'), ('PSID33', 'NSW124'), ('PSID138', 'NSW89'), ('PSID180', 'NSW152'), ('NSW57', 'PSID326'), ('PSID285', 'NSW147'), ('PSID353', 'NSW181'), ('PSID176', 'NSW96'), ('NSW19', 'PSID277'), ('NSW112', 'PSID79'), ('NSW17', 'PSID419'), ('PSID59', 'NSW175'), ('NSW85', 'PSID77'), ('NSW41', 'PSID341'), ('PSID111', 'NSW55'), ('NSW44', 'PSID251'), ('NSW153', 'PSID327'), ('PSID344', 'NSW10'), ('PSID15', 'NSW109'), ('PSID220', 'NSW139'), ('NSW75', 'PSID374'), ('NSW63', 'PSID96'), ('PSID399', 'NSW99'), ('PSID405', 'NSW173'), ('NSW68', 'PSID114'), ('NSW15', 'PSID281'), ('NSW36', 'PSID95'), ('NSW32', 'PSID150'), ('NSW45', 'PSID387'), ('NSW43', 'PSID217'), ('PSID342', 'NSW83'), ('PSID260', 'NSW134'), ('PSID100', 'NSW158'), ('NSW115', 'PSID84'), ('PSID186', 'NSW58'), ('NSW48', 'PSID420'), ('NSW138', 'PSID224'), ('PSID357', 'NSW160'), ('PSID416', 'NSW6'), ('NSW72', 'PSID231'), ('NSW76', 'PSID182'), ('PSID240', 'NSW126'), ('PSID323', 'NSW156'), ('PSID269', 'NSW123'), ('PSID66', 'NSW50'), ('NSW107', 'PSID189'), ('PSID355', 'NSW130')}\n"
     ]
    }
   ],
   "source": [
    "print(matching)"
   ]
  },
  {
   "cell_type": "markdown",
   "metadata": {},
   "source": [
    "## 5. Balancing the groups further\n",
    "\n",
    "Based on your comparison of feature-value distributions from part 4, are you fully satisfied with your matching?\n",
    "Would you say your dataset is sufficiently balanced?\n",
    "If not, in what ways could the \"balanced\" dataset you have obtained still not allow you to draw valid conclusions?\n",
    "\n",
    "Improve your matching by explicitly making sure that you match only subjects that have the same value for the problematic feature.\n",
    "Argue with numbers and plots that the two groups (treated and control) are now better balanced than after part 4.\n"
   ]
  },
  {
   "cell_type": "code",
   "execution_count": null,
   "metadata": {},
   "outputs": [],
   "source": [
    "''' your code and explanations ''';"
   ]
  },
  {
   "cell_type": "markdown",
   "metadata": {},
   "source": [
    "## 6. A less naive analysis\n",
    "\n",
    "Compare the outcomes (`re78`) between treated and control subjects, as you've done in part 1, but now only for the matched dataset you've obtained from part 5.\n",
    "What do you conclude about the effectiveness of the job training program?"
   ]
  },
  {
   "cell_type": "code",
   "execution_count": null,
   "metadata": {},
   "outputs": [],
   "source": [
    "''' your code and explanations ''';"
   ]
  }
 ],
 "metadata": {
  "kernelspec": {
   "display_name": "Python 3 (ipykernel)",
   "language": "python",
   "name": "python3"
  },
  "language_info": {
   "codemirror_mode": {
    "name": "ipython",
    "version": 3
   },
   "file_extension": ".py",
   "mimetype": "text/x-python",
   "name": "python",
   "nbconvert_exporter": "python",
   "pygments_lexer": "ipython3",
   "version": "3.8.11"
  },
  "varInspector": {
   "cols": {
    "lenName": 16,
    "lenType": 16,
    "lenVar": 40
   },
   "kernels_config": {
    "python": {
     "delete_cmd_postfix": "",
     "delete_cmd_prefix": "del ",
     "library": "var_list.py",
     "varRefreshCmd": "print(var_dic_list())"
    },
    "r": {
     "delete_cmd_postfix": ") ",
     "delete_cmd_prefix": "rm(",
     "library": "var_list.r",
     "varRefreshCmd": "cat(var_dic_list()) "
    }
   },
   "types_to_exclude": [
    "module",
    "function",
    "builtin_function_or_method",
    "instance",
    "_Feature"
   ],
   "window_display": false
  }
 },
 "nbformat": 4,
 "nbformat_minor": 2
}
