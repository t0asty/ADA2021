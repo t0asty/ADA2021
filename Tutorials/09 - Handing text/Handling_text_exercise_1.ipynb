{
 "cells": [
  {
   "cell_type": "markdown",
   "metadata": {},
   "source": [
    "# Handling text exercise"
   ]
  },
  {
   "cell_type": "markdown",
   "metadata": {},
   "source": [
    "## Welcome! This exercise consists of:\n",
    "\n",
    "## Part 1: Hands on tutorial\n",
    "1. Implementing the natural language processing pipeline\n",
    "2. Solving four typical language processing tasks:\n",
    "   * Sentiment analysis\n",
    "   * Document classification\n",
    "   * Topic detection\n",
    "   * Semantic analysis\n",
    "\n",
    "\n",
    "### We will be working with four books in plain text:\n",
    "1. Moby-Dick, by Herman Melville\n",
    "2. Frankenstein; or, The Modern Prometheus, by Mary Shelley\n",
    "3. Pride and Prejudice, by Jane Austen\n",
    "4. Dracula, Bram Stoker\n",
    "\n",
    "#### To run this notebook, you need to install the following libraries:\n",
    "\n",
    "conda install nltk gensim spacy <br>\n",
    "pip install pyLDAvis  <br>\n",
    "pip install vaderSentiment  <br>\n",
    "pip install empath <br>\n",
    "python -m spacy download en  <br>\n",
    "python -m nltk.downloader punkt <br>\n",
    "python -m nltk.downloader all-corpora <br>\n",
    "\n",
    "## Part 2: Handling text comprehension questions\n",
    "- You can test your understanding of important NLP concepts. Solutions will be released next week.\n",
    "\n",
    "## Part 3: Coding exercise\n",
    "- When you are done, in \"Handling_text_exercise_2.ipynb\", you will find additional exercises you can work on independently."
   ]
  },
  {
   "cell_type": "markdown",
   "metadata": {},
   "source": [
    "## Part 1"
   ]
  },
  {
   "cell_type": "code",
   "execution_count": 56,
   "metadata": {},
   "outputs": [
    {
     "name": "stdout",
     "output_type": "stream",
     "text": [
      "The autoreload extension is already loaded. To reload it, use:\n",
      "  %reload_ext autoreload\n"
     ]
    }
   ],
   "source": [
    "%load_ext autoreload\n",
    "%autoreload 2\n",
    "\n",
    "import warnings; warnings.simplefilter('ignore')\n",
    "import os, codecs, string, random\n",
    "import numpy as np\n",
    "from numpy.random import seed as random_seed\n",
    "from numpy.random import shuffle as random_shuffle\n",
    "import matplotlib.pyplot as plt\n",
    "%matplotlib inline  \n",
    "\n",
    "seed = 42\n",
    "random.seed(seed)\n",
    "np.random.seed(seed)\n",
    "\n",
    "#NLP libraries\n",
    "import spacy, nltk, gensim, sklearn\n",
    "import pyLDAvis.gensim_models\n",
    "\n",
    "#Vader\n",
    "import vaderSentiment\n",
    "from vaderSentiment.vaderSentiment import SentimentIntensityAnalyzer\n",
    "\n",
    "#Scikit imports\n",
    "from sklearn.feature_extraction.text import CountVectorizer\n",
    "from sklearn.model_selection import train_test_split\n",
    "from sklearn.model_selection import cross_val_score\n",
    "from sklearn.linear_model import LogisticRegression\n",
    "from sklearn import preprocessing\n",
    "from sklearn.preprocessing import StandardScaler\n",
    "from sklearn.utils import shuffle\n",
    "\n",
    "#The data\n",
    "corpus_root = 'books/'"
   ]
  },
  {
   "cell_type": "code",
   "execution_count": 55,
   "metadata": {},
   "outputs": [
    {
     "name": "stdout",
     "output_type": "stream",
     "text": [
      "\u001b[31mERROR: Could not find a version that satisfies the requirement pyLDAvis.gensim (from versions: none)\u001b[0m\r\n",
      "\u001b[31mERROR: No matching distribution found for pyLDAvis.gensim\u001b[0m\r\n"
     ]
    }
   ],
   "source": [
    "!pip install pyLDAvis.gensim"
   ]
  },
  {
   "cell_type": "markdown",
   "metadata": {},
   "source": [
    "#### In this tutorial we will be working with text in English. The same principles apply, but the methods cannot be applied directly to the text in unknown or other languages. We will be working mainly with the Spacy library."
   ]
  },
  {
   "cell_type": "markdown",
   "metadata": {},
   "source": [
    "Initialize the Spacy analyzer in English"
   ]
  },
  {
   "cell_type": "code",
   "execution_count": 9,
   "metadata": {},
   "outputs": [],
   "source": [
    "nlp = spacy.load('en_core_web_sm')"
   ]
  },
  {
   "cell_type": "markdown",
   "metadata": {},
   "source": [
    "Load the books"
   ]
  },
  {
   "cell_type": "code",
   "execution_count": 10,
   "metadata": {},
   "outputs": [
    {
     "name": "stdout",
     "output_type": "stream",
     "text": [
      "Moby_Dick.txt\n",
      "Frankenstein.txt\n",
      "DRACULA.txt\n",
      "PRIDE_AND_PREJUDICE.txt\n"
     ]
    }
   ],
   "source": [
    "books = list()\n",
    "\n",
    "for book_file in os.listdir(corpus_root):\n",
    "    if \".txt\" in book_file:\n",
    "        print(book_file)\n",
    "        with codecs.open(os.path.join(corpus_root,book_file),encoding=\"utf8\") as f:\n",
    "            books.append(f.read())"
   ]
  },
  {
   "cell_type": "markdown",
   "metadata": {},
   "source": [
    "Print the beginning of Pride and Prejudice"
   ]
  },
  {
   "cell_type": "code",
   "execution_count": 11,
   "metadata": {},
   "outputs": [
    {
     "name": "stdout",
     "output_type": "stream",
     "text": [
      "PRIDE AND PREJUDICE\n",
      "\n",
      "By Jane Austen\n",
      "\n",
      "\n",
      "\n",
      "Chapter 1\n",
      "\n",
      "\n",
      "It is a truth universally acknowledged, that a single man in possession\n",
      "of a good fortune, must be in want of a wife.\n",
      "\n",
      "However little known the feelings or views of such a man may be on his\n",
      "first entering a neighbourhood, this truth is so well fixed in the minds\n",
      "of the surrounding families, that he is considered the rightful property\n",
      "of some one or other of their daughters.\n",
      "\n",
      "“My dear Mr. Bennet,” said his lady to him one day, “have you heard that\n",
      "Netherfield Park is let at last?”\n",
      "\n",
      "Mr. Bennet replied that he had not.\n",
      "\n",
      "“But it is,” returned she;\n"
     ]
    }
   ],
   "source": [
    "print(books[3][0:600])"
   ]
  },
  {
   "cell_type": "markdown",
   "metadata": {},
   "source": [
    "#### Let's remove the new lines"
   ]
  },
  {
   "cell_type": "code",
   "execution_count": 12,
   "metadata": {},
   "outputs": [],
   "source": [
    "books = [\" \".join(b.split()) for b in books]"
   ]
  },
  {
   "cell_type": "code",
   "execution_count": 13,
   "metadata": {},
   "outputs": [
    {
     "name": "stdout",
     "output_type": "stream",
     "text": [
      "PRIDE AND PREJUDICE By Jane Austen Chapter 1 It is a truth universally acknowledged, that a single man in possession of a good fortune, must be in want of a wife. However little known the feelings or views of such a man may be on his first entering a neighbourhood, this truth is so well fixed in the minds of the surrounding families, that he is considered the rightful property of some one or other of their daughters. “My dear Mr. Bennet,” said his lady to him one day, “have you heard that Netherfield Park is let at last?” Mr. Bennet replied that he had not. “But it is,” returned she; “for Mrs.\n"
     ]
    }
   ],
   "source": [
    "print(books[3][0:600])"
   ]
  },
  {
   "cell_type": "markdown",
   "metadata": {},
   "source": [
    "### Load Frankenstein"
   ]
  },
  {
   "cell_type": "code",
   "execution_count": 14,
   "metadata": {},
   "outputs": [],
   "source": [
    "#index all books\n",
    "book = books[1]\n",
    "\n",
    "#put in raw text, get a Spacy object\n",
    "doc = nlp(book)"
   ]
  },
  {
   "cell_type": "markdown",
   "metadata": {},
   "source": [
    "## Let's create our own NLP pipeline with Spacy!"
   ]
  },
  {
   "cell_type": "markdown",
   "metadata": {},
   "source": [
    "### Step 1: Sentence splitting\n",
    "\n",
    "#### May sound trivial, but it's not! (e.g., U.K. or Yahoo!) Spacy uses a statistical model to generate accurate predictions. This works well out of the box for general-purpose text or web text. For social media use dedicated libraries."
   ]
  },
  {
   "cell_type": "code",
   "execution_count": 15,
   "metadata": {},
   "outputs": [
    {
     "name": "stdout",
     "output_type": "stream",
     "text": [
      "Sentence 1: Frankenstein, or the Modern Prometheus by Mary Wollstonecraft (Godwin) Shelley Letter 1 St. Petersburgh, Dec. 11th, 17-- TO Mrs. Saville, England You will rejoice to hear that no disaster has accompanied the commencement of an enterprise which you have regarded with such evil forebodings. \n",
      "\n",
      "Sentence 2: I arrived here yesterday, and my first task is to assure my dear sister of my welfare and increasing confidence in the success of my undertaking. \n",
      "\n",
      "Sentence 3: I am already far north of London, and as I walk in the streets of Petersburgh, I feel a cold northern breeze play upon my cheeks, which braces my nerves and fills me with delight. \n",
      "\n"
     ]
    }
   ],
   "source": [
    "sentences = [sent for sent in doc.sents]\n",
    "print('Sentence 1:',sentences[0],'\\n')\n",
    "print('Sentence 2:',sentences[1],'\\n')\n",
    "print('Sentence 3:',sentences[2],'\\n')"
   ]
  },
  {
   "cell_type": "markdown",
   "metadata": {},
   "source": [
    "### Step 2: Tokenization\n",
    "\n",
    "#### The task of splitting a text into meaningful segments called tokens. We segment the sentence into words, punctuation, etc. This is done by first splitting on whitespace characters and them applying rules specific to each language. For example, \"don't\" does not contain whitespace, but should be split into two tokens, \"do\" and \"n't\", while \"U.K.\" should always remain one token and \"but,\" shouldn't."
   ]
  },
  {
   "cell_type": "markdown",
   "metadata": {},
   "source": [
    "### We will analyze the methods on an example sentence first"
   ]
  },
  {
   "cell_type": "code",
   "execution_count": 16,
   "metadata": {},
   "outputs": [
    {
     "name": "stdout",
     "output_type": "stream",
     "text": [
      "I am already far north of London, and as I walk in the streets of Petersburgh, I feel a cold northern breeze play upon my cheeks, which braces my nerves and fills me with delight. \n",
      "\n",
      "['I', 'am', 'already', 'far', 'north', 'of', 'London', ',', 'and', 'as', 'I', 'walk', 'in', 'the', 'streets', 'of', 'Petersburgh', ',', 'I', 'feel', 'a', 'cold', 'northern', 'breeze', 'play', 'upon', 'my', 'cheeks', ',', 'which', 'braces', 'my', 'nerves', 'and', 'fills', 'me', 'with', 'delight', '.']\n"
     ]
    }
   ],
   "source": [
    "example = 'I am already far north of London, and as I walk in the streets of Petersburgh, I feel a cold northern breeze play upon my cheeks, which braces my nerves and fills me with delight.'\n",
    "\n",
    "doc = nlp(example)\n",
    "\n",
    "#strings are encoded to hashes\n",
    "tokens = [token.text for token in doc]\n",
    "\n",
    "print(example,'\\n')\n",
    "print(tokens)"
   ]
  },
  {
   "cell_type": "markdown",
   "metadata": {},
   "source": [
    "### Step 3: Part of speech tagging\n",
    "\n",
    "#### The model makes a prediction of which tag or label most likely applies in this context. For example, a word following \"the\" in English is most likely a noun."
   ]
  },
  {
   "cell_type": "code",
   "execution_count": 17,
   "metadata": {},
   "outputs": [
    {
     "name": "stdout",
     "output_type": "stream",
     "text": [
      "I am already far north of London, and as I walk in the streets of Petersburgh, I feel a cold northern breeze play upon my cheeks, which braces my nerves and fills me with delight. \n",
      "\n",
      "[('I', 'PRON'), ('am', 'AUX'), ('already', 'ADV'), ('far', 'ADV'), ('north', 'ADV'), ('of', 'ADP'), ('London', 'PROPN'), (',', 'PUNCT'), ('and', 'CCONJ'), ('as', 'SCONJ'), ('I', 'PRON'), ('walk', 'VERB'), ('in', 'ADP'), ('the', 'DET'), ('streets', 'NOUN'), ('of', 'ADP'), ('Petersburgh', 'PROPN'), (',', 'PUNCT'), ('I', 'PRON'), ('feel', 'VERB'), ('a', 'DET'), ('cold', 'ADJ'), ('northern', 'ADJ'), ('breeze', 'NOUN'), ('play', 'VERB'), ('upon', 'SCONJ'), ('my', 'PRON'), ('cheeks', 'NOUN'), (',', 'PUNCT'), ('which', 'PRON'), ('braces', 'VERB'), ('my', 'PRON'), ('nerves', 'NOUN'), ('and', 'CCONJ'), ('fills', 'VERB'), ('me', 'PRON'), ('with', 'ADP'), ('delight', 'NOUN'), ('.', 'PUNCT')]\n"
     ]
    }
   ],
   "source": [
    "pos_tagged = [(token.text, token.pos_) for token in doc]\n",
    "\n",
    "print(example,'\\n')\n",
    "print(pos_tagged)"
   ]
  },
  {
   "cell_type": "code",
   "execution_count": 18,
   "metadata": {},
   "outputs": [
    {
     "name": "stdout",
     "output_type": "stream",
     "text": [
      "coordinating conjunction\n",
      "adposition\n",
      "determiner\n"
     ]
    }
   ],
   "source": [
    "print(spacy.explain('CCONJ'))\n",
    "print(spacy.explain('ADP'))\n",
    "print(spacy.explain('DET'))"
   ]
  },
  {
   "cell_type": "markdown",
   "metadata": {},
   "source": [
    "### When unsure, see here for more details: http://universaldependencies.org/u/pos/all.html"
   ]
  },
  {
   "cell_type": "markdown",
   "metadata": {},
   "source": [
    "#### More detailed annotation:"
   ]
  },
  {
   "cell_type": "code",
   "execution_count": 19,
   "metadata": {},
   "outputs": [
    {
     "name": "stdout",
     "output_type": "stream",
     "text": [
      "[('I', 'PRP'), ('am', 'VBP'), ('already', 'RB'), ('far', 'RB'), ('north', 'RB'), ('of', 'IN'), ('London', 'NNP'), (',', ','), ('and', 'CC'), ('as', 'IN'), ('I', 'PRP'), ('walk', 'VBP'), ('in', 'IN'), ('the', 'DT'), ('streets', 'NNS'), ('of', 'IN'), ('Petersburgh', 'NNP'), (',', ','), ('I', 'PRP'), ('feel', 'VBP'), ('a', 'DT'), ('cold', 'JJ'), ('northern', 'JJ'), ('breeze', 'NN'), ('play', 'VB'), ('upon', 'IN'), ('my', 'PRP$'), ('cheeks', 'NNS'), (',', ','), ('which', 'WDT'), ('braces', 'VBZ'), ('my', 'PRP$'), ('nerves', 'NNS'), ('and', 'CC'), ('fills', 'VBZ'), ('me', 'PRP'), ('with', 'IN'), ('delight', 'NN'), ('.', '.')]\n"
     ]
    }
   ],
   "source": [
    "pos_tagged = [(token.text, token.tag_) for token in doc]\n",
    "\n",
    "print(pos_tagged)"
   ]
  },
  {
   "cell_type": "code",
   "execution_count": 20,
   "metadata": {},
   "outputs": [
    {
     "name": "stdout",
     "output_type": "stream",
     "text": [
      "pronoun, personal\n",
      "verb, non-3rd person singular present\n"
     ]
    }
   ],
   "source": [
    "print(spacy.explain('PRP'))\n",
    "print(spacy.explain('VBP'))"
   ]
  },
  {
   "cell_type": "markdown",
   "metadata": {},
   "source": [
    "### Step 4: Named entity recognition\n",
    "\n",
    "#### For example, a person, a country, a product or a book title. Spacy can recognise various types of named entities in a document. This doesn't always work perfectly and might need some tuning later, depending on your use case.\n",
    "\n",
    "Built in entity types: <br>\n",
    "\n",
    "PERSON  People, including fictional.  <br>\n",
    "NORP\tNationalities or religious or political groups. <br>\n",
    "FAC\tBuildings, airports, highways, bridges, etc. <br>\n",
    "ORG\tCompanies, agencies, institutions, etc. <br>\n",
    "GPE\tCountries, cities, states. <br>\n",
    "LOC\tNon-GPE locations, mountain ranges, bodies of water. <br>\n",
    "PRODUCT\tObjects, vehicles, foods, etc. (Not services.) <br>\n",
    "EVENT\tNamed hurricanes, battles, wars, sports events, etc. <br>\n",
    "WORK_OF_ART\tTitles of books, songs, etc. <br>\n",
    "LAW\tNamed documents made into laws. <br>\n",
    "LANGUAGE\tAny named language. <br>\n",
    "DATE\tAbsolute or relative dates or periods. <br>\n",
    "TIME\tTimes smaller than a day. <br>\n",
    "PERCENT\tPercentage, including \"%\". <br>\n",
    "MONEY\tMonetary values, including unit. <br>\n",
    "QUANTITY\tMeasurements, as of weight or distance. <br>\n",
    "ORDINAL\t\"first\", \"second\", etc. <br>\n",
    "CARDINAL\tNumerals that do not fall under another type. <br>"
   ]
  },
  {
   "cell_type": "code",
   "execution_count": 21,
   "metadata": {},
   "outputs": [
    {
     "name": "stdout",
     "output_type": "stream",
     "text": [
      "I am already far north of London, and as I walk in the streets of Petersburgh, I feel a cold northern breeze play upon my cheeks, which braces my nerves and fills me with delight. \n",
      "\n",
      "London GPE\n",
      "Petersburgh GPE\n"
     ]
    }
   ],
   "source": [
    "print(example,'\\n')\n",
    "for ent in doc.ents:\n",
    "    print(ent.text, ent.label_)"
   ]
  },
  {
   "cell_type": "markdown",
   "metadata": {},
   "source": [
    "### Step 5: Removing stop words"
   ]
  },
  {
   "cell_type": "markdown",
   "metadata": {},
   "source": [
    "Let's check out all the stopwords:"
   ]
  },
  {
   "cell_type": "code",
   "execution_count": 22,
   "metadata": {},
   "outputs": [
    {
     "name": "stdout",
     "output_type": "stream",
     "text": [
      "Number of stop words: 326\n",
      "First ten stop words: ['out', 'whatever', 'against', 'wherein', 'after', 'nine', 'every', 'of', 'on', '’ll']\n"
     ]
    }
   ],
   "source": [
    "spacy_stopwords = spacy.lang.en.stop_words.STOP_WORDS\n",
    "print('Number of stop words: %d' % len(spacy_stopwords))\n",
    "print('First ten stop words:',list(spacy_stopwords)[:10])"
   ]
  },
  {
   "cell_type": "markdown",
   "metadata": {},
   "source": [
    "Detecting stopwords in the example:"
   ]
  },
  {
   "cell_type": "code",
   "execution_count": 23,
   "metadata": {},
   "outputs": [
    {
     "name": "stdout",
     "output_type": "stream",
     "text": [
      "I am already far north of London, and as I walk in the streets of Petersburgh, I feel a cold northern breeze play upon my cheeks, which braces my nerves and fills me with delight. \n",
      "\n",
      "['I', 'am', 'already', 'of', 'and', 'as', 'I', 'in', 'the', 'of', 'I', 'a', 'upon', 'my', 'which', 'my', 'and', 'me', 'with']\n"
     ]
    }
   ],
   "source": [
    "print(example,'\\n')\n",
    "\n",
    "stop_words = [token.text for token in doc if token.is_stop]\n",
    "\n",
    "print(stop_words)"
   ]
  },
  {
   "cell_type": "markdown",
   "metadata": {},
   "source": [
    "#### Sometimes it's useful to define a custom list of stopwords. Other solutions: https://www.ranks.nl/stopwords \n"
   ]
  },
  {
   "cell_type": "markdown",
   "metadata": {},
   "source": [
    "### Step 6: Lemmatization\n",
    "\n",
    "#### A rule-based deterministic lemmatizer maps the surface form of a token to a lemma."
   ]
  },
  {
   "cell_type": "code",
   "execution_count": 24,
   "metadata": {},
   "outputs": [
    {
     "name": "stdout",
     "output_type": "stream",
     "text": [
      "I am already far north of London, and as I walk in the streets of Petersburgh, I feel a cold northern breeze play upon my cheeks, which braces my nerves and fills me with delight. \n",
      "\n",
      "am ---> be\n",
      "streets ---> street\n",
      "cheeks ---> cheek\n",
      "braces ---> brace\n",
      "nerves ---> nerve\n",
      "fills ---> fill\n",
      "me ---> I\n"
     ]
    }
   ],
   "source": [
    "print(example,'\\n')\n",
    "for token in doc:\n",
    "    if token.text != token.lemma_:\n",
    "        print(token.text,'--->',token.lemma_)"
   ]
  },
  {
   "cell_type": "markdown",
   "metadata": {},
   "source": [
    "### Step 7: Chunking (shallow parsing)\n",
    "\n",
    "#### Noun chunks are \"base noun phrases\" – flat phrases that have a noun as their head -- a noun plus the words describing the noun – for example, \"the lavish green grass\" or \"the world’s largest tech fund\". "
   ]
  },
  {
   "cell_type": "code",
   "execution_count": 25,
   "metadata": {},
   "outputs": [
    {
     "name": "stdout",
     "output_type": "stream",
     "text": [
      "I am already far north of London, and as I walk in the streets of Petersburgh, I feel a cold northern breeze play upon my cheeks, which braces my nerves and fills me with delight. \n",
      "\n",
      "I\n",
      "London\n",
      "I\n",
      "the streets\n",
      "Petersburgh\n",
      "I\n",
      "a cold northern breeze\n",
      "my cheeks\n",
      "which\n",
      "my nerves\n",
      "me\n",
      "delight\n"
     ]
    }
   ],
   "source": [
    "print(example,'\\n')\n",
    "\n",
    "for chunk in doc.noun_chunks:\n",
    "    print(chunk.text)"
   ]
  },
  {
   "cell_type": "markdown",
   "metadata": {},
   "source": [
    "### Step 8: Dependancy parsing\n",
    "\n",
    "#### The terms head and child describe the words connected by an arc in the dependency tree. The type of syntactic relation that connects the child to the head can be obtain through .dep_."
   ]
  },
  {
   "cell_type": "code",
   "execution_count": 26,
   "metadata": {},
   "outputs": [
    {
     "name": "stdout",
     "output_type": "stream",
     "text": [
      "I am already far north of London, and as I walk in the streets of Petersburgh, I feel a cold northern breeze play upon my cheeks, which braces my nerves and fills me with delight. \n",
      "\n",
      "Token: I Head: am Children: []\n",
      "Token: am Head: am Children: [I, already, north, ,, and, feel]\n",
      "Token: already Head: am Children: []\n",
      "Token: far Head: north Children: []\n",
      "Token: north Head: am Children: [far, of]\n",
      "Token: of Head: north Children: [London]\n",
      "Token: London Head: of Children: []\n",
      "Token: , Head: am Children: []\n",
      "Token: and Head: am Children: []\n",
      "Token: as Head: walk Children: []\n",
      "Token: I Head: walk Children: []\n",
      "Token: walk Head: feel Children: [as, I, in]\n",
      "Token: in Head: walk Children: [streets]\n",
      "Token: the Head: streets Children: []\n",
      "Token: streets Head: in Children: [the, of]\n",
      "Token: of Head: streets Children: [Petersburgh]\n",
      "Token: Petersburgh Head: of Children: []\n",
      "Token: , Head: feel Children: []\n",
      "Token: I Head: feel Children: []\n",
      "Token: feel Head: am Children: [walk, ,, I, play, .]\n",
      "Token: a Head: breeze Children: []\n",
      "Token: cold Head: breeze Children: []\n",
      "Token: northern Head: breeze Children: []\n",
      "Token: breeze Head: play Children: [a, cold, northern]\n",
      "Token: play Head: feel Children: [breeze, upon]\n",
      "Token: upon Head: play Children: [cheeks]\n",
      "Token: my Head: cheeks Children: []\n",
      "Token: cheeks Head: upon Children: [my, ,, braces]\n",
      "Token: , Head: cheeks Children: []\n",
      "Token: which Head: braces Children: []\n",
      "Token: braces Head: cheeks Children: [which, nerves, and, fills]\n",
      "Token: my Head: nerves Children: []\n",
      "Token: nerves Head: braces Children: [my]\n",
      "Token: and Head: braces Children: []\n",
      "Token: fills Head: braces Children: [me, with]\n",
      "Token: me Head: fills Children: []\n",
      "Token: with Head: fills Children: [delight]\n",
      "Token: delight Head: with Children: []\n",
      "Token: . Head: feel Children: []\n"
     ]
    }
   ],
   "source": [
    "print(example,'\\n')\n",
    "\n",
    "for token in doc:\n",
    "    print('Token:',token.text,'Head:',token.head.text, 'Children:',[child for child in token.children])"
   ]
  },
  {
   "cell_type": "markdown",
   "metadata": {},
   "source": [
    "### Counting word occurences"
   ]
  },
  {
   "cell_type": "code",
   "execution_count": 27,
   "metadata": {},
   "outputs": [
    {
     "name": "stdout",
     "output_type": "stream",
     "text": [
      "I am already far north of London, and as I walk in the streets of Petersburgh, I feel a cold northern breeze play upon my cheeks, which braces my nerves and fills me with delight. \n",
      "\n",
      "[('I', 3), (',', 3), ('of', 2), ('and', 2), ('my', 2), ('am', 1), ('already', 1), ('far', 1), ('north', 1), ('London', 1), ('as', 1), ('walk', 1), ('in', 1), ('the', 1), ('streets', 1), ('Petersburgh', 1), ('feel', 1), ('a', 1), ('cold', 1), ('northern', 1), ('breeze', 1), ('play', 1), ('upon', 1), ('cheeks', 1), ('which', 1), ('braces', 1), ('nerves', 1), ('fills', 1), ('me', 1), ('with', 1), ('delight', 1), ('.', 1)]\n"
     ]
    }
   ],
   "source": [
    "from collections import Counter\n",
    "\n",
    "print(example,'\\n')\n",
    "words = [token.text for token in doc]\n",
    "\n",
    "# five most common tokens\n",
    "word_freq = Counter(words)\n",
    "common_words = word_freq.most_common()\n",
    "\n",
    "print(common_words)"
   ]
  },
  {
   "cell_type": "markdown",
   "metadata": {},
   "source": [
    "### Without stop words and punctuation"
   ]
  },
  {
   "cell_type": "code",
   "execution_count": 28,
   "metadata": {},
   "outputs": [
    {
     "name": "stdout",
     "output_type": "stream",
     "text": [
      "[('far', 1), ('north', 1), ('London', 1), ('walk', 1), ('streets', 1), ('Petersburgh', 1), ('feel', 1), ('cold', 1), ('northern', 1), ('breeze', 1), ('play', 1), ('cheeks', 1), ('braces', 1), ('nerves', 1), ('fills', 1), ('delight', 1)]\n"
     ]
    }
   ],
   "source": [
    "words = [token.text for token in doc if token.is_stop != True and token.is_punct != True]\n",
    "\n",
    "# five most common tokens\n",
    "word_freq = Counter(words)\n",
    "common_words = word_freq.most_common()\n",
    "\n",
    "print(common_words)"
   ]
  },
  {
   "cell_type": "markdown",
   "metadata": {
    "collapsed": true
   },
   "source": [
    "## Putting all the components together"
   ]
  },
  {
   "cell_type": "markdown",
   "metadata": {},
   "source": [
    "### Under the hood: the pipeline [\"tokenizer\",\"tagger\", \"parser\", \"ner\"]."
   ]
  },
  {
   "cell_type": "markdown",
   "metadata": {},
   "source": [
    "#### The NLP pipeline with Spacy\n",
    "<img src=\"spacy.png\">"
   ]
  },
  {
   "cell_type": "code",
   "execution_count": 29,
   "metadata": {},
   "outputs": [],
   "source": [
    "nlp = spacy.load('en_core_web_sm')"
   ]
  },
  {
   "cell_type": "markdown",
   "metadata": {},
   "source": [
    "### If you don't need a particular component of the pipeline – for example, the tagger or the parser, you can disable loading it. This can sometimes make a big difference and improve loading speed. "
   ]
  },
  {
   "cell_type": "code",
   "execution_count": 30,
   "metadata": {},
   "outputs": [
    {
     "data": {
      "text/plain": [
       "('tagger', <spacy.pipeline.tagger.Tagger at 0x7f87ea6e71c0>)"
      ]
     },
     "execution_count": 30,
     "metadata": {},
     "output_type": "execute_result"
    }
   ],
   "source": [
    "nlp.remove_pipe('parser')\n",
    "nlp.remove_pipe('tagger')"
   ]
  },
  {
   "cell_type": "markdown",
   "metadata": {
    "collapsed": true
   },
   "source": [
    "# Task 1: Seniment analysis"
   ]
  },
  {
   "cell_type": "markdown",
   "metadata": {
    "collapsed": true
   },
   "source": [
    "### Initialize the analyzer. Typically used for data from social media (short sentences)."
   ]
  },
  {
   "cell_type": "code",
   "execution_count": 31,
   "metadata": {},
   "outputs": [],
   "source": [
    "analyzer = SentimentIntensityAnalyzer()\n",
    "vs = analyzer.polarity_scores(example)"
   ]
  },
  {
   "cell_type": "markdown",
   "metadata": {},
   "source": [
    "### The sentiment score consits of four values. Neutral, positive and negative sum to one. The final score is obtained by thresholding the compound value (e.g. +/-0.05)."
   ]
  },
  {
   "cell_type": "code",
   "execution_count": 32,
   "metadata": {},
   "outputs": [
    {
     "name": "stdout",
     "output_type": "stream",
     "text": [
      "I am already far north of London, and as I walk in the streets of Petersburgh, I feel a cold northern breeze play upon my cheeks, which braces my nerves and fills me with delight. \n",
      "\n",
      "Negative sentiment: 0.035\n",
      "Neutral sentiment: 0.806\n",
      "Positive sentiment: 0.159\n",
      "Compound sentiment: 0.7096\n"
     ]
    }
   ],
   "source": [
    "print(example, '\\n')\n",
    "print('Negative sentiment:',vs['neg'])\n",
    "print('Neutral sentiment:',vs['neu'])\n",
    "print('Positive sentiment:',vs['pos'])\n",
    "print('Compound sentiment:',vs['compound'])"
   ]
  },
  {
   "cell_type": "markdown",
   "metadata": {},
   "source": [
    "### We can now observe the distributions of sentiment across all sentences in the book Pride and Prejudice:"
   ]
  },
  {
   "cell_type": "code",
   "execution_count": 33,
   "metadata": {},
   "outputs": [],
   "source": [
    "nlp = spacy.load('en_core_web_sm')\n",
    "doc = nlp(books[3])"
   ]
  },
  {
   "cell_type": "code",
   "execution_count": 27,
   "metadata": {},
   "outputs": [
    {
     "data": {
      "text/plain": [
       "Text(0,0.5,'Number of sentences')"
      ]
     },
     "execution_count": 27,
     "metadata": {},
     "output_type": "execute_result"
    },
    {
     "data": {
      "image/png": "[encoded data removed]",
      "text/plain": [
       "<Figure size 432x288 with 1 Axes>"
      ]
     },
     "metadata": {},
     "output_type": "display_data"
    }
   ],
   "source": [
    "positive_sent = []\n",
    "#iterate through the sentences, get polarity scores, choose a value\n",
    "[positive_sent.append(analyzer.polarity_scores(sent.text)['pos']) for sent in doc.sents]\n",
    "plt.hist(positive_sent,bins=15)\n",
    "plt.xlim([0,1])\n",
    "plt.ylim([0,8000])\n",
    "plt.xlabel('Positive sentiment')\n",
    "plt.ylabel('Number of sentences')"
   ]
  },
  {
   "cell_type": "code",
   "execution_count": 34,
   "metadata": {},
   "outputs": [
    {
     "data": {
      "text/plain": [
       "Text(0, 0.5, 'Number of sentences')"
      ]
     },
     "execution_count": 34,
     "metadata": {},
     "output_type": "execute_result"
    },
    {
     "data": {
      "image/png": "[encoded data removed]",
      "text/plain": [
       "<Figure size 432x288 with 1 Axes>"
      ]
     },
     "metadata": {
      "needs_background": "light"
     },
     "output_type": "display_data"
    }
   ],
   "source": [
    "negative_sent = []\n",
    "[negative_sent.append(analyzer.polarity_scores(sent.text)['neg']) for sent in doc.sents]\n",
    "plt.hist(negative_sent,bins=15)\n",
    "plt.xlim([0,1])\n",
    "plt.ylim([0,8000])\n",
    "plt.xlabel('Negative sentiment')\n",
    "plt.ylabel('Number of sentences')"
   ]
  },
  {
   "cell_type": "code",
   "execution_count": 35,
   "metadata": {},
   "outputs": [
    {
     "data": {
      "text/plain": [
       "Text(0, 0.5, 'Number of sentences')"
      ]
     },
     "execution_count": 35,
     "metadata": {},
     "output_type": "execute_result"
    },
    {
     "data": {
      "image/png": "[encoded data removed]",
      "text/plain": [
       "<Figure size 432x288 with 1 Axes>"
      ]
     },
     "metadata": {
      "needs_background": "light"
     },
     "output_type": "display_data"
    }
   ],
   "source": [
    "total_sent = []\n",
    "[total_sent.append(analyzer.polarity_scores(sent.text)['compound']) for sent in doc.sents]\n",
    "plt.hist(total_sent,bins = 15)\n",
    "plt.xlim([-1,1])\n",
    "plt.ylim([0,8000])\n",
    "plt.xlabel('Compound sentiment')\n",
    "plt.ylabel('Number of sentences')"
   ]
  },
  {
   "cell_type": "code",
   "execution_count": 36,
   "metadata": {},
   "outputs": [
    {
     "name": "stdout",
     "output_type": "stream",
     "text": [
      "Number of positive sentences: 2730\n",
      "Number of negative sentences: 1347\n",
      "Number of neutral sentences: 1927\n"
     ]
    }
   ],
   "source": [
    "sents = [analyzer.polarity_scores(sent.text)['compound'] for sent in doc.sents]\n",
    "print('Number of positive sentences:',sum(np.array(sents)>=0.05))\n",
    "print('Number of negative sentences:',sum(np.array(sents)<=-0.05))\n",
    "print('Number of neutral sentences:',sum(np.abs(np.array(sents))<0.05))"
   ]
  },
  {
   "cell_type": "markdown",
   "metadata": {
    "collapsed": true
   },
   "source": [
    "#### Most of the sentences are quite neutral in sentiment. This is not the case when working with data from other sources (e.g., in social media opinions are strong and polarized (bimodal distribution))."
   ]
  },
  {
   "cell_type": "markdown",
   "metadata": {
    "collapsed": true
   },
   "source": [
    "# Task 2: Document classification: Can we detect paragraphs from Frankenstein?"
   ]
  },
  {
   "cell_type": "code",
   "execution_count": 37,
   "metadata": {},
   "outputs": [
    {
     "name": "stdout",
     "output_type": "stream",
     "text": [
      "['DRACULA.txt', 'Frankenstein.txt', 'Moby_Dick.txt', 'PRIDE_AND_PREJUDICE.txt']\n"
     ]
    }
   ],
   "source": [
    "# Let's load our corpus via NLTK this time\n",
    "from nltk.corpus import PlaintextCorpusReader\n",
    "?PlaintextCorpusReader\n",
    "our_books = PlaintextCorpusReader(corpus_root, '.*.txt')\n",
    "print(our_books.fileids())"
   ]
  },
  {
   "cell_type": "markdown",
   "metadata": {},
   "source": [
    "### We will segment the books into equally long chunks"
   ]
  },
  {
   "cell_type": "code",
   "execution_count": 38,
   "metadata": {},
   "outputs": [
    {
     "name": "stdout",
     "output_type": "stream",
     "text": [
      "DRACULA.txt :\n",
      "Number of sentences: 9303\n",
      "Number of chunks: 187 \n",
      "\n",
      "Frankenstein.txt :\n",
      "Number of sentences: 3378\n",
      "Number of chunks: 68 \n",
      "\n",
      "Moby_Dick.txt :\n",
      "Number of sentences: 9609\n",
      "Number of chunks: 193 \n",
      "\n",
      "PRIDE_AND_PREJUDICE.txt :\n",
      "Number of sentences: 6055\n",
      "Number of chunks: 122 \n",
      "\n"
     ]
    }
   ],
   "source": [
    "def get_chunks(l, n):\n",
    "    \"\"\"Yield successive n-sized chunks from l.\"\"\"\n",
    "    for i in range(0, len(l), n):\n",
    "        yield l[i:i + n]\n",
    "\n",
    "\n",
    "# Get the data\n",
    "book_id = {f:n for n,f in enumerate(our_books.fileids())} # dictionary of books\n",
    "\n",
    "chunks = list()\n",
    "chunk_class = list() # this list contains the original book of the chunk, for evaluation\n",
    "\n",
    "limit = 500 # how many chunks total\n",
    "size = 50 # how many sentences per chunk/page\n",
    "\n",
    "for f in our_books.fileids():\n",
    "    sentences = our_books.sents(f)\n",
    "    print(f,\":\")\n",
    "    print('Number of sentences:',len(sentences))\n",
    "    \n",
    "    # create chunks\n",
    "    chunks_of_sents = [x for x in get_chunks(sentences,size)] # this is a list of lists of sentences, which are a list of tokens\n",
    "    chs = list()\n",
    "    \n",
    "    # regroup so to have a list of chunks which are strings\n",
    "    for c in chunks_of_sents:\n",
    "        grouped_chunk = list()\n",
    "        for s in c:\n",
    "            grouped_chunk.extend(s)\n",
    "        chs.append(\" \".join(grouped_chunk))\n",
    "    print(\"Number of chunks:\",len(chs),'\\n')\n",
    "    \n",
    "    # filter to the limit, to have the same number of chunks per book\n",
    "    chunks.extend(chs[:limit])\n",
    "    chunk_class.extend([book_id[f] for _ in range(len(chs[:limit]))])"
   ]
  },
  {
   "cell_type": "markdown",
   "metadata": {},
   "source": [
    "### Representing the chunks with bag-of-words"
   ]
  },
  {
   "cell_type": "code",
   "execution_count": 39,
   "metadata": {},
   "outputs": [
    {
     "name": "stdout",
     "output_type": "stream",
     "text": [
      "Number of samples: 570\n",
      "Number of features: 23116\n"
     ]
    }
   ],
   "source": [
    "vectorizer = CountVectorizer()\n",
    "\n",
    "#initialize and specify minumum number of occurences to avoid untractable number of features\n",
    "#vectorizer = CountVectorizer(min_df = 2) if we want high frequency\n",
    "\n",
    "#create bag of words features\n",
    "X = vectorizer.fit_transform(chunks)\n",
    "\n",
    "print('Number of samples:',X.toarray().shape[0])\n",
    "print('Number of features:',X.toarray().shape[1])\n",
    "\n",
    "#mask and convert to int Frankenstein\n",
    "Y = np.array(chunk_class) == 1\n",
    "Y = Y.astype(int)  \n",
    "\n",
    "#shuffle the data\n",
    "X, Y = shuffle(X, Y, random_state=0)\n",
    "\n",
    "#split into training and test set\n",
    "X_train, X_test, Y_train, Y_test = train_test_split(X, Y, test_size=0.2, random_state=42)"
   ]
  },
  {
   "cell_type": "markdown",
   "metadata": {},
   "source": [
    "### Let's fit the regularized logistic regression. We will crossvalidate the regularization parameter on the training set."
   ]
  },
  {
   "cell_type": "code",
   "execution_count": 40,
   "metadata": {},
   "outputs": [],
   "source": [
    "accs = []\n",
    "\n",
    "#the grid of regularization parameter \n",
    "grid = [0.01,0.1,1,10,100,1000,10000]\n",
    "\n",
    "for c in grid:\n",
    "    \n",
    "    #initialize the classifier\n",
    "    clf = LogisticRegression(random_state=0, solver='lbfgs',C = c)\n",
    "    \n",
    "    #crossvalidate\n",
    "    scores = cross_val_score(clf, X_train,Y_train, cv=10)\n",
    "    accs.append(np.mean(scores))"
   ]
  },
  {
   "cell_type": "code",
   "execution_count": 35,
   "metadata": {},
   "outputs": [
    {
     "data": {
      "text/plain": [
       "(0.986, 1)"
      ]
     },
     "execution_count": 35,
     "metadata": {},
     "output_type": "execute_result"
    },
    {
     "data": {
      "image/png": "[encoded data removed]",
      "text/plain": [
       "<Figure size 432x288 with 1 Axes>"
      ]
     },
     "metadata": {},
     "output_type": "display_data"
    }
   ],
   "source": [
    "plt.plot(accs)\n",
    "plt.xticks(range(len(grid)), grid)\n",
    "plt.xlabel('Regularization parameter \\n (Low - strong regularization, High - weak regularization)')\n",
    "plt.ylabel('Crossvalidation accuracy')\n",
    "plt.ylim([0.986,1])"
   ]
  },
  {
   "cell_type": "markdown",
   "metadata": {},
   "source": [
    "### Let's train again, on the entire training set, with the chosen regularization parameter. We will test on the test set"
   ]
  },
  {
   "cell_type": "code",
   "execution_count": 41,
   "metadata": {},
   "outputs": [
    {
     "name": "stdout",
     "output_type": "stream",
     "text": [
      "Accuracy: 0.9824561403508771\n"
     ]
    }
   ],
   "source": [
    "clf = LogisticRegression(random_state=0, solver='lbfgs',C = 10).fit(X_train,Y_train)\n",
    "\n",
    "#predict on the test set\n",
    "print('Accuracy:',clf.score(X_test,Y_test))"
   ]
  },
  {
   "cell_type": "markdown",
   "metadata": {},
   "source": [
    "### What features characterize Frankenstein? BOW are interpretable!"
   ]
  },
  {
   "cell_type": "code",
   "execution_count": 42,
   "metadata": {},
   "outputs": [
    {
     "name": "stdout",
     "output_type": "stream",
     "text": [
      "['frankenstein' 'towards' 'creature' 'yet' 'which' 'father' 'me' 'poor'\n",
      " 'death' 'had' 'misery' 'this' 'by' 'will' 'of' 'who' 'my' 'and' 'justine'\n",
      " 'but']\n"
     ]
    }
   ],
   "source": [
    "coefs=clf.coef_[0]\n",
    "top_three = np.argpartition(coefs, -20)[-20:]\n",
    "\n",
    "print(np.array(vectorizer.get_feature_names())[top_three])"
   ]
  },
  {
   "cell_type": "markdown",
   "metadata": {
    "collapsed": true
   },
   "source": [
    "### We can perfectly predict paragraphs from Frankenstein! We saw issues of high dimensionality when using bag of words (more features than samples) and how regularization helps."
   ]
  },
  {
   "cell_type": "markdown",
   "metadata": {},
   "source": [
    "### Alternative text representation: word emdeddings, pretrained on intergraded in Spacy (300-dimensional word vectors trained on Common Crawl with GloVe.) Depending on the application, might be suitable or not"
   ]
  },
  {
   "cell_type": "code",
   "execution_count": 38,
   "metadata": {},
   "outputs": [
    {
     "name": "stdout",
     "output_type": "stream",
     "text": [
      "I am already far north of London, and as I walk in the streets of Petersburgh, I feel a cold northern breeze play upon my cheeks, which braces my nerves and fills me with delight. \n",
      "\n",
      "Embedding representation: [0.1443232, 0.33464453, 0.8453134, 0.9833504, 0.39043787, -0.9550124, -0.653582, -0.3262405, 0.5481318, -0.25240445] ...\n"
     ]
    }
   ],
   "source": [
    "print(example,'\\n')\n",
    "print('Embedding representation:',list((nlp(example).vector)[0:10]),'...')"
   ]
  },
  {
   "cell_type": "markdown",
   "metadata": {},
   "source": [
    "# Task 3: Topic detection"
   ]
  },
  {
   "cell_type": "code",
   "execution_count": 43,
   "metadata": {},
   "outputs": [
    {
     "name": "stdout",
     "output_type": "stream",
     "text": [
      "DRACULA.txt\n",
      "Number of sentences: 9303\n",
      "Number of chunks: 187 \n",
      "\n",
      "Frankenstein.txt\n",
      "Number of sentences: 3378\n",
      "Number of chunks: 68 \n",
      "\n",
      "Moby_Dick.txt\n",
      "Number of sentences: 9609\n",
      "Number of chunks: 193 \n",
      "\n",
      "PRIDE_AND_PREJUDICE.txt\n",
      "Number of sentences: 6055\n",
      "Number of chunks: 122 \n",
      "\n"
     ]
    }
   ],
   "source": [
    "# Get the chunks again (into smaller chunks)\n",
    "book_id = {f:n for n,f in enumerate(our_books.fileids())} # dictionary of books\n",
    "chunks = list()\n",
    "chunk_class = list() # this list contains the original book of the chunk, for evaluation\n",
    "\n",
    "limit = 60 # how many chunks total\n",
    "size = 50 # how many sentences per chunk/page\n",
    "\n",
    "for f in our_books.fileids():\n",
    "    sentences = our_books.sents(f)\n",
    "    print(f)\n",
    "    print('Number of sentences:',len(sentences))\n",
    "    \n",
    "    # create chunks\n",
    "    chunks_of_sents = [x for x in get_chunks(sentences,size)] # this is a list of lists of sentences, which are a list of tokens\n",
    "    chs = list()\n",
    "    \n",
    "    # regroup so to have a list of chunks which are strings\n",
    "    for c in chunks_of_sents:\n",
    "        grouped_chunk = list()\n",
    "        for s in c:\n",
    "            grouped_chunk.extend(s)\n",
    "        chs.append(\" \".join(grouped_chunk))\n",
    "    print(\"Number of chunks:\",len(chs),'\\n')\n",
    "    \n",
    "    # filter to the limit, to have the same number of chunks per book\n",
    "    chunks.extend(chs[:limit])\n",
    "    chunk_class.extend([book_id[f] for _ in range(len(chs[:limit]))])"
   ]
  },
  {
   "cell_type": "code",
   "execution_count": 47,
   "metadata": {
    "scrolled": false
   },
   "outputs": [],
   "source": [
    "STOPWORDS = spacy.lang.en.stop_words.STOP_WORDS\n",
    "\n",
    "processed_docs = list()\n",
    "for doc in nlp.pipe(chunks, n_process=5, batch_size=10):\n",
    "\n",
    "    # Process document using Spacy NLP pipeline.\n",
    "    ents = doc.ents  # Named entities\n",
    "\n",
    "    # Keep only words (no numbers, no punctuation).\n",
    "    # Lemmatize tokens, remove punctuation and remove stopwords.\n",
    "    doc = [token.lemma_ for token in doc if token.is_alpha and not token.is_stop]\n",
    "\n",
    "    # Remove common words from a stopword list and keep only words of length 3 or more.\n",
    "    doc = [token for token in doc if token not in STOPWORDS and len(token) > 2]\n",
    "\n",
    "    # Add named entities, but only if they are a compound of more than word.\n",
    "    doc.extend([str(entity) for entity in ents if len(entity) > 1])\n",
    "\n",
    "    processed_docs.append(doc)\n",
    "docs = processed_docs\n",
    "del processed_docs"
   ]
  },
  {
   "cell_type": "code",
   "execution_count": 48,
   "metadata": {},
   "outputs": [],
   "source": [
    "# Add bigrams too\n",
    "from gensim.models.phrases import Phrases\n",
    "\n",
    "# Add bigrams to docs (only ones that appear 15 times or more).\n",
    "bigram = Phrases(docs, min_count=15)\n",
    "\n",
    "for idx in range(len(docs)):\n",
    "    for token in bigram[docs[idx]]:\n",
    "        if '_' in token:\n",
    "            # Token is a bigram, add to document.\n",
    "            docs[idx].append(token)"
   ]
  },
  {
   "cell_type": "code",
   "execution_count": 49,
   "metadata": {},
   "outputs": [
    {
     "name": "stdout",
     "output_type": "stream",
     "text": [
      "Number of unique tokens: 3070\n",
      "Number of chunks: 240\n"
     ]
    }
   ],
   "source": [
    "# Create a dictionary representation of the documents, and filter out frequent and rare words.\n",
    "from gensim.corpora import Dictionary\n",
    "dictionary = Dictionary(docs)\n",
    "\n",
    "# Remove rare and common tokens.\n",
    "# Filter out words that occur too frequently or too rarely.\n",
    "max_freq = 0.5\n",
    "min_wordcount = 5\n",
    "dictionary.filter_extremes(no_below=min_wordcount, no_above=max_freq)\n",
    "\n",
    "# Bag-of-words representation of the documents.\n",
    "corpus = [dictionary.doc2bow(doc) for doc in docs]\n",
    "#MmCorpus.serialize(\"models/corpus.mm\", corpus)\n",
    "\n",
    "print('Number of unique tokens: %d' % len(dictionary))\n",
    "print('Number of chunks: %d' % len(corpus))"
   ]
  },
  {
   "cell_type": "code",
   "execution_count": 50,
   "metadata": {},
   "outputs": [],
   "source": [
    "# models\n",
    "from gensim.models import LdaMulticore\n",
    "params = {'passes': 10, 'random_state': seed}\n",
    "base_models = dict()\n",
    "model = LdaMulticore(corpus=corpus, num_topics=4, id2word=dictionary, workers=6,\n",
    "                passes=params['passes'], random_state=params['random_state'])"
   ]
  },
  {
   "cell_type": "code",
   "execution_count": 51,
   "metadata": {},
   "outputs": [
    {
     "data": {
      "text/plain": [
       "[(0,\n",
       "  '0.008*\"room\" + 0.007*\"sleep\" + 0.007*\"door\" + 0.006*\"Lucy\" + 0.005*\"Count\"'),\n",
       " (1,\n",
       "  '0.006*\"father\" + 0.005*\"life\" + 0.004*\"feeling\" + 0.004*\"appear\" + 0.004*\"mind\"'),\n",
       " (2,\n",
       "  '0.019*\"whale\" + 0.012*\"ship\" + 0.009*\"Queequeg\" + 0.009*\"old\" + 0.009*\"sea\"'),\n",
       " (3,\n",
       "  '0.016*\"Elizabeth\" + 0.012*\"Darcy\" + 0.011*\"Bingley\" + 0.010*\"Miss\" + 0.009*\"Mrs\"')]"
      ]
     },
     "execution_count": 51,
     "metadata": {},
     "output_type": "execute_result"
    }
   ],
   "source": [
    "model.show_topics(num_words=5)"
   ]
  },
  {
   "cell_type": "code",
   "execution_count": 52,
   "metadata": {},
   "outputs": [
    {
     "data": {
      "text/plain": [
       "[('father', 0.0061286986),\n",
       " ('life', 0.0051308153),\n",
       " ('feeling', 0.0040330556),\n",
       " ('appear', 0.003949901),\n",
       " ('mind', 0.0038624406),\n",
       " ('Elizabeth', 0.003804918),\n",
       " ('pass', 0.0037542635),\n",
       " ('love', 0.0037078857),\n",
       " ('return', 0.0034258815),\n",
       " ('heart', 0.0032739996),\n",
       " ('death', 0.0030898154),\n",
       " ('remain', 0.0030672397),\n",
       " ('creature', 0.002935153),\n",
       " ('dear', 0.0029312642),\n",
       " ('hope', 0.002816692),\n",
       " ('enter', 0.0028078654),\n",
       " ('word', 0.002737832),\n",
       " ('scene', 0.00264034),\n",
       " ('human', 0.0025635108),\n",
       " ('fear', 0.002556934)]"
      ]
     },
     "execution_count": 52,
     "metadata": {},
     "output_type": "execute_result"
    }
   ],
   "source": [
    "model.show_topic(1,20)"
   ]
  },
  {
   "cell_type": "code",
   "execution_count": 53,
   "metadata": {},
   "outputs": [
    {
     "data": {
      "text/plain": [
       "[(0, 0.99723125)]"
      ]
     },
     "execution_count": 53,
     "metadata": {},
     "output_type": "execute_result"
    }
   ],
   "source": [
    "sorted(model[corpus[0]],key=lambda x:x[1],reverse=True)"
   ]
  },
  {
   "cell_type": "code",
   "execution_count": 57,
   "metadata": {},
   "outputs": [
    {
     "data": {
      "text/html": [
       "\n",
       "<link rel=\"stylesheet\" type=\"text/css\" href=\"https://cdn.jsdelivr.net/gh/bmabey/pyLDAvis@3.3.1/pyLDAvis/js/ldavis.v1.0.0.css\">\n",
       "\n",
       "\n",
       "<div id=\"ldavis_el915701402167577913126394267984\"></div>\n",
       "<script type=\"text/javascript\">\n",
       "\n",
       "var ldavis_el915701402167577913126394267984_data = {\"mdsDat\": {\"x\": [0.036684445805890246, 0.1679475606771516, -0.13945604943207815, -0.06517595705096374], \"y\": [0.09347614593757203, -0.06510342655111653, -0.07613913431913076, 0.04776641493267539], \"topics\": [1, 2, 3, 4], \"cluster\": [1, 1, 1, 1], \"Freq\": [29.03043683800369, 26.778037204155407, 22.307127452004885, 21.88439850583601]}, \"tinfo\": {\"Term\": [\"whale\", \"Elizabeth\", \"Darcy\", \"Bingley\", \"ship\", \"Miss\", \"Bennet\", \"Queequeg\", \"Collins\", \"Jane\", \"Mrs\", \"Ahab\", \"Captain\", \"Lucy\", \"sea\", \"sister\", \"Count\", \"old\", \"sleep\", \"Bildad\", \"Lady\", \"harpooneer\", \"Peleg\", \"Catherine\", \"thou\", \"Wickham\", \"room\", \"Mrs_Bennet\", \"Charlotte\", \"door\", \"Justine\", \"Clerval\", \"Geneva\", \"Felix\", \"Victor\", \"wretch\", \"Safie\", \"cottage\", \"creator\", \"victim\", \"inhabit\", \"Ingolstadt\", \"thirst\", \"crime\", \"Frankenstein\", \"abhor\", \"protector\", \"ardour\", \"forever\", \"murderer\", \"hovel\", \"lake\", \"contemplate\", \"Ernest\", \"unfortunate\", \"Mont\", \"fulfil\", \"daemon\", \"Henry\", \"undertaking\", \"cottager\", \"sensation\", \"anguish\", \"misery\", \"miserable\", \"despair\", \"tale\", \"fiend\", \"murder\", \"endure\", \"human\", \"scene\", \"weep\", \"mountain\", \"reflect\", \"gentle\", \"father\", \"horror\", \"creature\", \"appear\", \"discover\", \"tear\", \"endeavour\", \"death\", \"life\", \"month\", \"possess\", \"feeling\", \"remain\", \"mind\", \"nature\", \"desire\", \"pass\", \"return\", \"love\", \"heart\", \"child\", \"enter\", \"Elizabeth\", \"spirit\", \"hope\", \"dear\", \"word\", \"fear\", \"country\", \"Bingley\", \"Darcy\", \"Bennet\", \"Jane\", \"Collins\", \"Miss_Bingley\", \"Mrs_Bennet\", \"Wickham\", \"Catherine\", \"Charlotte\", \"Lucas\", \"Lady_Catherine\", \"Netherfield\", \"Lady Catherine\", \"Longbourn\", \"Miss_Bennet\", \"Lady\", \"Lizzy\", \"Lydia\", \"Hurst\", \"Colonel\", \"Meryton\", \"Fitzwilliam\", \"Bourgh\", \"Hertfordshire\", \"Colonel_Fitzwilliam\", \"Miss_Lucas\", \"Phillips\", \"ladyship\", \"Mrs_Hurst\", \"Miss\", \"Sir_William\", \"Mrs\", \"dance\", \"sister\", \"Elizabeth\", \"lady\", \"daughter\", \"family\", \"young\", \"gentleman\", \"wish\", \"reply\", \"hope\", \"manner\", \"attention\", \"believe\", \"room\", \"dear\", \"walk\", \"mean\", \"father\", \"Ahab\", \"Bildad\", \"Peleg\", \"Stubb\", \"whaling\", \"Flask\", \"Pequod\", \"mast\", \"Captain_Ahab\", \"Nantucket\", \"leg\", \"harpooneer\", \"Captain_Peleg\", \"whaleman\", \"Starbuck\", \"pipe\", \"mast_head\", \"whale_ship\", \"starbuck\", \"New_Bedford\", \"whale\", \"Bedford\", \"harpoon\", \"fishery\", \"New Bedford\", \"famous\", \"Tashtego\", \"oil\", \"Cape\", \"aye\", \"Captain\", \"thou\", \"Whale\", \"Queequeg\", \"ship\", \"cabin\", \"deck\", \"crew\", \"sailor\", \"sea\", \"voyage\", \"head\", \"old\", \"mate\", \"sail\", \"captain\", \"stand\", \"sort\", \"round\", \"world\", \"fish\", \"water\", \"chapter\", \"small\", \"Lucy\", \"Count\", \"Jonathan\", \"Mina\", \"Helsing\", \"Van_Helsing\", \"Van Helsing\", \"Seward\", \"later\", \"Westenra\", \"Whitby\", \"Hawkins\", \"Jonah\", \"Holmwood\", \"Dracula\", \"diary\", \"key\", \"driver\", \"Van\", \"pier\", \"Arthur\", \"Diary\", \"Cliff\", \"Renfield\", \"cat\", \"crucifix\", \"asleep\", \"Pier\", \"courtyard\", \"wolf\", \"harbour\", \"patient\", \"September\", \"lock\", \"window\", \"sleep\", \"July\", \"door\", \"wake\", \"August\", \"God\", \"room\", \"run\", \"whilst\", \"try\", \"ask\", \"write\", \"bed\", \"face\", \"open\", \"close\", \"fear\", \"lie\", \"fall\", \"sit\", \"dear\", \"letter\", \"old\", \"strange\", \"light\", \"want\", \"hold\", \"round\", \"sea\", \"till\", \"sort\"], \"Freq\": [322.0, 390.0, 233.0, 209.0, 215.0, 196.0, 169.0, 164.0, 149.0, 143.0, 195.0, 108.0, 122.0, 102.0, 219.0, 182.0, 87.0, 284.0, 158.0, 76.0, 90.0, 75.0, 71.0, 79.0, 76.0, 77.0, 253.0, 74.0, 73.0, 163.0, 51.63278259674545, 50.61037365919639, 34.446696570059466, 45.60133931272599, 25.845224631289156, 20.144413340950486, 22.786813685967562, 53.749325205114275, 17.29580746852773, 16.377939387660117, 14.47283588071595, 15.372730880098558, 13.552240722074849, 23.47775636338638, 14.44347758840887, 14.440825680876767, 13.537133968154748, 12.60221826238048, 29.70271742390513, 26.97332046362601, 13.466223784548877, 31.393059551215273, 11.663044963426186, 12.551650871311768, 11.645134729192174, 11.635876466511554, 10.688387613641536, 10.68735001785063, 25.814621716952605, 9.764633456413751, 23.030153312616928, 41.989633492651, 20.03413120304596, 48.66041816412677, 53.69604552386055, 38.85684344192852, 28.669461790214072, 27.733767271447107, 38.283935295669096, 32.647098809944346, 54.2714108744039, 55.89794209287232, 25.84234598073386, 50.47099077948395, 30.911410542594076, 31.541647704749657, 129.74906157667044, 45.29320047340556, 62.139349416366656, 83.62231431644547, 47.88924049627335, 47.13683813657938, 48.22956698649459, 65.41366654712958, 108.62313807097898, 46.173234509175295, 38.08469965162846, 85.3827570068928, 64.93572182941986, 81.77071107228302, 53.48945305455659, 52.54132710308337, 79.48052274171913, 72.52843377479797, 78.49867123014432, 69.3129811045339, 50.407325281928834, 59.44457759448765, 80.55291372829335, 52.62953013910467, 59.631443420773984, 62.05702198216369, 57.96191975343008, 54.13217587057615, 50.90177294836994, 208.04826131759756, 231.79567444355501, 167.57174696133347, 142.60323082565623, 148.03186180381067, 68.56195632785203, 73.29877170184612, 76.06037341219142, 77.92695607598087, 72.20142218928737, 58.86622583596925, 71.18351807521107, 49.27540710077301, 58.72675421698861, 41.610206057918596, 34.882877199644255, 88.52904521401976, 36.735239896412935, 36.733312073545854, 29.104460039915267, 30.037269416093217, 30.036589676662487, 29.0972102437795, 30.890210545848547, 24.284789203404976, 23.32491301230309, 23.319470550105216, 20.439419128859367, 21.330712112114345, 18.513345624625018, 187.65820627569087, 38.586315862352876, 176.9968911455137, 60.65956487106565, 153.4115788234649, 307.4828004336197, 97.22436294694337, 69.75372369337742, 75.21957893052434, 117.08913172509023, 44.64543585308457, 97.32765605990188, 66.6629689622378, 85.23769687615845, 80.23258675749248, 57.534327572416686, 67.93114449587956, 88.64857932528304, 79.53033181063681, 67.96184416568747, 66.46111590519965, 64.87765494450085, 107.5893363450319, 75.32632237126548, 70.40356275222759, 45.20067263234585, 45.1278480998812, 38.3835017513853, 45.97866453260949, 54.58704923379448, 40.21400453375963, 52.47310762903876, 37.075519818657874, 73.17428869166723, 29.45141206020922, 28.38168077258283, 22.657209295172404, 29.188950960460335, 25.41379605638921, 21.633599832678488, 18.77034806542833, 15.819600427153071, 305.9951787704548, 15.798968324668644, 35.28587785992888, 14.860149426999548, 14.849534627382749, 14.802425180840793, 12.937552605273703, 29.554834865182094, 20.290137387761817, 33.18718520548796, 115.13880151434648, 71.56474797175314, 60.63319364410612, 152.055199710631, 193.44569901611996, 46.70373962093869, 57.44661375486196, 28.750096699978567, 39.97785033525552, 140.82891188354378, 55.93079385625672, 110.63611146401534, 145.77925293730408, 50.1496955950208, 57.60846246223945, 39.40870769489206, 74.49747791091079, 71.67673268735359, 62.53948287626903, 63.899571070665786, 44.02804501865711, 49.18013733607069, 49.446967453253286, 46.67988141477055, 100.79160520586676, 85.77973313239534, 34.57838446516546, 34.57440851509098, 24.502635829960465, 24.499748621354975, 21.697931904357137, 19.814111895701664, 22.468339116429927, 18.856298091075992, 20.58267976638486, 15.112241588844709, 56.79984680869944, 13.2891913759889, 15.007078638334894, 13.238070690802244, 31.685657835506603, 28.087566077984082, 25.434468472977915, 14.904383006375975, 39.36222901557913, 10.485096848340913, 10.472510365266336, 10.44601363069285, 9.499079809074738, 9.491085176752073, 26.7530365775628, 8.624364289966087, 10.328834578731295, 20.64507802958652, 23.563778389171222, 21.88084976075116, 15.146013011510084, 31.885261676769293, 77.4556468980429, 112.49811763293047, 20.959525516622158, 108.97391723541371, 30.63327029880547, 28.694519009821867, 71.3294435698183, 126.11026948812383, 68.2765679006639, 29.716505391817957, 66.9127204132448, 72.26836975366956, 67.00914649215402, 58.9656248469361, 63.49783263188801, 67.73080744156127, 54.89249437778069, 68.02846861601608, 56.33808665556297, 52.448492730359895, 63.683550374619536, 75.4380045847309, 60.38289126731857, 83.48612272550221, 49.59443314413569, 55.83435236033175, 50.2994434091656, 43.22902253923357, 46.88483431589815, 53.63354508718652, 45.93905612089047, 48.14435584603575], \"Total\": [322.0, 390.0, 233.0, 209.0, 215.0, 196.0, 169.0, 164.0, 149.0, 143.0, 195.0, 108.0, 122.0, 102.0, 219.0, 182.0, 87.0, 284.0, 158.0, 76.0, 90.0, 75.0, 71.0, 79.0, 76.0, 77.0, 253.0, 74.0, 73.0, 163.0, 52.65269025987228, 51.69687420963517, 35.42275312443194, 46.91481647760943, 26.80719932131528, 21.060908008526738, 23.940541048501395, 56.506395131571665, 18.192159156695396, 17.23258012977587, 15.31809855714886, 16.273536990610378, 14.359939502397786, 24.881585959551213, 15.318235573834718, 15.318297768314704, 14.360989253353821, 13.40230755642495, 31.59963404175354, 28.716353173180313, 14.359291883523474, 33.4807073541162, 12.445321907783082, 13.402477221377776, 12.44658119959523, 12.444760085755798, 11.488280501828203, 11.488709469007743, 27.78702398924084, 10.530832076115422, 24.896143047187195, 45.9150586436899, 22.026132683491763, 56.513241439598474, 63.169469473582375, 44.92303692599212, 32.55466091593593, 31.5697598372343, 44.936959292880104, 38.32727036707702, 68.08543080003625, 70.87179568639635, 29.610704680322947, 63.907068368955734, 36.417410396097814, 37.284020360773255, 211.13946449093504, 59.155479617429194, 89.3405509614951, 132.16553927460086, 64.25553873519088, 63.145886850553524, 67.17270490065094, 103.46286499112446, 214.63336826326332, 64.13652599689115, 48.98526757186916, 159.14798600088866, 112.9810259252569, 170.3536538618904, 87.29958141049178, 85.2342712262524, 178.99989682075875, 155.36404508225164, 182.48333817212176, 160.5471885311974, 82.30989078603055, 122.718208892101, 390.51078792685445, 99.51000108301939, 171.73546909977142, 218.21882676778716, 169.57657775213198, 147.17457026534186, 106.3414444175552, 209.62659306657702, 233.77755949783528, 169.05481174171345, 143.93618223382998, 149.7407878935178, 69.54806334234212, 74.37958599765986, 77.27868819266986, 79.21461468618243, 73.41610752152415, 59.88741424136189, 72.45256741963797, 50.22722813220844, 59.89271176067934, 42.49944517905381, 35.73641558571327, 90.77501398486547, 37.668146820277215, 37.66906170581113, 29.939640680937888, 30.90651962872804, 30.90584794420019, 29.94024822183283, 31.87378493527508, 25.109558464605254, 24.14396848976057, 24.143384518315422, 21.245632506492438, 22.21306774445768, 19.312719803540134, 196.8260934634506, 40.57632100086008, 195.82860894040806, 66.58030683826215, 182.3383675382378, 390.51078792685445, 127.00565709933957, 88.64129223912474, 114.72200578817765, 223.21215586547373, 55.05245310063262, 187.7505759135974, 110.65854092050752, 171.73546909977142, 154.78214853912314, 86.61275874907713, 134.29800506262166, 253.8373757397111, 218.21882676778716, 136.0531159504437, 164.3543741010902, 211.13946449093504, 108.81908469115378, 76.45295568890408, 71.54871567116514, 46.0652800968071, 46.06201389264885, 39.20147256049872, 47.03726551580387, 55.85667087180888, 41.15910446064545, 53.89389090648404, 38.20695782516185, 75.42138225649998, 30.369625796476978, 29.38897061835275, 23.51035184699936, 30.361792035843923, 26.444917147230484, 22.527661866727257, 19.58820274165674, 16.64546416628834, 322.20089935446333, 16.645041270753616, 37.18820214763783, 15.665287549868603, 15.665125410836728, 15.662600718442723, 13.705128532947231, 31.33146532339456, 21.529141170601687, 35.24957216633892, 122.40195841331514, 76.35139233651103, 64.62111990161587, 164.1998034487133, 215.7203422442248, 50.87566673687693, 70.09958001924872, 32.21632490795742, 47.75770590621012, 219.41697238270143, 72.14126757910951, 187.62632290388325, 284.9490663747072, 67.89040435342815, 87.11554086096356, 48.618849738089466, 143.72970728435865, 149.2231549201071, 123.94361590427405, 158.2301717192921, 61.25960953090566, 96.45387175365529, 119.89836841864458, 94.79915939250115, 102.01556248548204, 87.04738871505079, 35.58237119075393, 35.5810039386112, 25.283917065525927, 25.283996661157467, 22.477263768913534, 20.606588200397315, 23.419834577371866, 19.67174659869242, 21.54913501354132, 15.929679844539223, 60.00390870806084, 14.057054003734496, 15.93330652983113, 14.059030833164694, 33.73626136686033, 30.009094005852265, 27.198071707727742, 15.938346678495765, 42.169159776150735, 11.250225748514724, 11.25019800060585, 11.25109189921408, 10.316271590613129, 10.315793096859965, 29.087604851932728, 9.378587011119674, 11.251925283136252, 22.52364000915351, 26.26176713044437, 24.403591877107804, 16.88298147010516, 37.645328741270674, 101.81729215840289, 158.6940993315448, 24.437328972078564, 163.6000005796369, 38.695706155195495, 36.7466497337093, 117.66538476729704, 253.8373757397111, 115.9340932142776, 39.529198226891964, 122.4897019853633, 137.61039331594273, 127.22309652353265, 109.62517368847199, 124.75378966903244, 141.88532645910695, 102.57995826702358, 147.17457026534186, 111.26519323748843, 103.46048368347437, 150.85300244225147, 218.21882676778716, 146.48226270614947, 284.9490663747072, 104.64625773663535, 141.2563718382869, 124.0768021864591, 91.63537830715308, 123.94361590427405, 219.41697238270143, 118.68053662316811, 149.2231549201071], \"Category\": [\"Default\", \"Default\", \"Default\", \"Default\", \"Default\", \"Default\", \"Default\", \"Default\", \"Default\", \"Default\", \"Default\", \"Default\", \"Default\", \"Default\", \"Default\", \"Default\", \"Default\", \"Default\", \"Default\", \"Default\", \"Default\", \"Default\", \"Default\", \"Default\", \"Default\", \"Default\", \"Default\", \"Default\", \"Default\", \"Default\", \"Topic1\", \"Topic1\", \"Topic1\", \"Topic1\", \"Topic1\", \"Topic1\", \"Topic1\", \"Topic1\", \"Topic1\", \"Topic1\", \"Topic1\", \"Topic1\", \"Topic1\", \"Topic1\", \"Topic1\", \"Topic1\", \"Topic1\", \"Topic1\", \"Topic1\", \"Topic1\", \"Topic1\", \"Topic1\", \"Topic1\", \"Topic1\", \"Topic1\", \"Topic1\", \"Topic1\", \"Topic1\", \"Topic1\", \"Topic1\", \"Topic1\", \"Topic1\", \"Topic1\", \"Topic1\", \"Topic1\", \"Topic1\", \"Topic1\", \"Topic1\", \"Topic1\", \"Topic1\", \"Topic1\", \"Topic1\", \"Topic1\", \"Topic1\", \"Topic1\", \"Topic1\", \"Topic1\", \"Topic1\", \"Topic1\", \"Topic1\", \"Topic1\", \"Topic1\", \"Topic1\", \"Topic1\", \"Topic1\", \"Topic1\", \"Topic1\", \"Topic1\", \"Topic1\", \"Topic1\", \"Topic1\", \"Topic1\", \"Topic1\", \"Topic1\", \"Topic1\", \"Topic1\", \"Topic1\", \"Topic1\", \"Topic1\", \"Topic1\", \"Topic1\", \"Topic1\", \"Topic1\", \"Topic1\", \"Topic1\", \"Topic2\", \"Topic2\", \"Topic2\", \"Topic2\", \"Topic2\", \"Topic2\", \"Topic2\", \"Topic2\", \"Topic2\", \"Topic2\", \"Topic2\", \"Topic2\", \"Topic2\", \"Topic2\", \"Topic2\", \"Topic2\", \"Topic2\", \"Topic2\", \"Topic2\", \"Topic2\", \"Topic2\", \"Topic2\", \"Topic2\", \"Topic2\", \"Topic2\", \"Topic2\", \"Topic2\", \"Topic2\", \"Topic2\", \"Topic2\", \"Topic2\", \"Topic2\", \"Topic2\", \"Topic2\", \"Topic2\", \"Topic2\", \"Topic2\", \"Topic2\", \"Topic2\", \"Topic2\", \"Topic2\", \"Topic2\", \"Topic2\", \"Topic2\", \"Topic2\", \"Topic2\", \"Topic2\", \"Topic2\", \"Topic2\", \"Topic2\", \"Topic2\", \"Topic2\", \"Topic3\", \"Topic3\", \"Topic3\", \"Topic3\", \"Topic3\", \"Topic3\", \"Topic3\", \"Topic3\", \"Topic3\", \"Topic3\", \"Topic3\", \"Topic3\", \"Topic3\", \"Topic3\", \"Topic3\", \"Topic3\", \"Topic3\", \"Topic3\", \"Topic3\", \"Topic3\", \"Topic3\", \"Topic3\", \"Topic3\", \"Topic3\", \"Topic3\", \"Topic3\", \"Topic3\", \"Topic3\", \"Topic3\", \"Topic3\", \"Topic3\", \"Topic3\", \"Topic3\", \"Topic3\", \"Topic3\", \"Topic3\", \"Topic3\", \"Topic3\", \"Topic3\", \"Topic3\", \"Topic3\", \"Topic3\", \"Topic3\", \"Topic3\", \"Topic3\", \"Topic3\", \"Topic3\", \"Topic3\", \"Topic3\", \"Topic3\", \"Topic3\", \"Topic3\", \"Topic3\", \"Topic3\", \"Topic4\", \"Topic4\", \"Topic4\", \"Topic4\", \"Topic4\", \"Topic4\", \"Topic4\", \"Topic4\", \"Topic4\", \"Topic4\", \"Topic4\", \"Topic4\", \"Topic4\", \"Topic4\", \"Topic4\", \"Topic4\", \"Topic4\", \"Topic4\", \"Topic4\", \"Topic4\", \"Topic4\", \"Topic4\", \"Topic4\", \"Topic4\", \"Topic4\", \"Topic4\", \"Topic4\", \"Topic4\", \"Topic4\", \"Topic4\", \"Topic4\", \"Topic4\", \"Topic4\", \"Topic4\", \"Topic4\", \"Topic4\", \"Topic4\", \"Topic4\", \"Topic4\", \"Topic4\", \"Topic4\", \"Topic4\", \"Topic4\", \"Topic4\", \"Topic4\", \"Topic4\", \"Topic4\", \"Topic4\", \"Topic4\", \"Topic4\", \"Topic4\", \"Topic4\", \"Topic4\", \"Topic4\", \"Topic4\", \"Topic4\", \"Topic4\", \"Topic4\", \"Topic4\", \"Topic4\", \"Topic4\", \"Topic4\", \"Topic4\", \"Topic4\", \"Topic4\", \"Topic4\"], \"logprob\": [30.0, 29.0, 28.0, 27.0, 26.0, 25.0, 24.0, 23.0, 22.0, 21.0, 20.0, 19.0, 18.0, 17.0, 16.0, 15.0, 14.0, 13.0, 12.0, 11.0, 10.0, 9.0, 8.0, 7.0, 6.0, 5.0, 4.0, 3.0, 2.0, 1.0, -6.0162, -6.0362, -6.421, -6.1404, -6.7082, -6.9574, -6.8342, -5.976, -7.1099, -7.1644, -7.2881, -7.2278, -7.3538, -6.8043, -7.2901, -7.2903, -7.3549, -7.4265, -6.5691, -6.6655, -7.3602, -6.5138, -7.5039, -7.4305, -7.5055, -7.5063, -7.5912, -7.5913, -6.7094, -7.6816, -6.8236, -6.223, -6.9629, -6.0755, -5.977, -6.3005, -6.6045, -6.6377, -6.3153, -6.4746, -5.9664, -5.9368, -6.7084, -6.039, -6.5292, -6.5091, -5.0948, -6.1472, -5.831, -5.5341, -6.0915, -6.1073, -6.0844, -5.7796, -5.2725, -6.128, -6.3206, -5.5132, -5.787, -5.5565, -5.9809, -5.9988, -5.5849, -5.6764, -5.5973, -5.7217, -6.0402, -5.8753, -5.5715, -5.9971, -5.8722, -5.8323, -5.9006, -5.9689, -6.0305, -4.5418, -4.4338, -4.7582, -4.9195, -4.8822, -5.6519, -5.5851, -5.5481, -5.5238, -5.6002, -5.8043, -5.6144, -5.9822, -5.8067, -6.1513, -6.3276, -5.3963, -6.2759, -6.2759, -6.5087, -6.4772, -6.4772, -6.509, -6.4492, -6.6898, -6.7301, -6.7303, -6.8621, -6.8195, -6.9611, -4.645, -6.2267, -4.7035, -5.7743, -4.8465, -4.1512, -5.3026, -5.6346, -5.5592, -5.1167, -6.0809, -5.3015, -5.68, -5.4342, -5.4947, -5.8272, -5.6611, -5.3949, -5.5035, -5.6607, -5.683, -5.7071, -5.0186, -5.3751, -5.4427, -5.8858, -5.8874, -6.0493, -5.8688, -5.6971, -6.0027, -5.7366, -6.084, -5.4041, -6.3142, -6.3512, -6.5765, -6.3231, -6.4616, -6.6227, -6.7647, -6.9357, -3.9734, -6.937, -6.1335, -6.9983, -6.999, -7.0021, -7.1368, -6.3107, -6.6868, -6.1948, -4.9508, -5.4263, -5.5921, -4.6727, -4.4319, -5.8531, -5.6461, -6.3383, -6.0086, -4.7494, -5.6728, -4.9907, -4.7148, -5.7819, -5.6433, -6.0229, -5.3862, -5.4248, -5.5611, -5.5396, -5.9121, -5.8014, -5.796, -5.8536, -5.0647, -5.226, -6.1346, -6.1347, -6.479, -6.4791, -6.6006, -6.6914, -6.5657, -6.741, -6.6534, -6.9623, -5.6383, -7.0909, -6.9693, -7.0947, -6.2219, -6.3425, -6.4417, -6.9761, -6.005, -7.3278, -7.3291, -7.3316, -7.4266, -7.4275, -6.3912, -7.5232, -7.3429, -6.6503, -6.5181, -6.5922, -6.9601, -6.2157, -5.3281, -4.9549, -6.6352, -4.9867, -6.2557, -6.3211, -5.4105, -4.8406, -5.4542, -6.2861, -5.4744, -5.3974, -5.473, -5.6008, -5.5268, -5.4623, -5.6724, -5.4579, -5.6464, -5.718, -5.5239, -5.3545, -5.5771, -5.2531, -5.7739, -5.6554, -5.7598, -5.9113, -5.8301, -5.6956, -5.8505, -5.8036], \"loglift\": [30.0, 29.0, 28.0, 27.0, 26.0, 25.0, 24.0, 23.0, 22.0, 21.0, 20.0, 19.0, 18.0, 17.0, 16.0, 15.0, 14.0, 13.0, 12.0, 11.0, 10.0, 9.0, 8.0, 7.0, 6.0, 5.0, 4.0, 3.0, 2.0, 1.0, 1.2173, 1.2156, 1.2089, 1.2084, 1.2003, 1.1923, 1.1874, 1.1868, 1.1863, 1.186, 1.1801, 1.1799, 1.1789, 1.1788, 1.178, 1.1778, 1.1777, 1.1753, 1.1749, 1.1742, 1.1726, 1.1724, 1.1719, 1.1712, 1.1703, 1.1696, 1.1647, 1.1645, 1.1632, 1.1613, 1.1589, 1.1475, 1.142, 1.0872, 1.0743, 1.0918, 1.1097, 1.1073, 1.0766, 1.0764, 1.0101, 0.9995, 1.1007, 1.0008, 1.0729, 1.0696, 0.7499, 0.9698, 0.8737, 0.7791, 0.9428, 0.9444, 0.9055, 0.7783, 0.5558, 0.9082, 0.9851, 0.6141, 0.683, 0.5029, 0.747, 0.753, 0.425, 0.475, 0.3932, 0.3969, 0.7465, 0.512, -0.3417, 0.5998, 0.1791, -0.0206, 0.1633, 0.2366, 0.5001, 1.31, 1.3091, 1.3088, 1.3083, 1.3061, 1.3033, 1.303, 1.3017, 1.3012, 1.3009, 1.3004, 1.2999, 1.2985, 1.2979, 1.2964, 1.2934, 1.2925, 1.2925, 1.2924, 1.2893, 1.2891, 1.2891, 1.289, 1.2862, 1.2842, 1.2831, 1.2829, 1.2789, 1.2771, 1.2753, 1.2699, 1.2673, 1.2165, 1.2245, 1.1448, 1.0786, 1.0504, 1.078, 0.8955, 0.6724, 1.1081, 0.6606, 0.8108, 0.6171, 0.6605, 0.9085, 0.636, 0.2656, 0.3082, 0.6235, 0.4122, 0.1376, 1.4889, 1.4854, 1.4841, 1.4813, 1.4798, 1.4792, 1.4775, 1.4773, 1.477, 1.4735, 1.4702, 1.47, 1.4696, 1.4654, 1.4633, 1.4609, 1.4605, 1.4598, 1.4576, 1.4494, 1.4487, 1.4481, 1.4478, 1.4475, 1.4468, 1.4438, 1.4426, 1.4419, 1.441, 1.44, 1.4391, 1.4355, 1.4366, 1.4234, 1.3913, 1.4147, 1.3012, 1.3864, 1.3224, 1.0568, 1.2458, 0.9721, 0.83, 1.1974, 1.0867, 1.2902, 0.8431, 0.767, 0.8162, 0.5935, 1.17, 0.8267, 0.6145, 0.7918, 1.5073, 1.5047, 1.4908, 1.4907, 1.488, 1.4879, 1.4841, 1.4802, 1.4779, 1.4771, 1.4735, 1.4667, 1.4645, 1.4632, 1.4595, 1.4592, 1.4567, 1.4532, 1.4524, 1.4523, 1.4505, 1.449, 1.4478, 1.4452, 1.4369, 1.4361, 1.4357, 1.4356, 1.4338, 1.4323, 1.411, 1.4103, 1.4108, 1.3533, 1.2459, 1.1754, 1.3659, 1.1131, 1.2858, 1.2721, 1.0189, 0.8199, 0.9899, 1.2341, 0.9148, 0.8754, 0.8783, 0.8993, 0.8441, 0.7799, 0.8941, 0.7477, 0.8389, 0.84, 0.657, 0.4572, 0.6332, 0.2918, 0.7727, 0.5912, 0.6165, 0.7681, 0.5473, 0.1106, 0.5703, 0.3882]}, \"token.table\": {\"Topic\": [2, 3, 1, 4, 1, 3, 4, 3, 2, 3, 4, 3, 4, 1, 2, 4, 2, 3, 4, 1, 2, 3, 4, 3, 3, 2, 3, 2, 3, 1, 4, 2, 3, 2, 2, 4, 1, 2, 3, 4, 4, 4, 1, 2, 3, 4, 1, 1, 3, 2, 3, 1, 1, 1, 2, 3, 4, 4, 4, 1, 3, 2, 4, 2, 1, 2, 3, 4, 4, 1, 3, 4, 1, 2, 3, 4, 2, 3, 2, 3, 2, 2, 2, 3, 4, 2, 2, 4, 1, 2, 3, 4, 2, 2, 2, 1, 1, 2, 3, 4, 2, 2, 1, 3, 2, 3, 3, 3, 4, 3, 2, 4, 1, 3, 4, 4, 1, 3, 1, 4, 4, 1, 2, 3, 3, 3, 3, 3, 4, 4, 4, 1, 4, 1, 3, 4, 2, 1, 1, 3, 4, 1, 2, 3, 4, 1, 1, 2, 3, 4, 1, 3, 4, 1, 2, 3, 4, 2, 3, 4, 1, 2, 3, 4, 1, 2, 3, 4, 1, 3, 4, 1, 3, 4, 4, 1, 2, 3, 4, 1, 2, 3, 4, 1, 2, 3, 4, 1, 1, 3, 4, 1, 2, 1, 2, 3, 4, 4, 1, 1, 2, 3, 4, 1, 3, 4, 1, 4, 4, 1, 1, 2, 3, 4, 1, 2, 3, 4, 1, 2, 3, 4, 1, 2, 3, 4, 1, 3, 4, 1, 2, 3, 4, 1, 2, 3, 4, 4, 1, 2, 3, 4, 1, 2, 3, 4, 3, 4, 1, 2, 1, 2, 3, 4, 1, 2, 3, 4, 1, 2, 3, 4, 1, 2, 3, 4, 1, 2, 3, 4, 3, 1, 2, 3, 4, 1, 2, 3, 4, 1, 2, 3, 4, 1, 3, 4, 1, 2, 3, 4, 3, 1, 2, 1, 1, 2, 4, 1, 2, 3, 4, 1, 4, 3, 4, 3, 4, 1, 2, 3, 4, 1, 2, 3, 4, 1, 2, 3, 4, 1, 2, 3, 4, 1, 3, 4, 1, 1, 2, 3, 4, 1, 1, 3, 4, 1, 2, 3, 4, 2, 1, 4, 4, 3, 4, 1, 2, 3, 4, 1, 2, 3, 4, 1, 2, 3, 4, 1, 2, 3, 4, 1, 3, 4, 1, 2, 3, 4, 1, 2, 3, 4, 3, 3, 1, 3, 4, 1, 2, 3, 4, 1, 2, 3, 4, 1, 2, 3, 4, 1, 2, 3, 4, 1, 2, 3, 4, 1, 2, 3, 4, 1, 3, 4, 1, 3, 4, 1, 2, 3, 4, 1, 3, 1, 2, 3, 4, 1, 2, 3, 4, 1, 2, 3, 4, 1, 2, 3, 4, 4, 3, 1, 2, 3, 1, 1, 2, 1, 2, 3, 4, 1, 2, 3, 4, 1, 2, 3, 4, 1, 2, 3, 4, 1, 2, 3, 4, 1, 2, 3, 4, 1, 3, 4, 1, 3, 4, 1, 2, 3, 4, 1, 3, 4, 1, 2, 4, 1, 2, 3, 4, 1, 2, 3, 4, 1, 2, 3, 4, 1, 2, 3, 4, 1, 2, 3, 4, 1, 2, 3, 4, 1, 2, 3, 4, 1, 2, 3, 4, 3, 1, 2, 3, 4, 1, 3, 4, 1, 2, 3, 4, 1, 1, 3, 4, 1, 2, 3, 4, 1, 2, 3, 4, 1, 1, 1, 1, 3, 4, 2, 3, 4, 1, 2, 3, 4, 1, 2, 3, 4, 1, 3, 4, 1, 4, 1, 2, 3, 4, 3, 3, 3, 1, 2, 4, 1, 2, 3, 4, 1, 2, 3, 4, 3, 4, 1, 2, 3, 4, 1, 2, 3, 4, 1, 1, 2, 3, 4, 1, 2, 3, 4], \"Freq\": [0.009189564522052012, 0.9924729683816174, 0.047428025851516335, 0.9248465041045686, 0.10885346090015456, 0.08164009567511592, 0.7891875915261206, 0.9612472411295853, 0.99376053404901, 0.005915241274101249, 0.005915241274101249, 0.9809954281582477, 0.013079939042109969, 0.004770387122030848, 0.9922405213824164, 0.004770387122030848, 0.9725860942762385, 0.9289734245093925, 0.046448671225469626, 0.00816980392277137, 0.03267921569108548, 0.9395274511187074, 0.01633960784554274, 0.9718384431382918, 0.9549014595815053, 0.9846667854032458, 0.012623933146195459, 0.9807112148909696, 0.01362098909570791, 0.9865199933208866, 0.8888732446719139, 0.9883746578470277, 0.006678207147615052, 0.9706689837737207, 0.952618870827067, 0.9879676032732078, 0.004277570533921412, 0.9923963638697676, 0.004277570533921412, 0.004277570533921412, 0.8888710523271249, 0.941424177832533, 0.20742064625157525, 0.7861498567806617, 0.00256074871915525, 0.00256074871915525, 0.9699699380398275, 0.9805004783926623, 0.021315227791144833, 0.968595844133744, 0.9693513411098392, 0.9139433802619922, 0.9598350495390875, 0.1529761708220137, 0.025496028470335615, 0.21246690391946346, 0.6034060071312762, 0.9416385104024597, 0.988770843347171, 0.9356885433311326, 0.03598802089735126, 0.9558113112116526, 0.9248025935268036, 0.9686154990652195, 0.9217418443608668, 0.993495851985923, 0.04999674295546323, 0.9499381161538015, 0.9836331539673988, 0.0818420050032942, 0.0818420050032942, 0.859341052534589, 0.9876038573404158, 0.9804460070349159, 0.011016247270055235, 0.011016247270055235, 0.9850948181433752, 0.01669652234141314, 0.9799514707156636, 0.013802133390361458, 0.9822622858654266, 0.9882481953129129, 0.9851819576349485, 0.009802425979294201, 0.9900450239087143, 0.9822384292171548, 0.9706900795656641, 0.9836709515107102, 0.005080627179067057, 0.9551579096646068, 0.005080627179067057, 0.04064501743253646, 0.9793931323653043, 0.9921196462417028, 0.9526419124274793, 0.9642612567304638, 0.005106506170935967, 0.9038515922556661, 0.030639037025615802, 0.056171567880295634, 0.9814520882422865, 0.9838075731061552, 0.01855497874026551, 0.9648588944938065, 0.975566477031579, 0.9575410095104242, 0.9612228196318141, 0.9783543889413338, 0.013976491270590481, 0.9779480055987659, 0.9413699495125981, 0.9596328305457097, 0.006090141272990885, 0.9257014734946145, 0.06699155400289973, 0.8888026237434367, 0.9607134589566735, 0.041770150389420585, 0.059231244301885214, 0.8884686645282782, 0.9705633851417664, 0.02464491544166371, 0.9611517022248847, 0.02464491544166371, 0.9782924623876058, 0.9768745550972795, 0.948550024083897, 0.036767312431045314, 0.9191828107761328, 0.978766820827471, 0.9492170214082488, 0.9698887111764245, 0.9658522137156306, 0.046424450776579376, 0.943963832457114, 0.9745170739708926, 0.9834535468629869, 0.9139396695211428, 0.9080123273292403, 0.04540061636646201, 0.04540061636646201, 0.6355665815842727, 0.2648194089934469, 0.007566268828384198, 0.09079522594061037, 0.9699822172613786, 0.13807096645946998, 0.30520950480514414, 0.029067571886204204, 0.5232162939516757, 0.034378904866536476, 0.06875780973307295, 0.9282304313964848, 0.2540041480924935, 0.6696472995165738, 0.02309128619022668, 0.0577282154755667, 0.02836913864602691, 0.936181575318888, 0.02836913864602691, 0.10034191627608562, 0.027365977166205167, 0.33751371838319705, 0.5381975509353683, 0.3425218414715149, 0.5063366352187612, 0.02233838096553358, 0.13403028579320148, 0.058967286178590116, 0.9238208167979118, 0.01965576205953004, 0.020568154232093443, 0.8021580150516443, 0.16454523385674755, 0.8724082068747767, 0.20016952954855993, 0.28357350019379324, 0.4086794561616432, 0.10008476477427997, 0.6074604099521644, 0.15793970658756276, 0.07289524919425973, 0.14579049838851946, 0.18522136605419087, 0.136478901303088, 0.1462273942533086, 0.5361671122621315, 0.9642177268629278, 0.9556440447893433, 0.03539422388108679, 0.017697111940543395, 0.9238378794822427, 0.040166864325314904, 0.47958724163784966, 0.27270647073524784, 0.09403671404663719, 0.1598624138792832, 0.8887367937811881, 0.9344685176494492, 0.6939737815890725, 0.12312438060451286, 0.1455106316235152, 0.044772502038004675, 0.031040163732424995, 0.9001647482403249, 0.06208032746484999, 0.9243783751321152, 0.04019036413617892, 0.8724486731649862, 0.9574617610162308, 0.03003891232971379, 0.9161868260562706, 0.015019456164856894, 0.03003891232971379, 0.1466585117569171, 0.789699678691092, 0.02256284796260263, 0.04512569592520526, 0.28411847372809845, 0.3666044822298044, 0.004582556027872556, 0.34369170209044164, 0.628244733079603, 0.04832651792920024, 0.1643101609592808, 0.15464485737344077, 0.05706168280753802, 0.8131289800074167, 0.11412336561507604, 0.6218156058296401, 0.22291502850496533, 0.046929479685255855, 0.11732369921313965, 0.8681514578867419, 0.022260293791967742, 0.022260293791967742, 0.08904117516787097, 0.9246725577508171, 0.7470173146912206, 0.12450288578187009, 0.07781430361366881, 0.046688582168201286, 0.12224938831992507, 0.12224938831992507, 0.08557457182394755, 0.6662591663435916, 0.03332323194445602, 0.9330504944447686, 0.7145759586575001, 0.2679659844965625, 0.8610057456204049, 0.052182166401236664, 0.052182166401236664, 0.026091083200618332, 0.48077624773578037, 0.19556999907896153, 0.14667749930922114, 0.16297499923246792, 0.16031577119267734, 0.08015788559633867, 0.2484894453486499, 0.5049946792569336, 0.28996578144542223, 0.0966552604818074, 0.0966552604818074, 0.5026073545053985, 0.26150170400081657, 0.6537542600020415, 0.061017064266857206, 0.01743344693338777, 0.9576953578557034, 0.6157067808873853, 0.30785339044369264, 0.03315344204778228, 0.0473620600682604, 0.3669112123286183, 0.10191978120239398, 0.06794652080159598, 0.4620363414508527, 0.5340940978010578, 0.3518737585512851, 0.018850379922390272, 0.09425189961195136, 0.8869247071995771, 0.031675882399984895, 0.06335176479996979, 0.11426778677830911, 0.06529587815903377, 0.7182546597493715, 0.09794381723855067, 0.9575310987589127, 0.9493780833145126, 0.031645936110483754, 0.9574975122038063, 0.8582765402002461, 0.05364228376251538, 0.08046342564377307, 0.03632898966998108, 0.8174022675745742, 0.10898696900994323, 0.03632898966998108, 0.07615633746449105, 0.9138760495738926, 0.941158700306333, 0.02689024858018094, 0.9678952813637767, 0.026517678941473333, 0.11192459392149272, 0.09593536621842233, 0.5916014250136044, 0.20253021757222492, 0.4297801825822193, 0.14326006086073975, 0.14326006086073975, 0.28029142342318647, 0.1418666048000068, 0.07638971027692673, 0.3164716568615536, 0.46925107741540706, 0.3493745369813059, 0.49494726072351664, 0.029114544748442155, 0.12810399689314547, 0.7607072124344925, 0.033809209441533, 0.1859506519284315, 0.9053371228505224, 0.7931212208761004, 0.07343715008112041, 0.08812458009734449, 0.044062290048672244, 0.9139515552644286, 0.029641695892904007, 0.029641695892904007, 0.9485342685729282, 0.07873665022793697, 0.7637455072109887, 0.03936832511396848, 0.11810497534190546, 0.945389454603345, 0.9259063636894393, 0.029867947215788365, 0.9393746965769048, 0.9684099992811522, 0.026173243223814924, 0.2525903090002357, 0.327684725189495, 0.006826765108114479, 0.40960590648686873, 0.26063856230493715, 0.01797507326240946, 0.20671334251770876, 0.5033020513474649, 0.5078427500904875, 0.15840966516584012, 0.15375055736684484, 0.18170520416081662, 0.3114903733360225, 0.056634613333822276, 0.24069710666874466, 0.3964422933367559, 0.026563720744021486, 0.10625488297608594, 0.8500390638086875, 0.4274362842180633, 0.3068773322591224, 0.027399761808850214, 0.23563795155611184, 0.2971918947640976, 0.5168554691549523, 0.08398901373767974, 0.10337109383099045, 0.9846630517279674, 0.9453612526299101, 0.05891848837983859, 0.7364811047479825, 0.19148508723447544, 0.17036358267397197, 0.4015713020172197, 0.21295447834246498, 0.2068700646755374, 0.48135157738664813, 0.1408833885034092, 0.1526236708786933, 0.2230653651303979, 0.8548433357127201, 0.0633217285713126, 0.0316608642856563, 0.0633217285713126, 0.8670534329971384, 0.08847484010174882, 0.035389936040699524, 0.035389936040699524, 0.7172200128555408, 0.17150913350893368, 0.015591739409903061, 0.09355043645941837, 0.7823860689608569, 0.01564772137921714, 0.01564772137921714, 0.17212493517138852, 0.8456290901289529, 0.044506794217313315, 0.08901358843462663, 0.9402308098514646, 0.03482336332783202, 0.03482336332783202, 0.6071048582786261, 0.17182212970149796, 0.11454808646766532, 0.09163846917413225, 0.031916796411475865, 0.9575038923442759, 0.171960556401912, 0.024565793771701715, 0.5123722700954929, 0.29128012615017745, 0.19029451934045993, 0.13391095805439773, 0.19029451934045993, 0.47926027093152873, 0.4413410365208563, 0.2513967929549182, 0.10055871718196727, 0.2067040297629327, 0.040977574327411476, 0.040977574327411476, 0.040977574327411476, 0.9015066352030525, 0.9411264733147137, 0.955147837313547, 0.7757434404996966, 0.10207150532890745, 0.10207150532890745, 0.9748632042691964, 0.851241196527299, 0.1372969671818224, 0.5753178418029328, 0.15931878696081217, 0.10621252464054144, 0.15931878696081217, 0.2620674351818211, 0.6054661433511038, 0.06325765676802578, 0.07229446487774374, 0.46986418229103716, 0.3861897388693456, 0.03861897388693456, 0.10942042601298126, 0.0945487240799794, 0.3506181851299236, 0.05909295254998712, 0.4963808014198918, 0.06454547853581, 0.0484091089018575, 0.5082956434695037, 0.37920468639788374, 0.07763031348652172, 0.10350708464869562, 0.22426535007217385, 0.5865401463426085, 0.12626908920368185, 0.6657824703466861, 0.20662214596966122, 0.06281708769453054, 0.8375611692604071, 0.08375611692604071, 0.7901591804982168, 0.11287988292831669, 0.04232995609811876, 0.056439941464158344, 0.10938078189384465, 0.6426120936263373, 0.24610675926115047, 0.914732578824051, 0.021779347114858356, 0.04355869422971671, 0.00927126287300123, 0.004635631436500615, 0.8946768672446186, 0.09271262873001229, 0.09871756692252527, 0.8390993188414648, 0.03290585564084176, 0.02742154636736813, 0.13920836615790314, 0.22538497377946223, 0.21875600396241923, 0.42425406829075246, 0.15123435654566483, 0.018904294568208104, 0.1260286304547207, 0.7057603305464359, 0.15822925114657227, 0.21097233486209635, 0.49578498692592643, 0.13713201766036262, 0.006701372856882647, 0.18763843999271412, 0.48249884569555057, 0.3216658971303671, 0.5326097821643381, 0.22108330580406485, 0.07034468821038427, 0.1808863411124167, 0.09740505469966644, 0.1321925742352616, 0.5148552891268083, 0.25047014065628515, 0.969971581904967, 0.2866801035112159, 0.05733602070224318, 0.18156406555710342, 0.47780017251869317, 0.8908094627336179, 0.06143513536093917, 0.06143513536093917, 0.7443081781594775, 0.03167268843231819, 0.09501806529695457, 0.12669075372927277, 0.974934469442738, 0.039292014306403264, 0.9430083433536784, 0.013097338102134422, 0.016851962898940684, 0.3538912208777544, 0.23592748058516957, 0.3875951466756357, 0.138787177407219, 0.19593483869254447, 0.11429532257065093, 0.5469847580166866, 0.9495925799330348, 0.9641201714403508, 0.9284738489249142, 0.20792537341475356, 0.77625472741508, 0.013861691560983571, 0.025842660578135866, 0.1550559634688152, 0.8011224779222118, 0.21315204578308244, 0.49980479700860714, 0.066150634898198, 0.22050211632732666, 0.10477381566027119, 0.3546190683886102, 0.13701191278650848, 0.40297621407796613, 0.29029420479369084, 0.508014858388959, 0.19698535325286162, 0.8780608324150303, 0.1013147114325035, 0.040347497558342604, 0.003103653658334046, 0.9497180194502182, 0.006207307316668092, 0.9765771579026318, 0.9527383712621302, 0.9769438241427316, 0.2023820456484126, 0.025297755706051576, 0.7589326711815473, 0.07857211511335373, 0.09821514389169216, 0.0589290863350153, 0.7562566079660297, 0.2503321215996128, 0.5166428892587753, 0.026631076765916258, 0.20239618342096355, 0.04439779714085309, 0.9323537399579149, 0.34202836717685087, 0.23588163253575922, 0.17691122440181942, 0.2417786733491532, 0.27175600919073806, 0.17695740133350385, 0.40447406019086596, 0.14535786538109244, 0.9496266728814723, 0.1257633278642959, 0.2908276956861843, 0.05502145594062945, 0.5266339354317391, 0.15680149615639177, 0.524165001437081, 0.16576158165104274, 0.15680149615639177], \"Term\": [\"Ahab\", \"Ahab\", \"Arthur\", \"Arthur\", \"August\", \"August\", \"August\", \"Bedford\", \"Bennet\", \"Bennet\", \"Bennet\", \"Bildad\", \"Bildad\", \"Bingley\", \"Bingley\", \"Bingley\", \"Bourgh\", \"Cape\", \"Cape\", \"Captain\", \"Captain\", \"Captain\", \"Captain\", \"Captain_Ahab\", \"Captain_Peleg\", \"Catherine\", \"Catherine\", \"Charlotte\", \"Charlotte\", \"Clerval\", \"Cliff\", \"Collins\", \"Collins\", \"Colonel\", \"Colonel_Fitzwilliam\", \"Count\", \"Darcy\", \"Darcy\", \"Darcy\", \"Darcy\", \"Diary\", \"Dracula\", \"Elizabeth\", \"Elizabeth\", \"Elizabeth\", \"Elizabeth\", \"Ernest\", \"Felix\", \"Felix\", \"Fitzwilliam\", \"Flask\", \"Frankenstein\", \"Geneva\", \"God\", \"God\", \"God\", \"God\", \"Hawkins\", \"Helsing\", \"Henry\", \"Henry\", \"Hertfordshire\", \"Holmwood\", \"Hurst\", \"Ingolstadt\", \"Jane\", \"Jonah\", \"Jonah\", \"Jonathan\", \"July\", \"July\", \"July\", \"Justine\", \"Lady\", \"Lady\", \"Lady\", \"Lady Catherine\", \"Lady Catherine\", \"Lady_Catherine\", \"Lady_Catherine\", \"Lizzy\", \"Longbourn\", \"Lucas\", \"Lucy\", \"Lucy\", \"Lydia\", \"Meryton\", \"Mina\", \"Miss\", \"Miss\", \"Miss\", \"Miss\", \"Miss_Bennet\", \"Miss_Bingley\", \"Miss_Lucas\", \"Mont\", \"Mrs\", \"Mrs\", \"Mrs\", \"Mrs\", \"Mrs_Bennet\", \"Mrs_Hurst\", \"Nantucket\", \"Nantucket\", \"Netherfield\", \"New Bedford\", \"New_Bedford\", \"Peleg\", \"Peleg\", \"Pequod\", \"Phillips\", \"Pier\", \"Queequeg\", \"Queequeg\", \"Queequeg\", \"Renfield\", \"Safie\", \"Safie\", \"September\", \"September\", \"Seward\", \"Sir_William\", \"Sir_William\", \"Sir_William\", \"Starbuck\", \"Stubb\", \"Tashtego\", \"Van\", \"Van\", \"Van Helsing\", \"Van_Helsing\", \"Victor\", \"Westenra\", \"Whale\", \"Whale\", \"Whitby\", \"Wickham\", \"abhor\", \"anguish\", \"anguish\", \"anguish\", \"appear\", \"appear\", \"appear\", \"appear\", \"ardour\", \"ask\", \"ask\", \"ask\", \"ask\", \"asleep\", \"asleep\", \"asleep\", \"attention\", \"attention\", \"attention\", \"attention\", \"aye\", \"aye\", \"aye\", \"bed\", \"bed\", \"bed\", \"bed\", \"believe\", \"believe\", \"believe\", \"believe\", \"cabin\", \"cabin\", \"cabin\", \"captain\", \"captain\", \"captain\", \"cat\", \"chapter\", \"chapter\", \"chapter\", \"chapter\", \"child\", \"child\", \"child\", \"child\", \"close\", \"close\", \"close\", \"close\", \"contemplate\", \"cottage\", \"cottage\", \"cottage\", \"cottager\", \"cottager\", \"country\", \"country\", \"country\", \"country\", \"courtyard\", \"creator\", \"creature\", \"creature\", \"creature\", \"creature\", \"crew\", \"crew\", \"crew\", \"crime\", \"crime\", \"crucifix\", \"daemon\", \"dance\", \"dance\", \"dance\", \"dance\", \"daughter\", \"daughter\", \"daughter\", \"daughter\", \"dear\", \"dear\", \"dear\", \"dear\", \"death\", \"death\", \"death\", \"death\", \"deck\", \"deck\", \"deck\", \"desire\", \"desire\", \"desire\", \"desire\", \"despair\", \"despair\", \"despair\", \"despair\", \"diary\", \"discover\", \"discover\", \"discover\", \"discover\", \"door\", \"door\", \"door\", \"door\", \"driver\", \"driver\", \"endeavour\", \"endeavour\", \"endure\", \"endure\", \"endure\", \"endure\", \"enter\", \"enter\", \"enter\", \"enter\", \"face\", \"face\", \"face\", \"face\", \"fall\", \"fall\", \"fall\", \"fall\", \"family\", \"family\", \"family\", \"family\", \"famous\", \"father\", \"father\", \"father\", \"father\", \"fear\", \"fear\", \"fear\", \"fear\", \"feeling\", \"feeling\", \"feeling\", \"feeling\", \"fiend\", \"fiend\", \"fiend\", \"fish\", \"fish\", \"fish\", \"fish\", \"fishery\", \"forever\", \"forever\", \"fulfil\", \"gentle\", \"gentle\", \"gentle\", \"gentleman\", \"gentleman\", \"gentleman\", \"gentleman\", \"harbour\", \"harbour\", \"harpoon\", \"harpoon\", \"harpooneer\", \"harpooneer\", \"head\", \"head\", \"head\", \"head\", \"heart\", \"heart\", \"heart\", \"heart\", \"hold\", \"hold\", \"hold\", \"hold\", \"hope\", \"hope\", \"hope\", \"hope\", \"horror\", \"horror\", \"horror\", \"hovel\", \"human\", \"human\", \"human\", \"human\", \"inhabit\", \"key\", \"key\", \"key\", \"lady\", \"lady\", \"lady\", \"lady\", \"ladyship\", \"lake\", \"lake\", \"later\", \"leg\", \"leg\", \"letter\", \"letter\", \"letter\", \"letter\", \"lie\", \"lie\", \"lie\", \"lie\", \"life\", \"life\", \"life\", \"life\", \"light\", \"light\", \"light\", \"light\", \"lock\", \"lock\", \"lock\", \"love\", \"love\", \"love\", \"love\", \"manner\", \"manner\", \"manner\", \"manner\", \"mast\", \"mast_head\", \"mate\", \"mate\", \"mate\", \"mean\", \"mean\", \"mean\", \"mean\", \"mind\", \"mind\", \"mind\", \"mind\", \"miserable\", \"miserable\", \"miserable\", \"miserable\", \"misery\", \"misery\", \"misery\", \"misery\", \"month\", \"month\", \"month\", \"month\", \"mountain\", \"mountain\", \"mountain\", \"mountain\", \"murder\", \"murder\", \"murder\", \"murderer\", \"murderer\", \"murderer\", \"nature\", \"nature\", \"nature\", \"nature\", \"oil\", \"oil\", \"old\", \"old\", \"old\", \"old\", \"open\", \"open\", \"open\", \"open\", \"pass\", \"pass\", \"pass\", \"pass\", \"patient\", \"patient\", \"patient\", \"patient\", \"pier\", \"pipe\", \"possess\", \"possess\", \"possess\", \"protector\", \"reflect\", \"reflect\", \"remain\", \"remain\", \"remain\", \"remain\", \"reply\", \"reply\", \"reply\", \"reply\", \"return\", \"return\", \"return\", \"return\", \"room\", \"room\", \"room\", \"room\", \"round\", \"round\", \"round\", \"round\", \"run\", \"run\", \"run\", \"run\", \"sail\", \"sail\", \"sail\", \"sailor\", \"sailor\", \"sailor\", \"scene\", \"scene\", \"scene\", \"scene\", \"sea\", \"sea\", \"sea\", \"sensation\", \"sensation\", \"sensation\", \"ship\", \"ship\", \"ship\", \"ship\", \"sister\", \"sister\", \"sister\", \"sister\", \"sit\", \"sit\", \"sit\", \"sit\", \"sleep\", \"sleep\", \"sleep\", \"sleep\", \"small\", \"small\", \"small\", \"small\", \"sort\", \"sort\", \"sort\", \"sort\", \"spirit\", \"spirit\", \"spirit\", \"spirit\", \"stand\", \"stand\", \"stand\", \"stand\", \"starbuck\", \"strange\", \"strange\", \"strange\", \"strange\", \"tale\", \"tale\", \"tale\", \"tear\", \"tear\", \"tear\", \"tear\", \"thirst\", \"thou\", \"thou\", \"thou\", \"till\", \"till\", \"till\", \"till\", \"try\", \"try\", \"try\", \"try\", \"undertaking\", \"unfortunate\", \"victim\", \"voyage\", \"voyage\", \"voyage\", \"wake\", \"wake\", \"wake\", \"walk\", \"walk\", \"walk\", \"walk\", \"want\", \"want\", \"want\", \"want\", \"water\", \"water\", \"water\", \"weep\", \"weep\", \"whale\", \"whale\", \"whale\", \"whale\", \"whale_ship\", \"whaleman\", \"whaling\", \"whilst\", \"whilst\", \"whilst\", \"window\", \"window\", \"window\", \"window\", \"wish\", \"wish\", \"wish\", \"wish\", \"wolf\", \"wolf\", \"word\", \"word\", \"word\", \"word\", \"world\", \"world\", \"world\", \"world\", \"wretch\", \"write\", \"write\", \"write\", \"write\", \"young\", \"young\", \"young\", \"young\"]}, \"R\": 30, \"lambda.step\": 0.01, \"plot.opts\": {\"xlab\": \"PC1\", \"ylab\": \"PC2\"}, \"topic.order\": [2, 4, 3, 1]};\n",
       "\n",
       "function LDAvis_load_lib(url, callback){\n",
       "  var s = document.createElement('script');\n",
       "  s.src = url;\n",
       "  s.async = true;\n",
       "  s.onreadystatechange = s.onload = callback;\n",
       "  s.onerror = function(){console.warn(\"failed to load library \" + url);};\n",
       "  document.getElementsByTagName(\"head\")[0].appendChild(s);\n",
       "}\n",
       "\n",
       "if(typeof(LDAvis) !== \"undefined\"){\n",
       "   // already loaded: just create the visualization\n",
       "   !function(LDAvis){\n",
       "       new LDAvis(\"#\" + \"ldavis_el915701402167577913126394267984\", ldavis_el915701402167577913126394267984_data);\n",
       "   }(LDAvis);\n",
       "}else if(typeof define === \"function\" && define.amd){\n",
       "   // require.js is available: use it to load d3/LDAvis\n",
       "   require.config({paths: {d3: \"https://d3js.org/d3.v5\"}});\n",
       "   require([\"d3\"], function(d3){\n",
       "      window.d3 = d3;\n",
       "      LDAvis_load_lib(\"https://cdn.jsdelivr.net/gh/bmabey/pyLDAvis@3.3.1/pyLDAvis/js/ldavis.v3.0.0.js\", function(){\n",
       "        new LDAvis(\"#\" + \"ldavis_el915701402167577913126394267984\", ldavis_el915701402167577913126394267984_data);\n",
       "      });\n",
       "    });\n",
       "}else{\n",
       "    // require.js not available: dynamically load d3 & LDAvis\n",
       "    LDAvis_load_lib(\"https://d3js.org/d3.v5.js\", function(){\n",
       "         LDAvis_load_lib(\"https://cdn.jsdelivr.net/gh/bmabey/pyLDAvis@3.3.1/pyLDAvis/js/ldavis.v3.0.0.js\", function(){\n",
       "                 new LDAvis(\"#\" + \"ldavis_el915701402167577913126394267984\", ldavis_el915701402167577913126394267984_data);\n",
       "            })\n",
       "         });\n",
       "}\n",
       "</script>"
      ],
      "text/plain": [
       "<IPython.core.display.HTML object>"
      ]
     },
     "execution_count": 57,
     "metadata": {},
     "output_type": "execute_result"
    }
   ],
   "source": [
    "# plot topics\n",
    "data =  pyLDAvis.gensim_models.prepare(model, corpus, dictionary)\n",
    "pyLDAvis.display(data)"
   ]
  },
  {
   "cell_type": "code",
   "execution_count": 58,
   "metadata": {},
   "outputs": [],
   "source": [
    "# assignment\n",
    "sent_to_cluster = list()\n",
    "for n,doc in enumerate(corpus):\n",
    "    if doc:\n",
    "        cluster = max(model[doc],key=lambda x:x[1])\n",
    "        sent_to_cluster.append(cluster[0])"
   ]
  },
  {
   "cell_type": "code",
   "execution_count": 59,
   "metadata": {},
   "outputs": [
    {
     "name": "stdout",
     "output_type": "stream",
     "text": [
      "DRACULA.txt : 0 - 60\n",
      "Accuracy: 1.0\n",
      "------\n",
      "Frankenstein.txt : 1 - 60\n",
      "Accuracy: 1.0\n",
      "------\n",
      "Moby_Dick.txt : 2 - 55\n",
      "Accuracy: 0.9166666666666666\n",
      "------\n",
      "PRIDE_AND_PREJUDICE.txt : 3 - 60\n",
      "Accuracy: 1.0\n",
      "------\n"
     ]
    }
   ],
   "source": [
    "# accuracy\n",
    "from collections import Counter\n",
    "for book, cluster in book_id.items():\n",
    "    assignments = list()\n",
    "    for real,given in zip(chunk_class,sent_to_cluster):\n",
    "        if real == cluster:\n",
    "            assignments.append(given)\n",
    "    most_common,num_most_common = Counter(assignments).most_common(1)[0] # 4, 6 times\n",
    "    print(book,\":\",most_common,\"-\",num_most_common)\n",
    "    print(\"Accuracy:\",num_most_common/limit)\n",
    "    print(\"------\")"
   ]
  },
  {
   "cell_type": "markdown",
   "metadata": {},
   "source": [
    "# Task 4: Semantic analysis based on lexical categories"
   ]
  },
  {
   "cell_type": "code",
   "execution_count": 63,
   "metadata": {},
   "outputs": [],
   "source": [
    "from empath import Empath\n",
    "lexicon = Empath()"
   ]
  },
  {
   "cell_type": "code",
   "execution_count": 61,
   "metadata": {},
   "outputs": [
    {
     "name": "stdout",
     "output_type": "stream",
     "text": [
      "Collecting empath\n",
      "  Downloading empath-0.89.tar.gz (57 kB)\n",
      "\u001b[K     |████████████████████████████████| 57 kB 2.3 MB/s eta 0:00:01\n",
      "\u001b[?25hRequirement already satisfied: requests in /opt/miniconda3/envs/ada/lib/python3.8/site-packages (from empath) (2.26.0)\n",
      "Requirement already satisfied: certifi>=2017.4.17 in /opt/miniconda3/envs/ada/lib/python3.8/site-packages (from requests->empath) (2021.10.8)\n",
      "Requirement already satisfied: idna<4,>=2.5 in /opt/miniconda3/envs/ada/lib/python3.8/site-packages (from requests->empath) (3.2)\n",
      "Requirement already satisfied: charset-normalizer~=2.0.0 in /opt/miniconda3/envs/ada/lib/python3.8/site-packages (from requests->empath) (2.0.4)\n",
      "Requirement already satisfied: urllib3<1.27,>=1.21.1 in /opt/miniconda3/envs/ada/lib/python3.8/site-packages (from requests->empath) (1.26.7)\n",
      "Building wheels for collected packages: empath\n",
      "  Building wheel for empath (setup.py) ... \u001b[?25ldone\n",
      "\u001b[?25h  Created wheel for empath: filename=empath-0.89-py3-none-any.whl size=57821 sha256=335c3d57c01125ba1691e418926d6c990c28d7c8ad6a7db29cfea66370317c9f\n",
      "  Stored in directory: /Users/Julian/Library/Caches/pip/wheels/2a/e5/c2/fd8dad0a452927c85ecd3c6cbaa4748125246eed73d8303184\n",
      "Successfully built empath\n",
      "Installing collected packages: empath\n",
      "Successfully installed empath-0.89\n"
     ]
    }
   ],
   "source": [
    "!pip install empath"
   ]
  },
  {
   "cell_type": "markdown",
   "metadata": {},
   "source": [
    "### Let's see what pre-build categories we can study! More information: https://hci.stanford.edu/publications/2016/ethan/empath-chi-2016.pdf"
   ]
  },
  {
   "cell_type": "code",
   "execution_count": 64,
   "metadata": {},
   "outputs": [
    {
     "name": "stdout",
     "output_type": "stream",
     "text": [
      "help\n",
      "office\n",
      "dance\n",
      "money\n",
      "wedding\n",
      "domestic_work\n",
      "sleep\n",
      "medical_emergency\n",
      "cold\n",
      "hate\n",
      "cheerfulness\n",
      "aggression\n",
      "occupation\n",
      "envy\n",
      "anticipation\n"
     ]
    }
   ],
   "source": [
    "for cat in list(lexicon.cats.keys())[:15]:\n",
    "    print(cat)"
   ]
  },
  {
   "cell_type": "markdown",
   "metadata": {},
   "source": [
    "### For each category, we can examine representative terms"
   ]
  },
  {
   "cell_type": "code",
   "execution_count": 65,
   "metadata": {},
   "outputs": [
    {
     "data": {
      "text/plain": [
       "['surgeon',\n",
       " 'recovery',\n",
       " 'malnutrition',\n",
       " 'maternity',\n",
       " 'anesthesia',\n",
       " 'painkiller',\n",
       " 'cancerous',\n",
       " 'sick',\n",
       " 'physician',\n",
       " 'psychologist',\n",
       " 'med',\n",
       " 'cramp',\n",
       " 'disease',\n",
       " 'vomiting',\n",
       " 'anxiety']"
      ]
     },
     "execution_count": 65,
     "metadata": {},
     "output_type": "execute_result"
    }
   ],
   "source": [
    "lexicon.cats[\"health\"][:15]"
   ]
  },
  {
   "cell_type": "markdown",
   "metadata": {},
   "source": [
    "### Studying Pride and Prejudice"
   ]
  },
  {
   "cell_type": "code",
   "execution_count": 66,
   "metadata": {},
   "outputs": [
    {
     "name": "stderr",
     "output_type": "stream",
     "text": [
      "/opt/miniconda3/envs/ada/lib/python3.8/site-packages/past/builtins/misc.py:45: DeprecationWarning: the imp module is deprecated in favour of importlib; see the module's documentation for alternative uses\n",
      "  from imp import reload\n",
      "/opt/miniconda3/envs/ada/lib/python3.8/site-packages/past/builtins/misc.py:45: DeprecationWarning: the imp module is deprecated in favour of importlib; see the module's documentation for alternative uses\n",
      "  from imp import reload\n",
      "/opt/miniconda3/envs/ada/lib/python3.8/site-packages/past/builtins/misc.py:45: DeprecationWarning: the imp module is deprecated in favour of importlib; see the module's documentation for alternative uses\n",
      "  from imp import reload\n",
      "/opt/miniconda3/envs/ada/lib/python3.8/site-packages/past/builtins/misc.py:45: DeprecationWarning: the imp module is deprecated in favour of importlib; see the module's documentation for alternative uses\n",
      "  from imp import reload\n"
     ]
    }
   ],
   "source": [
    "nlp = spacy.load('en_core_web_sm')\n",
    "doc = nlp(books[3])"
   ]
  },
  {
   "cell_type": "code",
   "execution_count": 67,
   "metadata": {},
   "outputs": [],
   "source": [
    "empath_features = lexicon.analyze(doc.text,categories = [\"disappointment\", \"pain\", \"joy\", \"beauty\", \"affection\"])"
   ]
  },
  {
   "cell_type": "code",
   "execution_count": 68,
   "metadata": {},
   "outputs": [
    {
     "data": {
      "text/plain": [
       "{'disappointment': 149.0,\n",
       " 'pain': 228.0,\n",
       " 'joy': 278.0,\n",
       " 'beauty': 136.0,\n",
       " 'affection': 439.0}"
      ]
     },
     "execution_count": 68,
     "metadata": {},
     "output_type": "execute_result"
    }
   ],
   "source": [
    "empath_features"
   ]
  },
  {
   "cell_type": "code",
   "execution_count": 69,
   "metadata": {},
   "outputs": [],
   "source": [
    "empath_features = lexicon.analyze(doc.text,categories = [\"disappointment\", \"pain\", \"joy\", \"beauty\", \"affection\"], normalize = True)"
   ]
  },
  {
   "cell_type": "code",
   "execution_count": 70,
   "metadata": {},
   "outputs": [
    {
     "data": {
      "text/plain": [
       "{'disappointment': 0.0012256615693403638,\n",
       " 'pain': 0.001875508978587939,\n",
       " 'joy': 0.002286804807225645,\n",
       " 'beauty': 0.0011187246538945602,\n",
       " 'affection': 0.0036111773754390585}"
      ]
     },
     "execution_count": 70,
     "metadata": {},
     "output_type": "execute_result"
    }
   ],
   "source": [
    "empath_features"
   ]
  },
  {
   "cell_type": "markdown",
   "metadata": {},
   "source": [
    "### Usecase: the evolution of topics"
   ]
  },
  {
   "cell_type": "code",
   "execution_count": 71,
   "metadata": {},
   "outputs": [],
   "source": [
    "bins = range(0,len(doc.text),150000)\n"
   ]
  },
  {
   "cell_type": "code",
   "execution_count": 72,
   "metadata": {},
   "outputs": [],
   "source": [
    "love = []\n",
    "pain = []\n",
    "beauty = []\n",
    "affection = []\n",
    "\n",
    "\n",
    "for cnt,i in enumerate(bins[:-1]):\n",
    "    empath_features = lexicon.analyze(doc.text[bins[cnt]:bins[cnt+1]],\n",
    "                                      categories = [\"love\", \"pain\", \"joy\", \"beauty\", \"affection\"], normalize = True)\n",
    "    love.append(empath_features[\"love\"])\n",
    "    pain.append(empath_features[\"pain\"])\n",
    "    beauty.append(empath_features[\"beauty\"])\n",
    "    affection.append(empath_features[\"affection\"])"
   ]
  },
  {
   "cell_type": "code",
   "execution_count": 73,
   "metadata": {},
   "outputs": [
    {
     "data": {
      "text/plain": [
       "<matplotlib.legend.Legend at 0x7f8772948370>"
      ]
     },
     "execution_count": 73,
     "metadata": {},
     "output_type": "execute_result"
    },
    {
     "data": {
      "image/png": "[encoded data removed]",
      "text/plain": [
       "<Figure size 432x288 with 1 Axes>"
      ]
     },
     "metadata": {
      "needs_background": "light"
     },
     "output_type": "display_data"
    }
   ],
   "source": [
    "plt.plot(love,label = \"love\")\n",
    "plt.plot(beauty, label = \"beauty\")\n",
    "plt.plot(affection, label = \"affection\")\n",
    "plt.plot(pain,label = \"pain\")\n",
    "\n",
    "plt.xlabel(\"progression in the book\")\n",
    "plt.ylabel(\"frequency of a category\")\n",
    "plt.legend()"
   ]
  },
  {
   "cell_type": "code",
   "execution_count": 61,
   "metadata": {},
   "outputs": [],
   "source": [
    "# We can observe how as the story progresses, beauty and affection categories decrease, while love and pain intensify!"
   ]
  },
  {
   "cell_type": "markdown",
   "metadata": {},
   "source": [
    "### We can create custom categories based on seed terms!\n",
    "### Models trained on: fiction, nytimes or reddit"
   ]
  },
  {
   "cell_type": "code",
   "execution_count": 74,
   "metadata": {},
   "outputs": [
    {
     "name": "stdout",
     "output_type": "stream",
     "text": [
      "[\"avocado\", \"kale\", \"Swiss_chard\", \"escarole\", \"black_beans\", \"cucumber\", \"dill\", \"leek\", \"mango\", \"red_peppers\", \"chicory\", \"chanterelles\", \"chutney\", \"tamarind\", \"papaya\", \"black_olives\", \"endive\", \"pesto\", \"walnuts\", \"green_beans\", \"bok_choy\", \"portobello_mushrooms\", \"lemon_grass\", \"radicchio\", \"ricotta\", \"chicken_breast\", \"porcini\", \"blue_cheese\", \"snow_peas\", \"pickled\", \"Gorgonzola\", \"chorizo\", \"yams\", \"hazelnuts\", \"fresh_tomatoes\", \"shiitake_mushrooms\", \"anchovies\", \"wild_rice\", \"scallion\", \"red_onions\", \"broccoli_rape\", \"red_cabbage\", \"wasabi\", \"sweet_potato\", \"feta\", \"roasted_garlic\", \"compote\", \"napoleon\", \"aioli\", \"crab_meat\", \"cauliflower\", \"jicama\", \"parsnips\", \"apricots\", \"new_potatoes\", \"truffle_oil\", \"lemongrass\", \"pistachios\", \"saut\\u00e9ed\", \"gnocchi\", \"duck_confit\", \"fresh_herbs\", \"ratatouille\", \"white_beans\", \"croutons\", \"fresh_mozzarella\", \"squab\", \"watercress\", \"roasted_red_peppers\", \"pine_nuts\", \"fritters\", \"butternut_squash\", \"fava_beans\", \"drizzled\", \"red_onion\", \"pea_shoots\", \"rosemary\", \"romaine\", \"mustard_greens\", \"horseradish\", \"caramelized_onions\", \"artichoke_hearts\", \"fettuccine\", \"grilled_eggplant\", \"julienne\", \"plum_tomatoes\", \"grilled_chicken\", \"pineapple\", \"candied\", \"pancetta\", \"celery_root\", \"sea_scallops\", \"shiitake\", \"porcini_mushrooms\", \"sour_cream\", \"bean_sprouts\", \"oyster_mushrooms\", \"monkfish\", \"chickpeas\", \"coconut_milk\"]\n"
     ]
    }
   ],
   "source": [
    "lexicon.create_category(\"healthy_food\", [\"healthy_food\",\"low_carb\",\"kale\",\"avocado\"], model=\"nytimes\")"
   ]
  },
  {
   "cell_type": "code",
   "execution_count": 75,
   "metadata": {},
   "outputs": [
    {
     "name": "stdout",
     "output_type": "stream",
     "text": [
      "[\"green_vegetables\", \"leafy_greens\", \"whole_grain_bread\", \"brown_rice\", \"white_rice\", \"green_veggies\", \"veggies\", \"whole_wheat_bread\", \"sweet_potatoes\", \"raw_veggies\", \"lean_meat\", \"spinach\", \"fatty_meat\", \"kale\", \"sweet_potato\", \"avocado\", \"hummus\", \"chicken_breast\", \"veggie\", \"whole_grain\", \"vegetables\", \"whole_wheat_pasta\", \"salads\", \"broccoli\", \"greek_yogurt\", \"Greek_yogurt\", \"yogurt\", \"avocados\", \"rice_cakes\", \"raw_vegetables\", \"almonds\", \"lean_protein\", \"grilled_chicken\", \"quinoa\", \"steamed_broccoli\", \"whole_grain_pasta\", \"brocolli\", \"kale\", \"avocado\", \"tofu\", \"Veggies\", \"edamame\", \"more_veggies\", \"lean_meats\", \"quinoa\", \"salad\", \"cottage_cheese\", \"whole_wheat\", \"wheat_bread\", \"romaine_lettuce\", \"white_bread\", \"raw_spinach\", \"oatmeal\", \"white_potatoes\", \"almond_butter\", \"pork_rinds\", \"veg\", \"cashews\", \"greek_yoghurt\", \"baby_carrots\", \"fresh_veggies\", \"fatty_meats\", \"more_vegetables\", \"avacado\", \"veges\", \"nut_butter\", \"hard_boiled_eggs\", \"carrot_sticks\", \"whole_grains\", \"grilled_chicken_breast\", \"steamed_vegetables\", \"meats\", \"lentils\", \"green_beans\", \"low_cal\", \"nuts/seeds\", \"iceberg_lettuce\", \"carrots\", \"red_meat\", \"other_foods\", \"fried_foods\", \"smoothies\", \"healthy_fats\", \"vegies\", \"avacados\", \"other_vegetables\", \"fresh_fruit\", \"spinach_salad\", \"egg_whites\", \"steamed_veggies\", \"nut_butters\", \"ground_turkey\", \"baked_chicken\"]\n"
     ]
    }
   ],
   "source": [
    "lexicon.create_category(\"healthy_food\", [\"healthy_food\",\"low_carb\",\"kale\",\"avocado\"], model=\"reddit\")"
   ]
  },
  {
   "cell_type": "code",
   "execution_count": 76,
   "metadata": {},
   "outputs": [
    {
     "name": "stdout",
     "output_type": "stream",
     "text": [
      "[\"turkey\", \"roast_beef\", \"white_bread\", \"fried_chicken\", \"pancakes\", \"peanut_butter\", \"gefilte_fish\", \"stuffing\", \"French_fries\", \"meatloaf\", \"brisket\", \"potato_salad\", \"pumpkin_pie\", \"scrambled_eggs\", \"french_fries\", \"spaghetti\", \"gravy\", \"tamales\", \"pot_roast\", \"oatmeal\", \"lasagna\", \"corned_beef\", \"latkes\", \"pickles\", \"sauerkraut\", \"burger\", \"grits\", \"biscuits\", \"hamburger\", \"salad_bar\", \"corn_bread\", \"chicken_soup\", \"bacon\", \"cream_cheese\", \"brownies\", \"tofu\", \"pastrami\", \"pork_chops\", \"salami\", \"marshmallows\", \"collard_greens\", \"macaroni\", \"pies\", \"raw_fish\", \"eggnog\", \"cheeseburgers\", \"truffles\", \"chocolate_cake\", \"hard-boiled_eggs\", \"baked_potatoes\", \"venison\", \"cottage_cheese\", \"pheasant\", \"applesauce\", \"quail\", \"fruit_salad\", \"meatballs\", \"chocolate_chip_cookies\", \"tacos\", \"roast\", \"jelly\", \"chicken_salad\", \"omelet\", \"gumbo\", \"steaks\", \"soup\", \"lox\", \"sausage\", \"roast_chicken\", \"rye\", \"bagel\", \"fruitcake\", \"fries\", \"fried_eggs\", \"ketchup\", \"chicken_wings\", \"barbecue_sauce\", \"sweet_potatoes\", \"pasta\", \"sausages\", \"crackers\", \"omelets\", \"roasting\", \"French_toast\", \"muffins\", \"mashed_potatoes\", \"fresh_fruit\", \"baked_potato\", \"waffles\", \"cranberry_sauce\", \"baked_beans\", \"cheese\", \"tripe\", \"noodles\", \"maple_syrup\", \"quiche\", \"buns\", \"baklava\", \"stews\"]\n"
     ]
    }
   ],
   "source": [
    "lexicon.create_category(\"festive_food\", [\"festive_food\",\"turkey\",\"eggnog\"], model=\"nytimes\")"
   ]
  },
  {
   "cell_type": "markdown",
   "metadata": {},
   "source": [
    "### List of further resources\n",
    "    * NLTK\n",
    "    * Jellyfish: string similarity library\n",
    "    * TextBlob: simplified text processing\n",
    "    * PyEnchant: language detection\n",
    "    * WordNet: ontology of concepts (inc. in NLTK)\n",
    "    * Stanford NLP (Java)\n",
    "    * Tweet NLP: https://www.cs.cmu.edu/~ark/TweetNLP/"
   ]
  },
  {
   "cell_type": "markdown",
   "metadata": {
    "collapsed": true
   },
   "source": [
    "## Part 2"
   ]
  },
  {
   "cell_type": "markdown",
   "metadata": {},
   "source": [
    "### Question 1:\n",
    "An NLP preprocessing model, using the list of stopwords ['a', 'the', 'is', 'you', 'I','my','with','was'] for the input sentence\n",
    "“I was driving down the street with my CAR! :)” <br>\n",
    "gives the following output: {driving, down, street, car, :)}.\n",
    "The model consists of: <br>\n",
    "\n",
    "a) Stopword Removal, Casefolding and Stemming <br>\n",
    "**b) Stopword Removal and Casefolding <br>**\n",
    "c) Stopword Removal and Stemming <br>\n",
    "d) Casefolding and Stemming <br>"
   ]
  },
  {
   "cell_type": "code",
   "execution_count": 65,
   "metadata": {
    "collapsed": true
   },
   "outputs": [],
   "source": [
    "# write your code and/or answer here"
   ]
  },
  {
   "cell_type": "markdown",
   "metadata": {},
   "source": [
    "### Question 2:\n",
    "What statement is false about topic detection using LSA: <br>\n",
    "\n",
    "a) It finds the representation of documents and words in the latent \"topic space\" <br>\n",
    "b) It produces topics interpretable in “word space” <br>\n",
    "c) A document's topic representation is a probability distribution over topics <br>\n",
    "d) The vectors representing topics in “word space” are linearly independent <br>"
   ]
  },
  {
   "cell_type": "code",
   "execution_count": 66,
   "metadata": {
    "collapsed": true
   },
   "outputs": [],
   "source": [
    "# write your code and/or answer here"
   ]
  },
  {
   "cell_type": "markdown",
   "metadata": {},
   "source": [
    "### Question 3:\n",
    "The problem of having more features than documents when using a TF-IDF matrix for document classification cannot be addressed by: <br>\n",
    "\n",
    "a) Using SVD for dimensionality reduction <br>\n",
    "b) Using min-max scaling of features <br>\n",
    "c) Penalizing very large positive and very large negative weights (a.k.a. regularization) <br>\n",
    "d) Using online feature selection <br>"
   ]
  },
  {
   "cell_type": "code",
   "execution_count": 67,
   "metadata": {
    "collapsed": true
   },
   "outputs": [],
   "source": [
    "# write your code and/or answer here"
   ]
  },
  {
   "cell_type": "markdown",
   "metadata": {},
   "source": [
    "### Question 4:\n",
    "Which of the following is false about word vectors: <br>\n",
    "\n",
    "a) Word2vec is used to achieve a lower dimensional representation than bag of words <br>\n",
    "b) Semantically similar words typically have similar word2vec vectors <br>\n",
    "c) Each dimension in the word2vec embedding has a clear interpretation <br>\n",
    "d) Word2Vec can be used for the computation of sentence vectors <br>"
   ]
  },
  {
   "cell_type": "code",
   "execution_count": 68,
   "metadata": {
    "collapsed": true
   },
   "outputs": [],
   "source": [
    "# write your code and/or answer here"
   ]
  },
  {
   "cell_type": "markdown",
   "metadata": {},
   "source": [
    "### Question 5:\n",
    "Given the following word (W) / context (C) co-occurrence frequencies, which statement is true regarding the pointwise mutual information (PMI)?\n",
    "\n",
    "|  |W1|W2|W3|\n",
    "|--|--|--|--|\n",
    "|C1| 2| 0| 3|\n",
    "|C2| 6| 4| 0|\n",
    "|C3| 1| 1| 3|\n",
    "\n",
    "a) PMI(w=W1, c=C2) > PMI(w=W2, c=C2) > PMI(w=W3, c=C3) <br>\n",
    "b) PMI(w=W2, c=C2) > PMI(w=W1, c=C2) >  PMI(w=W3, c=C3) <br>\n",
    "c) PMI(w=W3, c=C3) > PMI(w=W1, c=C2) > PMI(w=W2, c=C2) <br>\n",
    "d) PMI(w=W3, c=C3) > PMI(w=W2, c=C2) > PMI(w=W1, c=C2) <br>"
   ]
  },
  {
   "cell_type": "code",
   "execution_count": 69,
   "metadata": {
    "collapsed": true
   },
   "outputs": [],
   "source": [
    "# write your code and/or answer here"
   ]
  },
  {
   "cell_type": "code",
   "execution_count": null,
   "metadata": {
    "collapsed": true
   },
   "outputs": [],
   "source": []
  }
 ],
 "metadata": {
  "kernelspec": {
   "display_name": "Python 3 (ipykernel)",
   "language": "python",
   "name": "python3"
  },
  "language_info": {
   "codemirror_mode": {
    "name": "ipython",
    "version": 3
   },
   "file_extension": ".py",
   "mimetype": "text/x-python",
   "name": "python",
   "nbconvert_exporter": "python",
   "pygments_lexer": "ipython3",
   "version": "3.8.11"
  },
  "toc": {
   "colors": {
    "hover_highlight": "#DAA520",
    "navigate_num": "#000000",
    "navigate_text": "#333333",
    "running_highlight": "#FF0000",
    "selected_highlight": "#FFD700",
    "sidebar_border": "#EEEEEE",
    "wrapper_background": "#FFFFFF"
   },
   "moveMenuLeft": true,
   "nav_menu": {
    "height": "228px",
    "width": "252px"
   },
   "navigate_menu": true,
   "number_sections": true,
   "sideBar": true,
   "threshold": 4,
   "toc_cell": false,
   "toc_section_display": "block",
   "toc_window_display": false,
   "widenNotebook": false
  },
  "varInspector": {
   "cols": {
    "lenName": 16,
    "lenType": 16,
    "lenVar": 40
   },
   "kernels_config": {
    "python": {
     "delete_cmd_postfix": "",
     "delete_cmd_prefix": "del ",
     "library": "var_list.py",
     "varRefreshCmd": "print(var_dic_list())"
    },
    "r": {
     "delete_cmd_postfix": ") ",
     "delete_cmd_prefix": "rm(",
     "library": "var_list.r",
     "varRefreshCmd": "cat(var_dic_list()) "
    }
   },
   "types_to_exclude": [
    "module",
    "function",
    "builtin_function_or_method",
    "instance",
    "_Feature"
   ],
   "window_display": false
  }
 },
 "nbformat": 4,
 "nbformat_minor": 2
}
