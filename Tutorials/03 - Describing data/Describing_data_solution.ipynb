{
 "cells": [
  {
   "cell_type": "markdown",
   "metadata": {},
   "source": [
    "### In this exercise, first, you will familiarize yourself with python libraries statsmodels and SciPy that let you do statistical analysis: calculate descriptive statistics, sample the. datapoints, study relationship between variables, and perform hypothesis testing. Then, second, you will work independently on a set of exercises that will let you practice your skills.\n",
    "\n",
    "### Here we show a couple of examples of how to do common analyses, but there are many more useful statistical distributions and statistical tests. In the linked documentation, you will find complete information, and a lot more details compared to what is outlined in this notebook:\n",
    "- [statsmodels](https://www.statsmodels.org/stable/examples/index.html), [more complete documentation](https://www.statsmodels.org/stable/stats.html)\n",
    "- [SciPy](https://docs.scipy.org/doc/scipy/reference/stats.html)"
   ]
  },
  {
   "cell_type": "markdown",
   "metadata": {},
   "source": [
    "# Tutorial: How to use the libraries\n",
    "\n",
    "- You will be working with the full US 2015 census dataset (acs2015_county_data.csv, available at https://www.kaggle.com/muonneutrino/us-census-demographic-data#acs2015_county_data.csv). Here we load it. Take some time to familiarize yourself with the contents. One row represents one county."
   ]
  },
  {
   "cell_type": "code",
   "execution_count": 1,
   "metadata": {
    "collapsed": true
   },
   "outputs": [],
   "source": [
    "import pandas as pd\n",
    "import pandas as pd\n",
    "import numpy as np\n",
    "import matplotlib.pyplot as plt\n",
    "%matplotlib inline\n",
    "import seaborn as sns\n",
    "import math\n",
    "\n",
    "#load the statistical libraries\n",
    "from statsmodels.stats import diagnostic\n",
    "from scipy import stats"
   ]
  },
  {
   "cell_type": "code",
   "execution_count": 2,
   "metadata": {
    "collapsed": true
   },
   "outputs": [],
   "source": [
    "data_folder = './data/'\n",
    "df = pd.read_csv(data_folder + 'acs2015_county_data.csv')"
   ]
  },
  {
   "cell_type": "code",
   "execution_count": 3,
   "metadata": {},
   "outputs": [
    {
     "data": {
      "text/plain": [
       "Index(['CensusId', 'State', 'County', 'TotalPop', 'Men', 'Women', 'Hispanic',\n",
       "       'White', 'Black', 'Native', 'Asian', 'Pacific', 'Citizen', 'Income',\n",
       "       'IncomeErr', 'IncomePerCap', 'IncomePerCapErr', 'Poverty',\n",
       "       'ChildPoverty', 'Professional', 'Service', 'Office', 'Construction',\n",
       "       'Production', 'Drive', 'Carpool', 'Transit', 'Walk', 'OtherTransp',\n",
       "       'WorkAtHome', 'MeanCommute', 'Employed', 'PrivateWork', 'PublicWork',\n",
       "       'SelfEmployed', 'FamilyWork', 'Unemployment'],\n",
       "      dtype='object')"
      ]
     },
     "execution_count": 3,
     "metadata": {},
     "output_type": "execute_result"
    }
   ],
   "source": [
    "df.columns"
   ]
  },
  {
   "cell_type": "code",
   "execution_count": 4,
   "metadata": {},
   "outputs": [
    {
     "data": {
      "text/html": [
       "<div>\n",
       "<style scoped>\n",
       "    .dataframe tbody tr th:only-of-type {\n",
       "        vertical-align: middle;\n",
       "    }\n",
       "\n",
       "    .dataframe tbody tr th {\n",
       "        vertical-align: top;\n",
       "    }\n",
       "\n",
       "    .dataframe thead th {\n",
       "        text-align: right;\n",
       "    }\n",
       "</style>\n",
       "<table border=\"1\" class=\"dataframe\">\n",
       "  <thead>\n",
       "    <tr style=\"text-align: right;\">\n",
       "      <th></th>\n",
       "      <th>CensusId</th>\n",
       "      <th>State</th>\n",
       "      <th>County</th>\n",
       "      <th>TotalPop</th>\n",
       "      <th>Men</th>\n",
       "      <th>Women</th>\n",
       "      <th>Hispanic</th>\n",
       "      <th>White</th>\n",
       "      <th>Black</th>\n",
       "      <th>Native</th>\n",
       "      <th>...</th>\n",
       "      <th>Walk</th>\n",
       "      <th>OtherTransp</th>\n",
       "      <th>WorkAtHome</th>\n",
       "      <th>MeanCommute</th>\n",
       "      <th>Employed</th>\n",
       "      <th>PrivateWork</th>\n",
       "      <th>PublicWork</th>\n",
       "      <th>SelfEmployed</th>\n",
       "      <th>FamilyWork</th>\n",
       "      <th>Unemployment</th>\n",
       "    </tr>\n",
       "  </thead>\n",
       "  <tbody>\n",
       "    <tr>\n",
       "      <th>571</th>\n",
       "      <td>16041</td>\n",
       "      <td>Idaho</td>\n",
       "      <td>Franklin</td>\n",
       "      <td>12914</td>\n",
       "      <td>6540</td>\n",
       "      <td>6374</td>\n",
       "      <td>6.8</td>\n",
       "      <td>91.3</td>\n",
       "      <td>0.1</td>\n",
       "      <td>0.3</td>\n",
       "      <td>...</td>\n",
       "      <td>2.6</td>\n",
       "      <td>1.9</td>\n",
       "      <td>5.4</td>\n",
       "      <td>24.1</td>\n",
       "      <td>5401</td>\n",
       "      <td>81.3</td>\n",
       "      <td>11.9</td>\n",
       "      <td>6.4</td>\n",
       "      <td>0.3</td>\n",
       "      <td>5.0</td>\n",
       "    </tr>\n",
       "    <tr>\n",
       "      <th>2799</th>\n",
       "      <td>49045</td>\n",
       "      <td>Utah</td>\n",
       "      <td>Tooele</td>\n",
       "      <td>60893</td>\n",
       "      <td>30737</td>\n",
       "      <td>30156</td>\n",
       "      <td>11.8</td>\n",
       "      <td>83.7</td>\n",
       "      <td>0.6</td>\n",
       "      <td>1.1</td>\n",
       "      <td>...</td>\n",
       "      <td>1.8</td>\n",
       "      <td>1.7</td>\n",
       "      <td>3.9</td>\n",
       "      <td>29.3</td>\n",
       "      <td>26337</td>\n",
       "      <td>74.8</td>\n",
       "      <td>21.2</td>\n",
       "      <td>3.9</td>\n",
       "      <td>0.1</td>\n",
       "      <td>7.1</td>\n",
       "    </tr>\n",
       "    <tr>\n",
       "      <th>2515</th>\n",
       "      <td>47175</td>\n",
       "      <td>Tennessee</td>\n",
       "      <td>Van Buren</td>\n",
       "      <td>5596</td>\n",
       "      <td>2791</td>\n",
       "      <td>2805</td>\n",
       "      <td>1.1</td>\n",
       "      <td>95.9</td>\n",
       "      <td>0.6</td>\n",
       "      <td>0.0</td>\n",
       "      <td>...</td>\n",
       "      <td>0.7</td>\n",
       "      <td>1.7</td>\n",
       "      <td>7.3</td>\n",
       "      <td>27.9</td>\n",
       "      <td>2218</td>\n",
       "      <td>62.9</td>\n",
       "      <td>27.5</td>\n",
       "      <td>9.6</td>\n",
       "      <td>0.0</td>\n",
       "      <td>11.2</td>\n",
       "    </tr>\n",
       "    <tr>\n",
       "      <th>1508</th>\n",
       "      <td>29051</td>\n",
       "      <td>Missouri</td>\n",
       "      <td>Cole</td>\n",
       "      <td>76533</td>\n",
       "      <td>38701</td>\n",
       "      <td>37832</td>\n",
       "      <td>2.7</td>\n",
       "      <td>81.8</td>\n",
       "      <td>11.5</td>\n",
       "      <td>0.4</td>\n",
       "      <td>...</td>\n",
       "      <td>1.3</td>\n",
       "      <td>1.4</td>\n",
       "      <td>2.6</td>\n",
       "      <td>17.2</td>\n",
       "      <td>35978</td>\n",
       "      <td>67.5</td>\n",
       "      <td>27.8</td>\n",
       "      <td>4.2</td>\n",
       "      <td>0.4</td>\n",
       "      <td>4.9</td>\n",
       "    </tr>\n",
       "    <tr>\n",
       "      <th>1094</th>\n",
       "      <td>21203</td>\n",
       "      <td>Kentucky</td>\n",
       "      <td>Rockcastle</td>\n",
       "      <td>16942</td>\n",
       "      <td>8313</td>\n",
       "      <td>8629</td>\n",
       "      <td>0.6</td>\n",
       "      <td>97.7</td>\n",
       "      <td>0.2</td>\n",
       "      <td>1.2</td>\n",
       "      <td>...</td>\n",
       "      <td>1.1</td>\n",
       "      <td>1.3</td>\n",
       "      <td>2.0</td>\n",
       "      <td>25.7</td>\n",
       "      <td>6015</td>\n",
       "      <td>77.8</td>\n",
       "      <td>17.8</td>\n",
       "      <td>4.4</td>\n",
       "      <td>0.0</td>\n",
       "      <td>11.0</td>\n",
       "    </tr>\n",
       "    <tr>\n",
       "      <th>398</th>\n",
       "      <td>13023</td>\n",
       "      <td>Georgia</td>\n",
       "      <td>Bleckley</td>\n",
       "      <td>12746</td>\n",
       "      <td>6099</td>\n",
       "      <td>6647</td>\n",
       "      <td>2.7</td>\n",
       "      <td>69.5</td>\n",
       "      <td>26.2</td>\n",
       "      <td>0.1</td>\n",
       "      <td>...</td>\n",
       "      <td>2.5</td>\n",
       "      <td>0.7</td>\n",
       "      <td>3.2</td>\n",
       "      <td>25.5</td>\n",
       "      <td>4365</td>\n",
       "      <td>60.3</td>\n",
       "      <td>33.4</td>\n",
       "      <td>6.3</td>\n",
       "      <td>0.0</td>\n",
       "      <td>4.8</td>\n",
       "    </tr>\n",
       "    <tr>\n",
       "      <th>6</th>\n",
       "      <td>1013</td>\n",
       "      <td>Alabama</td>\n",
       "      <td>Butler</td>\n",
       "      <td>20354</td>\n",
       "      <td>9502</td>\n",
       "      <td>10852</td>\n",
       "      <td>1.2</td>\n",
       "      <td>53.3</td>\n",
       "      <td>43.8</td>\n",
       "      <td>0.1</td>\n",
       "      <td>...</td>\n",
       "      <td>0.8</td>\n",
       "      <td>0.6</td>\n",
       "      <td>1.7</td>\n",
       "      <td>24.6</td>\n",
       "      <td>7813</td>\n",
       "      <td>77.4</td>\n",
       "      <td>16.2</td>\n",
       "      <td>6.2</td>\n",
       "      <td>0.2</td>\n",
       "      <td>10.9</td>\n",
       "    </tr>\n",
       "    <tr>\n",
       "      <th>2142</th>\n",
       "      <td>40023</td>\n",
       "      <td>Oklahoma</td>\n",
       "      <td>Choctaw</td>\n",
       "      <td>15120</td>\n",
       "      <td>7324</td>\n",
       "      <td>7796</td>\n",
       "      <td>3.6</td>\n",
       "      <td>62.3</td>\n",
       "      <td>11.4</td>\n",
       "      <td>12.0</td>\n",
       "      <td>...</td>\n",
       "      <td>1.9</td>\n",
       "      <td>2.0</td>\n",
       "      <td>2.8</td>\n",
       "      <td>22.5</td>\n",
       "      <td>5308</td>\n",
       "      <td>71.6</td>\n",
       "      <td>20.4</td>\n",
       "      <td>7.8</td>\n",
       "      <td>0.1</td>\n",
       "      <td>8.9</td>\n",
       "    </tr>\n",
       "    <tr>\n",
       "      <th>2640</th>\n",
       "      <td>48235</td>\n",
       "      <td>Texas</td>\n",
       "      <td>Irion</td>\n",
       "      <td>1644</td>\n",
       "      <td>824</td>\n",
       "      <td>820</td>\n",
       "      <td>25.1</td>\n",
       "      <td>71.7</td>\n",
       "      <td>0.0</td>\n",
       "      <td>0.0</td>\n",
       "      <td>...</td>\n",
       "      <td>4.4</td>\n",
       "      <td>1.1</td>\n",
       "      <td>13.8</td>\n",
       "      <td>22.9</td>\n",
       "      <td>805</td>\n",
       "      <td>57.9</td>\n",
       "      <td>21.1</td>\n",
       "      <td>18.5</td>\n",
       "      <td>2.5</td>\n",
       "      <td>4.4</td>\n",
       "    </tr>\n",
       "    <tr>\n",
       "      <th>2736</th>\n",
       "      <td>48427</td>\n",
       "      <td>Texas</td>\n",
       "      <td>Starr</td>\n",
       "      <td>62648</td>\n",
       "      <td>30368</td>\n",
       "      <td>32280</td>\n",
       "      <td>98.7</td>\n",
       "      <td>0.9</td>\n",
       "      <td>0.0</td>\n",
       "      <td>0.0</td>\n",
       "      <td>...</td>\n",
       "      <td>4.5</td>\n",
       "      <td>1.4</td>\n",
       "      <td>4.6</td>\n",
       "      <td>22.9</td>\n",
       "      <td>21006</td>\n",
       "      <td>68.2</td>\n",
       "      <td>22.5</td>\n",
       "      <td>8.6</td>\n",
       "      <td>0.6</td>\n",
       "      <td>13.8</td>\n",
       "    </tr>\n",
       "  </tbody>\n",
       "</table>\n",
       "<p>10 rows × 37 columns</p>\n",
       "</div>"
      ],
      "text/plain": [
       "      CensusId      State      County  TotalPop    Men  Women  Hispanic  \\\n",
       "571      16041      Idaho    Franklin     12914   6540   6374       6.8   \n",
       "2799     49045       Utah      Tooele     60893  30737  30156      11.8   \n",
       "2515     47175  Tennessee   Van Buren      5596   2791   2805       1.1   \n",
       "1508     29051   Missouri        Cole     76533  38701  37832       2.7   \n",
       "1094     21203   Kentucky  Rockcastle     16942   8313   8629       0.6   \n",
       "398      13023    Georgia    Bleckley     12746   6099   6647       2.7   \n",
       "6         1013    Alabama      Butler     20354   9502  10852       1.2   \n",
       "2142     40023   Oklahoma     Choctaw     15120   7324   7796       3.6   \n",
       "2640     48235      Texas       Irion      1644    824    820      25.1   \n",
       "2736     48427      Texas       Starr     62648  30368  32280      98.7   \n",
       "\n",
       "      White  Black  Native  ...  Walk  OtherTransp  WorkAtHome  MeanCommute  \\\n",
       "571    91.3    0.1     0.3  ...   2.6          1.9         5.4         24.1   \n",
       "2799   83.7    0.6     1.1  ...   1.8          1.7         3.9         29.3   \n",
       "2515   95.9    0.6     0.0  ...   0.7          1.7         7.3         27.9   \n",
       "1508   81.8   11.5     0.4  ...   1.3          1.4         2.6         17.2   \n",
       "1094   97.7    0.2     1.2  ...   1.1          1.3         2.0         25.7   \n",
       "398    69.5   26.2     0.1  ...   2.5          0.7         3.2         25.5   \n",
       "6      53.3   43.8     0.1  ...   0.8          0.6         1.7         24.6   \n",
       "2142   62.3   11.4    12.0  ...   1.9          2.0         2.8         22.5   \n",
       "2640   71.7    0.0     0.0  ...   4.4          1.1        13.8         22.9   \n",
       "2736    0.9    0.0     0.0  ...   4.5          1.4         4.6         22.9   \n",
       "\n",
       "      Employed  PrivateWork  PublicWork  SelfEmployed  FamilyWork  \\\n",
       "571       5401         81.3        11.9           6.4         0.3   \n",
       "2799     26337         74.8        21.2           3.9         0.1   \n",
       "2515      2218         62.9        27.5           9.6         0.0   \n",
       "1508     35978         67.5        27.8           4.2         0.4   \n",
       "1094      6015         77.8        17.8           4.4         0.0   \n",
       "398       4365         60.3        33.4           6.3         0.0   \n",
       "6         7813         77.4        16.2           6.2         0.2   \n",
       "2142      5308         71.6        20.4           7.8         0.1   \n",
       "2640       805         57.9        21.1          18.5         2.5   \n",
       "2736     21006         68.2        22.5           8.6         0.6   \n",
       "\n",
       "      Unemployment  \n",
       "571            5.0  \n",
       "2799           7.1  \n",
       "2515          11.2  \n",
       "1508           4.9  \n",
       "1094          11.0  \n",
       "398            4.8  \n",
       "6             10.9  \n",
       "2142           8.9  \n",
       "2640           4.4  \n",
       "2736          13.8  \n",
       "\n",
       "[10 rows x 37 columns]"
      ]
     },
     "execution_count": 4,
     "metadata": {},
     "output_type": "execute_result"
    }
   ],
   "source": [
    "df.sample(10)"
   ]
  },
  {
   "cell_type": "markdown",
   "metadata": {},
   "source": [
    "- We will focus first on income per capita across counties."
   ]
  },
  {
   "cell_type": "code",
   "execution_count": 5,
   "metadata": {},
   "outputs": [
    {
     "data": {
      "text/plain": [
       "<matplotlib.axes._subplots.AxesSubplot at 0x7fef2be32b38>"
      ]
     },
     "execution_count": 5,
     "metadata": {},
     "output_type": "execute_result"
    },
    {
     "data": {
      "image/png": "[encoded data removed]",
      "text/plain": [
       "<Figure size 432x288 with 1 Axes>"
      ]
     },
     "metadata": {},
     "output_type": "display_data"
    }
   ],
   "source": [
    "df['IncomePerCap'].hist(bins = 50)"
   ]
  },
  {
   "cell_type": "markdown",
   "metadata": {},
   "source": [
    "### 1. Calculating descriptive statisctics\n",
    "\n",
    "- Let's calculate basic descriptive statistics of the income per capita"
   ]
  },
  {
   "cell_type": "code",
   "execution_count": 6,
   "metadata": {},
   "outputs": [
    {
     "data": {
      "text/plain": [
       "count     3220.000000\n",
       "mean     23981.771739\n",
       "std       6204.339960\n",
       "min       5878.000000\n",
       "25%      20238.500000\n",
       "50%      23460.000000\n",
       "75%      27053.250000\n",
       "max      65600.000000\n",
       "Name: IncomePerCap, dtype: float64"
      ]
     },
     "execution_count": 6,
     "metadata": {},
     "output_type": "execute_result"
    }
   ],
   "source": [
    "df['IncomePerCap'].describe()"
   ]
  },
  {
   "cell_type": "markdown",
   "metadata": {},
   "source": [
    "- What distribution does the data come from? Here is how we can test the goodness of the fit."
   ]
  },
  {
   "cell_type": "code",
   "execution_count": 7,
   "metadata": {},
   "outputs": [
    {
     "data": {
      "text/plain": [
       "(0.0637621121184162, 2.383237681149642e-34)"
      ]
     },
     "execution_count": 7,
     "metadata": {},
     "output_type": "execute_result"
    }
   ],
   "source": [
    "# does the data come from a normal distrbution?\n",
    "diagnostic.kstest_normal(df['IncomePerCap'].values, dist = 'norm')"
   ]
  },
  {
   "cell_type": "markdown",
   "metadata": {},
   "source": [
    "- p_value < 0.05 -> we can reject the null hypothesis that the data comes from a normal distribution!"
   ]
  },
  {
   "cell_type": "code",
   "execution_count": 8,
   "metadata": {},
   "outputs": [
    {
     "data": {
      "text/plain": [
       "(0.433243770582646, 0.01)"
      ]
     },
     "execution_count": 8,
     "metadata": {},
     "output_type": "execute_result"
    }
   ],
   "source": [
    "#how about exponential?\n",
    "diagnostic.kstest_normal(df['IncomePerCap'].values, dist = 'exp')"
   ]
  },
  {
   "cell_type": "markdown",
   "metadata": {},
   "source": [
    "- p < 0.05 -> not exponential either!"
   ]
  },
  {
   "cell_type": "markdown",
   "metadata": {},
   "source": [
    "### 2. How to sample the data"
   ]
  },
  {
   "cell_type": "markdown",
   "metadata": {},
   "source": [
    "- Often we need to find random samples from the dataset. We can do so conveniently with pandas wrappers."
   ]
  },
  {
   "cell_type": "code",
   "execution_count": 9,
   "metadata": {
    "collapsed": true
   },
   "outputs": [],
   "source": [
    "#make 10 samples with replacement\n",
    "sample1_counties = df.sample(n = 10, replace = True)\n",
    "\n",
    "#make 10 samples without replacement\n",
    "sample1_counties = df.sample(n = 10, replace = False)\n",
    "\n",
    "#sometimes we want to sample in an ublanaced way, so that we upsample datapoints of certain characteristic,\n",
    "#and downsample the others. this can be acieved with weights parameter\n",
    "#here we sample by upsampling counties with large population\n",
    "sample2_counties = df.sample(n = 10, replace = False, weights = df['TotalPop'])"
   ]
  },
  {
   "cell_type": "code",
   "execution_count": 10,
   "metadata": {},
   "outputs": [
    {
     "name": "stdout",
     "output_type": "stream",
     "text": [
      "33253.6\n",
      "979782.2\n"
     ]
    }
   ],
   "source": [
    "#on avergage, the samples in the sample produce with reveighting now have higher population, as we wanted!\n",
    "print(sample1_counties['TotalPop'].mean())\n",
    "print(sample2_counties['TotalPop'].mean())"
   ]
  },
  {
   "cell_type": "markdown",
   "metadata": {},
   "source": [
    "### 3. Examining relationship between two variables"
   ]
  },
  {
   "cell_type": "markdown",
   "metadata": {},
   "source": [
    "- Is income per capita of a county correlated with the unemployment?"
   ]
  },
  {
   "cell_type": "code",
   "execution_count": 11,
   "metadata": {},
   "outputs": [
    {
     "data": {
      "text/plain": [
       "(0.2646136320394489, 9.942215354221294e-53)"
      ]
     },
     "execution_count": 11,
     "metadata": {},
     "output_type": "execute_result"
    }
   ],
   "source": [
    "stats.pearsonr(df['IncomePerCap'],df['Employed'])"
   ]
  },
  {
   "cell_type": "markdown",
   "metadata": {},
   "source": [
    "- There is a small (0.26), but significant (p < 0.05) positive correlation"
   ]
  },
  {
   "cell_type": "code",
   "execution_count": 12,
   "metadata": {},
   "outputs": [
    {
     "data": {
      "text/plain": [
       "SpearmanrResult(correlation=0.30770631560595474, pvalue=1.415296431173735e-71)"
      ]
     },
     "execution_count": 12,
     "metadata": {},
     "output_type": "execute_result"
    }
   ],
   "source": [
    "stats.spearmanr(df['IncomePerCap'],df['Employed'])"
   ]
  },
  {
   "cell_type": "markdown",
   "metadata": {},
   "source": [
    "- Spearman rank coorrelation is also significant, and slightly higher"
   ]
  },
  {
   "cell_type": "markdown",
   "metadata": {},
   "source": [
    "### 4. Hypothesis testing"
   ]
  },
  {
   "cell_type": "markdown",
   "metadata": {},
   "source": [
    "- Is income per capita higher in New York counties compared to California counties?"
   ]
  },
  {
   "cell_type": "code",
   "execution_count": 13,
   "metadata": {},
   "outputs": [
    {
     "data": {
      "text/plain": [
       "28189.75806451613"
      ]
     },
     "execution_count": 13,
     "metadata": {},
     "output_type": "execute_result"
    }
   ],
   "source": [
    "df.loc[df['State'] == 'New York']['IncomePerCap'].mean()"
   ]
  },
  {
   "cell_type": "code",
   "execution_count": 14,
   "metadata": {},
   "outputs": [
    {
     "data": {
      "text/plain": [
       "27902.603448275862"
      ]
     },
     "execution_count": 14,
     "metadata": {},
     "output_type": "execute_result"
    }
   ],
   "source": [
    "df.loc[df['State'] == 'California']['IncomePerCap'].mean()"
   ]
  },
  {
   "cell_type": "markdown",
   "metadata": {},
   "source": [
    "- We see that there is a ~300$ gap. Quite a lot!\n",
    "- But is it significantly higher? Let's use a t-test. This is a two-sided test for the null hypothesis that the two independent samples have identical average (expected) values. "
   ]
  },
  {
   "cell_type": "code",
   "execution_count": 15,
   "metadata": {},
   "outputs": [
    {
     "data": {
      "text/plain": [
       "Ttest_indResult(statistic=0.19788117232375713, pvalue=0.8434785239169611)"
      ]
     },
     "execution_count": 15,
     "metadata": {},
     "output_type": "execute_result"
    }
   ],
   "source": [
    "stats.ttest_ind(df.loc[df['State'] == 'New York']['IncomePerCap'], df.loc[df['State'] == 'California']['IncomePerCap'])"
   ]
  },
  {
   "cell_type": "markdown",
   "metadata": {},
   "source": [
    "- p is not less than 0.05 -> we cannot reject the null hypothesis that the income is the same -> there is no significant difference"
   ]
  },
  {
   "cell_type": "markdown",
   "metadata": {},
   "source": [
    "### 5. How to measure uncertainty\n",
    "- Now we see the importance of mesuring uncertainty and indicating it on data visualizations.\n",
    "- Visual inspection of 95% confidence intervals lets us see that the difference is not significant (the errorbars are overlapping)"
   ]
  },
  {
   "cell_type": "code",
   "execution_count": 16,
   "metadata": {},
   "outputs": [
    {
     "data": {
      "text/plain": [
       "(25000, 32000)"
      ]
     },
     "execution_count": 16,
     "metadata": {},
     "output_type": "execute_result"
    },
    {
     "data": {
      "image/png": "[encoded data removed]",
      "text/plain": [
       "<Figure size 432x288 with 1 Axes>"
      ]
     },
     "metadata": {},
     "output_type": "display_data"
    }
   ],
   "source": [
    "ax = sns.barplot(x=\"State\", y=\"IncomePerCap\", data=df.loc[df['State'].isin(['New York','California'])])\n",
    "plt.ylim([25000,32000])"
   ]
  },
  {
   "cell_type": "markdown",
   "metadata": {},
   "source": [
    "# Exercise 1: Boosting the economy by incentivizing self-employment\n",
    "\n",
    "Assume the biggest priority of the local government in 2018 is to increase per-capita income. To do so, the officials plan to adopt a strategy for incentivizing self-employment through a series of campaigns, educational programs, and dedicated funds.\n",
    "\n",
    "Since it is unethical and impossible in this setting to run a controlled experiment involving citizens (e.g., fire employees and force them to self-employ), the officials have asked you, the data scientist, to establish the effect of self-employment on the economy, relying on observational data.\n",
    "\n",
    "**A)** Using suitable methods, determine and quantify the dependency between the percentage of self-employed citizens and per capita income across all 3,212 US counties. Do citizens in counties that have a higher percentage of self-employed people earn more per capita?"
   ]
  },
  {
   "cell_type": "code",
   "execution_count": 17,
   "metadata": {
    "collapsed": true
   },
   "outputs": [],
   "source": [
    "# there is no clear dependency, very small positive correlation."
   ]
  },
  {
   "cell_type": "code",
   "execution_count": 18,
   "metadata": {},
   "outputs": [
    {
     "data": {
      "text/plain": [
       "Text(-8.7,0.5,'Income per Capita [$]')"
      ]
     },
     "execution_count": 18,
     "metadata": {},
     "output_type": "execute_result"
    },
    {
     "data": {
      "image/png": "[encoded data removed]",
      "text/plain": [
       "<Figure size 360x360 with 1 Axes>"
      ]
     },
     "metadata": {},
     "output_type": "display_data"
    }
   ],
   "source": [
    "import seaborn as sn\n",
    "\n",
    "per_capita_self_empl = df[['State','IncomePerCap', 'SelfEmployed']]\n",
    "sn.lmplot('SelfEmployed','IncomePerCap', data=per_capita_self_empl)\n",
    "plt.xlabel(\"Percentage of Self Employed people [%]\")\n",
    "plt.ylabel(\"Income per Capita [$]\")"
   ]
  },
  {
   "cell_type": "code",
   "execution_count": 19,
   "metadata": {},
   "outputs": [
    {
     "name": "stdout",
     "output_type": "stream",
     "text": [
      "(0.08727386609551786, 7.052861196511526e-07)\n"
     ]
    }
   ],
   "source": [
    "print(stats.pearsonr(per_capita_self_empl['SelfEmployed'],per_capita_self_empl['IncomePerCap']))"
   ]
  },
  {
   "cell_type": "markdown",
   "metadata": {},
   "source": [
    "**B)** The pilot program will involve all counties within a limited set of three US states. Set A includes Wisconsin, Tennessee, and  Minnesota. Quantify the dependency of per-capita income on self-employment rates across all the counties in set A."
   ]
  },
  {
   "cell_type": "code",
   "execution_count": 20,
   "metadata": {
    "collapsed": true
   },
   "outputs": [],
   "source": [
    "# very weak negative dependency, almost no dependency."
   ]
  },
  {
   "cell_type": "code",
   "execution_count": 21,
   "metadata": {},
   "outputs": [
    {
     "data": {
      "text/plain": [
       "(0, 22)"
      ]
     },
     "execution_count": 21,
     "metadata": {},
     "output_type": "execute_result"
    },
    {
     "data": {
      "image/png": "[encoded data removed]",
      "text/plain": [
       "<Figure size 360x360 with 1 Axes>"
      ]
     },
     "metadata": {},
     "output_type": "display_data"
    }
   ],
   "source": [
    "SetA_per_capita_self_empl = per_capita_self_empl.query(\"State == 'Wisconsin' | \\\n",
    "                                                        State == 'Tennessee' | \\\n",
    "                                                        State == 'Minnesota' \") \n",
    "\n",
    "sn.lmplot('SelfEmployed','IncomePerCap', data=SetA_per_capita_self_empl)\n",
    "plt.xlabel(\"Percentage of Self Employed people [%]\")\n",
    "plt.ylabel(\"Income per Capita [$]\")\n",
    "plt.ylim([10000,50000])\n",
    "plt.xlim([0,22])"
   ]
  },
  {
   "cell_type": "code",
   "execution_count": 22,
   "metadata": {},
   "outputs": [
    {
     "name": "stdout",
     "output_type": "stream",
     "text": [
      "(-0.20229350736521498, 0.0011881639322138852)\n"
     ]
    }
   ],
   "source": [
    "print(stats.pearsonr(SetA_per_capita_self_empl['SelfEmployed'],SetA_per_capita_self_empl['IncomePerCap']))"
   ]
  },
  {
   "cell_type": "markdown",
   "metadata": {},
   "source": [
    "**C)** In which state within set A is the observed effect of self-employment on per-capita income the strongest?"
   ]
  },
  {
   "cell_type": "code",
   "execution_count": 23,
   "metadata": {
    "collapsed": true
   },
   "outputs": [],
   "source": [
    "# In Wisconsin, the nagative dependency is the strongest."
   ]
  },
  {
   "cell_type": "code",
   "execution_count": 24,
   "metadata": {},
   "outputs": [
    {
     "data": {
      "text/plain": [
       "(0, 22)"
      ]
     },
     "execution_count": 24,
     "metadata": {},
     "output_type": "execute_result"
    },
    {
     "data": {
      "image/png": "[encoded data removed]",
      "text/plain": [
       "<Figure size 449.734x360 with 1 Axes>"
      ]
     },
     "metadata": {},
     "output_type": "display_data"
    }
   ],
   "source": [
    "sn.lmplot('SelfEmployed','IncomePerCap', data=SetA_per_capita_self_empl, hue = 'State')\n",
    "plt.xlabel(\"Percentage of Self Employed people [%]\")\n",
    "plt.ylabel(\"Income per Capita [$]\")\n",
    "plt.ylim([10000,50000])\n",
    "plt.xlim([0,22])"
   ]
  },
  {
   "cell_type": "code",
   "execution_count": 25,
   "metadata": {},
   "outputs": [
    {
     "name": "stdout",
     "output_type": "stream",
     "text": [
      "(-0.32905300016378525, 0.004768134887745234)\n",
      "(-0.23836048684913141, 0.020011631955528197)\n",
      "(-0.2538551921654062, 0.017665199300911965)\n"
     ]
    }
   ],
   "source": [
    "Wisconsin_per_capita_self_empl = SetA_per_capita_self_empl.query(\"State == 'Wisconsin'\") \n",
    "Tennessee_per_capita_self_empl = SetA_per_capita_self_empl.query(\"State == 'Tennessee'\") \n",
    "Minnesota_per_capita_self_empl = SetA_per_capita_self_empl.query(\"State == 'Minnesota'\") \n",
    "\n",
    "print(stats.pearsonr(Wisconsin_per_capita_self_empl['SelfEmployed'],Wisconsin_per_capita_self_empl['IncomePerCap']))\n",
    "print(stats.pearsonr(Tennessee_per_capita_self_empl['SelfEmployed'],Tennessee_per_capita_self_empl['IncomePerCap']))\n",
    "print(stats.pearsonr(Minnesota_per_capita_self_empl['SelfEmployed'],Minnesota_per_capita_self_empl['IncomePerCap']))"
   ]
  },
  {
   "cell_type": "markdown",
   "metadata": {},
   "source": [
    "**D)** Set B includes New Jersey, Kansas, and Rhode Island. Repeat the analysis from steps B and C above, but now for set B. In which of the two sets A and B (if any) would you recommend incentivizing self-employment? Explain your reasoning. Hint: It is useful to add a notion of confidence to your results and explore the data visually."
   ]
  },
  {
   "cell_type": "code",
   "execution_count": 26,
   "metadata": {
    "collapsed": true
   },
   "outputs": [],
   "source": [
    "# There is a weak negative dependency overall, moderate to strong positive when disaggregated.\n",
    "# This is a Simpson’s Paradox: the effect is reversed when the data is aggregated.\n",
    "# We would recommend in set B, not in set A (there is significant positive correlation within\n",
    "# all states separately in set B)."
   ]
  },
  {
   "cell_type": "code",
   "execution_count": 27,
   "metadata": {},
   "outputs": [
    {
     "data": {
      "text/plain": [
       "(0, 25)"
      ]
     },
     "execution_count": 27,
     "metadata": {},
     "output_type": "execute_result"
    },
    {
     "data": {
      "image/png": "[encoded data removed]",
      "text/plain": [
       "<Figure size 360x360 with 1 Axes>"
      ]
     },
     "metadata": {},
     "output_type": "display_data"
    }
   ],
   "source": [
    "SetB_per_capita_self_empl = per_capita_self_empl.query(\"State == 'New Jersey' | \\\n",
    "                                                        State == 'Kansas' | \\\n",
    "                                                        State == 'Rhode Island' \") \n",
    "\n",
    "sn.lmplot('SelfEmployed','IncomePerCap', data=SetB_per_capita_self_empl)\n",
    "plt.xlabel(\"Percentage of Self Employed people [%]\")\n",
    "plt.ylabel(\"Income per Capita [$]\")\n",
    "plt.ylim([10000,60000])\n",
    "plt.xlim([0,25])"
   ]
  },
  {
   "cell_type": "code",
   "execution_count": 28,
   "metadata": {},
   "outputs": [
    {
     "name": "stdout",
     "output_type": "stream",
     "text": [
      "(-0.2322214134608569, 0.007607493042857412)\n"
     ]
    }
   ],
   "source": [
    "print(stats.pearsonr(SetB_per_capita_self_empl['SelfEmployed'],SetB_per_capita_self_empl['IncomePerCap']))"
   ]
  },
  {
   "cell_type": "code",
   "execution_count": 29,
   "metadata": {},
   "outputs": [
    {
     "data": {
      "text/plain": [
       "(0, 25)"
      ]
     },
     "execution_count": 29,
     "metadata": {},
     "output_type": "execute_result"
    },
    {
     "data": {
      "image/png": "[encoded data removed]",
      "text/plain": [
       "<Figure size 460.75x360 with 1 Axes>"
      ]
     },
     "metadata": {},
     "output_type": "display_data"
    }
   ],
   "source": [
    "sn.lmplot('SelfEmployed','IncomePerCap', data=SetB_per_capita_self_empl, hue = 'State')\n",
    "plt.xlabel(\"Percentage of Self Employed people [%]\")\n",
    "plt.ylabel(\"Income per Capita [$]\")\n",
    "plt.ylim([10000,60000])\n",
    "plt.xlim([0,25])"
   ]
  },
  {
   "cell_type": "code",
   "execution_count": 30,
   "metadata": {
    "collapsed": true
   },
   "outputs": [],
   "source": [
    "NJ_per_capita_self_empl = SetB_per_capita_self_empl.query(\"State == 'New Jersey'\") \n",
    "Kansas_per_capita_self_empl = SetB_per_capita_self_empl.query(\"State == 'Kansas'\")\n",
    "RI_per_capita_self_empl = SetB_per_capita_self_empl.query(\"State == 'Rhode Island'\") "
   ]
  },
  {
   "cell_type": "code",
   "execution_count": 31,
   "metadata": {},
   "outputs": [
    {
     "name": "stdout",
     "output_type": "stream",
     "text": [
      "(0.4804478471336282, 0.027488944757806204)\n",
      "(0.25810299714436913, 0.007853351846832446)\n",
      "(0.9021788382149803, 0.036183102015759236)\n"
     ]
    }
   ],
   "source": [
    "print(stats.pearsonr(NJ_per_capita_self_empl['SelfEmployed'],NJ_per_capita_self_empl['IncomePerCap']))\n",
    "print(stats.pearsonr(Kansas_per_capita_self_empl['SelfEmployed'],Kansas_per_capita_self_empl['IncomePerCap']))\n",
    "print(stats.pearsonr(RI_per_capita_self_empl['SelfEmployed'],RI_per_capita_self_empl['IncomePerCap']))"
   ]
  },
  {
   "cell_type": "markdown",
   "metadata": {},
   "source": [
    "# Exercise 2. Data visualization and read the stats comprehension and interpretation questions.\n",
    "\n",
    "- As part of the two homeworks and the final exam, you will be at times asked to interpret your result based on the understanding of underlying concepts. The questions below can help you practice and get a sense of how well you understand the concepts covered in the class so far. Can you answer these questions confidently?"
   ]
  },
  {
   "cell_type": "markdown",
   "metadata": {},
   "source": [
    "### Question 1. The yearly salaries (in thousands of CHF) of 7000 people are summarized in the following box plot. If the 20th percentile of the salaries is 110,000, how many people earn between 110,000 and 114,000?\n",
    "\n",
    "- a) 2100\n",
    "- b) 700\n",
    "- c) 350\n",
    "- d) 70"
   ]
  },
  {
   "cell_type": "markdown",
   "metadata": {},
   "source": [
    "<img src=\"boxplot.png\" style=\"width: 400px;\" align=\"left\"/>"
   ]
  },
  {
   "cell_type": "code",
   "execution_count": 32,
   "metadata": {
    "collapsed": true
   },
   "outputs": [],
   "source": [
    "# The correct answer: c) 350. We read from boxplot that 114,00 is the 25th percentile. If 110,000 is the 20th\n",
    "# percentile, 5% of data is between, 0.05*7000 = 350 persons."
   ]
  },
  {
   "cell_type": "markdown",
   "metadata": {},
   "source": [
    "### Question 2. What visualizations are suitable for getting insights about the distribution of a single continuous variable?\n",
    "\n",
    "- a) Barplot and histogram\n",
    "- b) Boxplot and histogram\n",
    "- c) Scatterplot and boxplot\n",
    "- d) Barplot, boxplot, and histogram"
   ]
  },
  {
   "cell_type": "code",
   "execution_count": 33,
   "metadata": {
    "collapsed": true
   },
   "outputs": [],
   "source": [
    "# The correct answer: b) boxplot and histogram"
   ]
  },
  {
   "cell_type": "markdown",
   "metadata": {},
   "source": [
    "### Question 3. In a new groundbreaking study, 28 out of 100 patients reported improvements after taking a new medicine. It is known that, when given a placebo, 20% of the patients report feeling better. What is the p-value assuming the null hypothesis that the probability of successful treatment in this groundbreaking study is the same as the probability of reporting feeling better under placebo, according to a one-sided binomial test? Hint: you may use the statsmodels.stats.proportion.binom_test function.\n",
    "\n",
    "- a) 0.00034\n",
    "- b) 0.0034\n",
    "- c) 0.034\n",
    "- d) 0.34"
   ]
  },
  {
   "cell_type": "code",
   "execution_count": 34,
   "metadata": {
    "collapsed": true
   },
   "outputs": [],
   "source": [
    "# The correct answer: c) 0.034"
   ]
  },
  {
   "cell_type": "markdown",
   "metadata": {},
   "source": [
    "### Question 4. The 95% confidence interval of the average height of 1000 people using bootstrap resampling with 10000 bootstrap samples is calculated by:\n",
    "\n",
    "- a) Sampling 1000 height values with replacement and computing the mean. This is repeated 10000 times to create a sorted list of the 10000 means. The CI is defined by the 500th and the 9500th value in sorted order.\n",
    "- b) Sampling 10000 height values without replacement and computing the mean. This is repeated 1000 times to create a sorted list of the 1000 means. The CI is defined by the 25th and the 975th value in sorted order.\n",
    "- c) Sampling 1000 height values with replacement and computing the mean. This is repeated 10000 times to create a sorted list of the 10000 means. The CI is defined by the 250th and the 9750th value in sorted order.\n",
    "- d) Sampling 1000 height values without replacement and computing the mean. This is repeated 10000 times to create a sorted list of the 10000 means. The CI is defined by the 500th and the 9500th value in sorted order.\n",
    "\n",
    "### Implement your bootstrapping function that you will use in the rest of the course. It should take an array and the number of iterations as inputs, and output 95% confidence intervals of the mean."
   ]
  },
  {
   "cell_type": "code",
   "execution_count": 35,
   "metadata": {
    "collapsed": true
   },
   "outputs": [],
   "source": [
    "# The correct answer: c) Sampling 1000 height values with replacement and computing the mean.\n",
    "# This is repeated 10000 times to create a sorted list of the 10000 means. \n",
    "# The CI is defined by the 250th and the 9750th value in sorted order."
   ]
  },
  {
   "cell_type": "markdown",
   "metadata": {},
   "source": [
    "### Question 5. A study conducted at EPFL revealed a negative Spearman’s correlation between GPA and entry-level job salary. Which of the following statements is true?\n",
    "\n",
    "- a) There could be a positive Spearman’s correlation between GPA and entry-level job salary in every single department of EPFL.\n",
    "- b) Spearman correlation between GPA and entry-level job salary in every single department has to be positive.\n",
    "- c) Across all levels, as opposed to entry-level only, higher GPA scores are associated with higher job salaries.\n",
    "- d) We can infer that finishing EPFL with a higher GPA causes you to have a lower entry-level job salary."
   ]
  },
  {
   "cell_type": "code",
   "execution_count": 36,
   "metadata": {
    "collapsed": true
   },
   "outputs": [],
   "source": [
    "# The correct answer: a) There could be a positive Spearman’s correlation \n",
    "# between GPA and entry-level job salary in every single department of EPFL."
   ]
  },
  {
   "cell_type": "markdown",
   "metadata": {},
   "source": [
    "### Question 6. The average number of requests per page during a day on a large website is 200, while the median is 15. \n",
    "\n",
    "- a) You can assume that the distribution is heavy-tailed\n",
    "- b) You are dealing with a left-skewed distribution\n",
    "- c) Half of the pages get more than 200 requests\n",
    "- d) None of the above"
   ]
  },
  {
   "cell_type": "code",
   "execution_count": 37,
   "metadata": {
    "collapsed": true
   },
   "outputs": [],
   "source": [
    "# The correct answer: d) None of the above. The data is not necessarily heavy-tailed nor skewed, a signle outlier\n",
    "# could shift the average."
   ]
  },
  {
   "cell_type": "code",
   "execution_count": null,
   "metadata": {
    "collapsed": true
   },
   "outputs": [],
   "source": []
  },
  {
   "cell_type": "code",
   "execution_count": null,
   "metadata": {
    "collapsed": true
   },
   "outputs": [],
   "source": []
  },
  {
   "cell_type": "code",
   "execution_count": null,
   "metadata": {
    "collapsed": true
   },
   "outputs": [],
   "source": []
  },
  {
   "cell_type": "code",
   "execution_count": null,
   "metadata": {
    "collapsed": true
   },
   "outputs": [],
   "source": []
  },
  {
   "cell_type": "code",
   "execution_count": null,
   "metadata": {
    "collapsed": true
   },
   "outputs": [],
   "source": []
  },
  {
   "cell_type": "code",
   "execution_count": null,
   "metadata": {
    "collapsed": true
   },
   "outputs": [],
   "source": []
  },
  {
   "cell_type": "code",
   "execution_count": null,
   "metadata": {
    "collapsed": true
   },
   "outputs": [],
   "source": []
  },
  {
   "cell_type": "code",
   "execution_count": null,
   "metadata": {
    "collapsed": true
   },
   "outputs": [],
   "source": []
  },
  {
   "cell_type": "code",
   "execution_count": null,
   "metadata": {
    "collapsed": true
   },
   "outputs": [],
   "source": []
  }
 ],
 "metadata": {
  "kernelspec": {
   "display_name": "Python 3",
   "language": "python",
   "name": "python3"
  },
  "language_info": {
   "codemirror_mode": {
    "name": "ipython",
    "version": 3
   },
   "file_extension": ".py",
   "mimetype": "text/x-python",
   "name": "python",
   "nbconvert_exporter": "python",
   "pygments_lexer": "ipython3",
   "version": "3.6.3"
  },
  "varInspector": {
   "cols": {
    "lenName": 16,
    "lenType": 16,
    "lenVar": 40
   },
   "kernels_config": {
    "python": {
     "delete_cmd_postfix": "",
     "delete_cmd_prefix": "del ",
     "library": "var_list.py",
     "varRefreshCmd": "print(var_dic_list())"
    },
    "r": {
     "delete_cmd_postfix": ") ",
     "delete_cmd_prefix": "rm(",
     "library": "var_list.r",
     "varRefreshCmd": "cat(var_dic_list()) "
    }
   },
   "types_to_exclude": [
    "module",
    "function",
    "builtin_function_or_method",
    "instance",
    "_Feature"
   ],
   "window_display": false
  }
 },
 "nbformat": 4,
 "nbformat_minor": 2
}
