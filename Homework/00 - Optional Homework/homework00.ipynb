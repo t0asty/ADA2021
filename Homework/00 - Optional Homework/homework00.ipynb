{
 "cells": [
  {
   "cell_type": "markdown",
   "id": "a90eb204-93bd-4479-bea6-44a4aabdd160",
   "metadata": {},
   "source": [
    "Use an IPython Notebook to reproduce the following claims made in the visualization:\n",
    "- Nearly *two-thirds* of gun deaths are *suicides*.\n",
    "- More than *85 percent* of suicide victims are *male*.\n",
    "- Around *a third* of all gun deaths are *homicides*.\n",
    "- Around *two-thirds* of homicide victims who are *males* in the *age-group of 15--34* are *black*.\n",
    "- *Women* constitue only *15 percent* of the total *homicide* victims."
   ]
  },
  {
   "cell_type": "markdown",
   "id": "f9ba3d30-7a87-4673-8131-146871a82181",
   "metadata": {},
   "source": [
    "# Read in Dataset"
   ]
  },
  {
   "cell_type": "code",
   "execution_count": 10,
   "id": "0a3c3e51-2a64-40e7-89cf-99cf949bfa17",
   "metadata": {},
   "outputs": [],
   "source": [
    "def clean_string(x):\n",
    "    return x.replace('\\n', '').replace('\"','')"
   ]
  },
  {
   "cell_type": "code",
   "execution_count": 16,
   "id": "0546e163-2ad6-4242-80d2-a429cfad682f",
   "metadata": {},
   "outputs": [],
   "source": [
    "data = dict()\n",
    "data['id'] = list()\n",
    "first_line = True\n",
    "with open('./interactive_data.csv', 'r') as f:\n",
    "    for line in f.readlines():\n",
    "        # run only for the first line of the csv(header line)\n",
    "        if first_line:\n",
    "            for column_name in line.split(','):\n",
    "                column_name = clean_string(column_name)\n",
    "                if column_name != '':\n",
    "                    data[column_name] = list()\n",
    "                    first_line = False\n",
    "            column_names = list(data.keys())\n",
    "        else: # starting from line 2\n",
    "            row = [clean_string(x) for x in line.split(',')]\n",
    "            for i in range(len(row)):\n",
    "                data[column_names[i]].append(row[i])"
   ]
  },
  {
   "cell_type": "markdown",
   "id": "e56d73a2-e46e-4d70-8272-8caebf33c9c9",
   "metadata": {},
   "source": [
    "# Proving the claims\n",
    "## Nearly two-thirds of gun deaths are suicides."
   ]
  },
  {
   "cell_type": "markdown",
   "id": "69dda9c4-f15f-4882-bf1f-67f15f67e999",
   "metadata": {},
   "source": [
    "Total gun deaths:"
   ]
  },
  {
   "cell_type": "code",
   "execution_count": 19,
   "id": "20bf2fae-18ab-4727-ba6b-5b8aca71a7c1",
   "metadata": {},
   "outputs": [
    {
     "data": {
      "text/plain": [
       "33599"
      ]
     },
     "execution_count": 19,
     "metadata": {},
     "output_type": "execute_result"
    }
   ],
   "source": [
    "for i in range(len(data['id'])):\n",
    "    if data['Intent'][i] == 'None selected' and data['Gender'][i] == 'None selected' and data['Age'][i] == 'None selected' and data['Race'][i] == 'None selected':\n",
    "        total_gun_deaths = int(data['Deaths'][i])\n",
    "total_gun_deaths"
   ]
  },
  {
   "cell_type": "markdown",
   "id": "4a509185-fa10-439b-b2a7-25cd359d38d1",
   "metadata": {},
   "source": [
    "Thereof suicides:"
   ]
  },
  {
   "cell_type": "code",
   "execution_count": 20,
   "id": "dfd357cb-f6f9-414b-87d1-cb76b29d5395",
   "metadata": {},
   "outputs": [
    {
     "data": {
      "text/plain": [
       "21058"
      ]
     },
     "execution_count": 20,
     "metadata": {},
     "output_type": "execute_result"
    }
   ],
   "source": [
    "for i in range(len(data['id'])):\n",
    "    if data['Intent'][i] == 'Suicide' and data['Gender'][i] == 'None selected' and data['Age'][i] == 'None selected' and data['Race'][i] == 'None selected':\n",
    "        total_suicides = int(data['Deaths'][i])\n",
    "total_suicides"
   ]
  },
  {
   "cell_type": "markdown",
   "id": "b5190bc7-9c49-4ee0-a9d4-db65c4eafbcb",
   "metadata": {},
   "source": [
    "Ratio:"
   ]
  },
  {
   "cell_type": "code",
   "execution_count": 21,
   "id": "1e2fcd93-5c0e-415c-a737-0792a6719e06",
   "metadata": {},
   "outputs": [
    {
     "data": {
      "text/plain": [
       "0.6267448435965356"
      ]
     },
     "execution_count": 21,
     "metadata": {},
     "output_type": "execute_result"
    }
   ],
   "source": [
    "total_suicides/total_gun_deaths"
   ]
  },
  {
   "cell_type": "markdown",
   "id": "41f796b3-8a3c-44a2-989b-0258bcf95d2c",
   "metadata": {},
   "source": [
    "## More than 85 percent of suicide victims are male."
   ]
  },
  {
   "cell_type": "code",
   "execution_count": 22,
   "id": "eefe7bdb-9247-46b1-bc0a-3cece4213433",
   "metadata": {},
   "outputs": [
    {
     "data": {
      "text/plain": [
       "18162"
      ]
     },
     "execution_count": 22,
     "metadata": {},
     "output_type": "execute_result"
    }
   ],
   "source": [
    "for i in range(len(data['id'])):\n",
    "    if data['Intent'][i] == 'Suicide' and data['Gender'][i] == 'Male' and data['Age'][i] == 'None selected' and data['Race'][i] == 'None selected':\n",
    "        total_suicides_male = int(data['Deaths'][i])\n",
    "total_suicides_male"
   ]
  },
  {
   "cell_type": "code",
   "execution_count": 23,
   "id": "64a136b1-0010-4062-a0bd-827713cca694",
   "metadata": {},
   "outputs": [
    {
     "data": {
      "text/plain": [
       "0.8624750688574414"
      ]
     },
     "execution_count": 23,
     "metadata": {},
     "output_type": "execute_result"
    }
   ],
   "source": [
    "total_suicides_male/total_suicides"
   ]
  },
  {
   "cell_type": "markdown",
   "id": "4ef00255-5a36-4312-96ff-a00e1d1cfbed",
   "metadata": {},
   "source": [
    "## Around a third of all gun deaths are homicides."
   ]
  },
  {
   "cell_type": "code",
   "execution_count": 24,
   "id": "0993a7ea-fb88-404f-ae06-0d0f7332f5d9",
   "metadata": {},
   "outputs": [
    {
     "data": {
      "text/plain": [
       "11726"
      ]
     },
     "execution_count": 24,
     "metadata": {},
     "output_type": "execute_result"
    }
   ],
   "source": [
    "for i in range(len(data['id'])):\n",
    "    if data['Intent'][i] == 'Homicide' and data['Gender'][i] == 'None selected' and data['Age'][i] == 'None selected' and data['Race'][i] == 'None selected':\n",
    "        total_homicides = int(data['Deaths'][i])\n",
    "total_homicides"
   ]
  },
  {
   "cell_type": "code",
   "execution_count": 25,
   "id": "30797790-155c-4eae-b6dd-8c9e1c4dfe4c",
   "metadata": {},
   "outputs": [
    {
     "data": {
      "text/plain": [
       "0.3489984820976815"
      ]
     },
     "execution_count": 25,
     "metadata": {},
     "output_type": "execute_result"
    }
   ],
   "source": [
    "total_homicides/total_gun_deaths"
   ]
  },
  {
   "cell_type": "markdown",
   "id": "09136e42-7b15-4733-87da-002064469d8a",
   "metadata": {},
   "source": [
    "## Around two-thirds of homicide victims who are males in the age-group of 15--34 are black."
   ]
  },
  {
   "cell_type": "code",
   "execution_count": 26,
   "id": "ec7f6e42-20c3-4a7c-b8c1-04c45478c55d",
   "metadata": {},
   "outputs": [
    {
     "data": {
      "text/plain": [
       "6520"
      ]
     },
     "execution_count": 26,
     "metadata": {},
     "output_type": "execute_result"
    }
   ],
   "source": [
    "for i in range(len(data['id'])):\n",
    "    if data['Intent'][i] == 'Homicide' and data['Gender'][i] == 'Male' and data['Age'][i] == '15 - 34' and data['Race'][i] == 'None selected':\n",
    "        total_homicides_male_15to34 = int(data['Deaths'][i])\n",
    "total_homicides_male_15to34"
   ]
  },
  {
   "cell_type": "code",
   "execution_count": 27,
   "id": "e9b6aa33-807e-468d-931b-d59abf880302",
   "metadata": {},
   "outputs": [
    {
     "data": {
      "text/plain": [
       "4312"
      ]
     },
     "execution_count": 27,
     "metadata": {},
     "output_type": "execute_result"
    }
   ],
   "source": [
    "for i in range(len(data['id'])):\n",
    "    if data['Intent'][i] == 'Homicide' and data['Gender'][i] == 'Male' and data['Age'][i] == '15 - 34' and data['Race'][i] == 'Black':\n",
    "        total_homicides_male_15to34_black = int(data['Deaths'][i])\n",
    "total_homicides_male_15to34_black"
   ]
  },
  {
   "cell_type": "code",
   "execution_count": 28,
   "id": "e8c1a1bb-e1ea-4722-9ea7-a1cff1f3702a",
   "metadata": {},
   "outputs": [
    {
     "data": {
      "text/plain": [
       "0.6613496932515337"
      ]
     },
     "execution_count": 28,
     "metadata": {},
     "output_type": "execute_result"
    }
   ],
   "source": [
    "total_homicides_male_15to34_black/total_homicides_male_15to34"
   ]
  },
  {
   "cell_type": "markdown",
   "id": "2bee4e01-1b6a-47a6-8ea1-77307d9f7302",
   "metadata": {},
   "source": [
    "## Women constitue only 15 percent of the total homicide victims."
   ]
  },
  {
   "cell_type": "code",
   "execution_count": 29,
   "id": "a9c1b7d5-e5c9-49b7-910b-be377450d7de",
   "metadata": {},
   "outputs": [
    {
     "data": {
      "text/plain": [
       "1791"
      ]
     },
     "execution_count": 29,
     "metadata": {},
     "output_type": "execute_result"
    }
   ],
   "source": [
    "for i in range(len(data['id'])):\n",
    "    if data['Intent'][i] == 'Homicide' and data['Gender'][i] == 'Female' and data['Age'][i] == 'None selected' and data['Race'][i] == 'None selected':\n",
    "        total_homicides_female = int(data['Deaths'][i])\n",
    "total_homicides_female"
   ]
  },
  {
   "cell_type": "code",
   "execution_count": 30,
   "id": "d2737ca0-8581-4866-910f-23f4ff16ef68",
   "metadata": {},
   "outputs": [
    {
     "data": {
      "text/plain": [
       "0.15273750639604297"
      ]
     },
     "execution_count": 30,
     "metadata": {},
     "output_type": "execute_result"
    }
   ],
   "source": [
    "total_homicides_female/total_homicides"
   ]
  },
  {
   "cell_type": "code",
   "execution_count": null,
   "id": "7642c122-07a9-4263-89b2-290a1ec6c687",
   "metadata": {},
   "outputs": [],
   "source": []
  }
 ],
 "metadata": {
  "kernelspec": {
   "display_name": "Python [conda env:ada] *",
   "language": "python",
   "name": "conda-env-ada-py"
  },
  "language_info": {
   "codemirror_mode": {
    "name": "ipython",
    "version": 3
   },
   "file_extension": ".py",
   "mimetype": "text/x-python",
   "name": "python",
   "nbconvert_exporter": "python",
   "pygments_lexer": "ipython3",
   "version": "3.8.11"
  }
 },
 "nbformat": 4,
 "nbformat_minor": 5
}
